{
 "cells": [
  {
   "cell_type": "markdown",
   "metadata": {
    "colab_type": "text",
    "id": "view-in-github"
   },
   "source": [
    "<a href=\"https://colab.research.google.com/github/Tessellate-Imaging/monk_v1/blob/master/study_roadmaps/1_getting_started_roadmap/3_acceptable_data_types_in_monk/2)%20Single%20label%20-%20Data%20with%20labels%20in%20CSV%20file.ipynb\" target=\"_parent\"><img src=\"https://colab.research.google.com/assets/colab-badge.svg\" alt=\"Open In Colab\"/></a>"
   ]
  },
  {
   "cell_type": "code",
   "execution_count": null,
   "metadata": {},
   "outputs": [],
   "source": []
  },
  {
   "cell_type": "code",
   "execution_count": null,
   "metadata": {},
   "outputs": [],
   "source": []
  },
  {
   "cell_type": "markdown",
   "metadata": {},
   "source": [
    "# Goals\n",
    "\n",
    "### 1. Understand what single label image classifications is\n",
    "        - One label per image\n",
    "\n",
    "### 2. Understand single label - csv type data structure"
   ]
  },
  {
   "cell_type": "code",
   "execution_count": null,
   "metadata": {},
   "outputs": [],
   "source": []
  },
  {
   "cell_type": "code",
   "execution_count": null,
   "metadata": {},
   "outputs": [],
   "source": []
  },
  {
   "cell_type": "markdown",
   "metadata": {},
   "source": [
    "## Table of Contents\n",
    "\n",
    "\n",
    "## [Install](#0)\n",
    "\n",
    "\n",
    "## [Load train data - csv type](#1)\n",
    "\n",
    "\n",
    "## [Understand experiment data-summary](#2)\n",
    "\n",
    "\n",
    "## [Load val data along with train data](#3)\n",
    "\n",
    "\n",
    "## [Understand experiment data-summary](#4)"
   ]
  },
  {
   "cell_type": "code",
   "execution_count": null,
   "metadata": {},
   "outputs": [],
   "source": []
  },
  {
   "cell_type": "markdown",
   "metadata": {},
   "source": [
    "<a id='0'></a>\n",
    "# Install Monk"
   ]
  },
  {
   "cell_type": "markdown",
   "metadata": {},
   "source": [
    "## Using pip (Recommended)\n",
    "\n",
    "  - colab (gpu) \n",
    "      - All bakcends: `pip install -U monk-colab`\n",
    "      \n",
    "\n",
    "  - kaggle (gpu) \n",
    "      - All backends: `pip install -U monk-kaggle`\n",
    "      \n",
    "\n",
    "  - cuda 10.2\t\n",
    "      - All backends: `pip install -U monk-cuda102`\n",
    "      - Gluon bakcned: `pip install -U monk-gluon-cuda102`\n",
    "\t  - Pytorch backend: `pip install -U monk-pytorch-cuda102`\n",
    "      - Keras backend: `pip install -U monk-keras-cuda102`\n",
    "      \n",
    "\n",
    "  - cuda 10.1\t\n",
    "      - All backend: `pip install -U monk-cuda101`\n",
    "\t  - Gluon bakcned: `pip install -U monk-gluon-cuda101`\n",
    "\t  - Pytorch backend: `pip install -U monk-pytorch-cuda101`\n",
    "\t  - Keras backend: `pip install -U monk-keras-cuda101`\n",
    "      \n",
    "\n",
    "  - cuda 10.0\t\n",
    "      - All backend: `pip install -U monk-cuda100`\n",
    "\t  - Gluon bakcned: `pip install -U monk-gluon-cuda100`\n",
    "\t  - Pytorch backend: `pip install -U monk-pytorch-cuda100`\n",
    "\t  - Keras backend: `pip install -U monk-keras-cuda100`\n",
    "      \n",
    "\n",
    "  - cuda 9.2\t\n",
    "      - All backend: `pip install -U monk-cuda92`\n",
    "\t  - Gluon bakcned: `pip install -U monk-gluon-cuda92`\n",
    "\t  - Pytorch backend: `pip install -U monk-pytorch-cuda92`\n",
    "\t  - Keras backend: `pip install -U monk-keras-cuda92`\n",
    "      \n",
    "\n",
    "  - cuda 9.0\t\n",
    "      - All backend: `pip install -U monk-cuda90`\n",
    "\t  - Gluon bakcned: `pip install -U monk-gluon-cuda90`\n",
    "\t  - Pytorch backend: `pip install -U monk-pytorch-cuda90`\n",
    "\t  - Keras backend: `pip install -U monk-keras-cuda90`\n",
    "      \n",
    "\n",
    "  - cpu \t\t\n",
    "      - All backend: `pip install -U monk-cpu`\n",
    "\t  - Gluon bakcned: `pip install -U monk-gluon-cpu`\n",
    "\t  - Pytorch backend: `pip install -U monk-pytorch-cpu`\n",
    "\t  - Keras backend: `pip install -U monk-keras-cpu`"
   ]
  },
  {
   "cell_type": "code",
   "execution_count": null,
   "metadata": {},
   "outputs": [],
   "source": []
  },
  {
   "cell_type": "markdown",
   "metadata": {},
   "source": [
    "## Install Monk Manually (Not recommended)\n",
    " \n",
    "### Step 1: Clone the library\n",
    " - git clone https://github.com/Tessellate-Imaging/monk_v1.git\n",
    " \n",
    " \n",
    " \n",
    " \n",
    "### Step 2: Install requirements \n",
    " - Linux\n",
    "     - Cuda 9.0\n",
    "         - `cd monk_v1/installation/Linux && pip install -r requirements_cu90.txt`\n",
    "     - Cuda 9.2\n",
    "         - `cd monk_v1/installation/Linux && pip install -r requirements_cu92.txt`\n",
    "     - Cuda 10.0\n",
    "         - `cd monk_v1/installation/Linux && pip install -r requirements_cu100.txt`\n",
    "     - Cuda 10.1\n",
    "         - `cd monk_v1/installation/Linux && pip install -r requirements_cu101.txt`\n",
    "     - Cuda 10.2\n",
    "         - `cd monk_v1/installation/Linux && pip install -r requirements_cu102.txt`\n",
    "     - CPU (Non gpu system)\n",
    "         - `cd monk_v1/installation/Linux && pip install -r requirements_cpu.txt`\n",
    " \n",
    " \n",
    "  - Windows\n",
    "     - Cuda 9.0 (Experimental support)\n",
    "         - `cd monk_v1/installation/Windows && pip install -r requirements_cu90.txt`\n",
    "     - Cuda 9.2 (Experimental support)\n",
    "         - `cd monk_v1/installation/Windows && pip install -r requirements_cu92.txt`\n",
    "     - Cuda 10.0 (Experimental support)\n",
    "         - `cd monk_v1/installation/Windows && pip install -r requirements_cu100.txt`\n",
    "     - Cuda 10.1 (Experimental support)\n",
    "         - `cd monk_v1/installation/Windows && pip install -r requirements_cu101.txt`\n",
    "     - Cuda 10.2 (Experimental support)\n",
    "         - `cd monk_v1/installation/Windows && pip install -r requirements_cu102.txt`\n",
    "     - CPU (Non gpu system)\n",
    "         - `cd monk_v1/installation/Windows && pip install -r requirements_cpu.txt`\n",
    "         \n",
    "         \n",
    "  - Mac\n",
    "     - CPU (Non gpu system)\n",
    "         - `cd monk_v1/installation/Mac && pip install -r requirements_cpu.txt`\n",
    "         \n",
    "         \n",
    "  - Misc\n",
    "      - Colab (GPU)\n",
    "          - `cd monk_v1/installation/Misc && pip install -r requirements_colab.txt`\n",
    "      - Kaggle (GPU)\n",
    "          - `cd monk_v1/installation/Misc && pip install -r requirements_kaggle.txt`\n",
    " \n",
    " \n",
    " \n",
    "### Step 3: Add to system path (Required for every terminal or kernel run)\n",
    " - `import sys`\n",
    " - `sys.path.append(\"monk_v1/\");`"
   ]
  },
  {
   "cell_type": "code",
   "execution_count": null,
   "metadata": {},
   "outputs": [],
   "source": []
  },
  {
   "cell_type": "markdown",
   "metadata": {},
   "source": [
    "# Imports"
   ]
  },
  {
   "cell_type": "code",
   "execution_count": 1,
   "metadata": {},
   "outputs": [],
   "source": [
    "#Using gluon backend \n",
    "\n",
    "# When installed using pip\n",
    "from monk.gluon_prototype import prototype\n",
    "\n",
    "\n",
    "# When installed manually (Uncomment the following)\n",
    "#import os\n",
    "#import sys\n",
    "#sys.path.append(\"monk_v1/\");\n",
    "#sys.path.append(\"monk_v1/monk/\");\n",
    "#from monk.gluon_prototype import prototype"
   ]
  },
  {
   "cell_type": "code",
   "execution_count": null,
   "metadata": {},
   "outputs": [],
   "source": []
  },
  {
   "cell_type": "markdown",
   "metadata": {},
   "source": [
    "## Creating and managing experiments\n",
    "    - Provide project name\n",
    "    - Provide experiment name"
   ]
  },
  {
   "cell_type": "code",
   "execution_count": 2,
   "metadata": {},
   "outputs": [
    {
     "name": "stdout",
     "output_type": "stream",
     "text": [
      "Mxnet Version: 1.5.1\n",
      "\n",
      "Experiment Details\n",
      "    Project: Dataset-Type\n",
      "    Experiment: exp-csv\n",
      "    Dir: /home/ubuntu/Desktop/monk_pip_test/monk_v1/study_roadmaps/1_getting_started_roadmap/3_acceptable_data_types_in_monk/workspace/Dataset-Type/exp-csv/\n",
      "\n"
     ]
    }
   ],
   "source": [
    "gtf = prototype(verbose=1);\n",
    "gtf.Prototype(\"Dataset-Type\", \"exp-csv\");"
   ]
  },
  {
   "cell_type": "markdown",
   "metadata": {},
   "source": [
    "### This creates files and directories as per the following structure\n",
    "    \n",
    "    \n",
    "    workspace\n",
    "        |\n",
    "        |--------Dataset-Type \n",
    "                        |\n",
    "                        |\n",
    "                        |-----exp-foldered \n",
    "                                    |\n",
    "                                    |-----experiment-state.json\n",
    "                                    |\n",
    "                                    |-----output\n",
    "                                            |\n",
    "                                            |------logs (All training logs and graphs saved here)\n",
    "                                            |\n",
    "                                            |------models (all trained models saved here)"
   ]
  },
  {
   "cell_type": "markdown",
   "metadata": {},
   "source": [
    "<a id='1'></a>\n",
    "# Load train data - foldered type"
   ]
  },
  {
   "cell_type": "markdown",
   "metadata": {},
   "source": [
    "## Quick mode training\n",
    "\n",
    "    - Using Default Function\n",
    "        - dataset_path\n",
    "        - model_name\n",
    "        - num_epochs\n",
    "        \n",
    "        \n",
    "## Dataset folder structure\n",
    "\n",
    "    parent_directory\n",
    "        |\n",
    "        |\n",
    "        |------train (folder can be named anything)\n",
    "                |------img1.jpg\n",
    "                |------img2.jpg\n",
    "                |------.... (and so on)\n",
    "        |\n",
    "        |------train_labels.csv (file can be named anything)\n",
    "        \n",
    "        \n",
    "    train_labels.csv has 2 columns (column names could be anything)\n",
    "        - ID                 | Labels\n",
    "          img1.jpg           |  cat\n",
    "          img2.jpg           |  dog\n",
    "          img3.jpg           |  cat\n",
    "          img4.jpg           |  dog\n",
    "                ..... (and so on)\n",
    "                \n",
    "### In similar fashion you can structure your own dataset"
   ]
  },
  {
   "cell_type": "markdown",
   "metadata": {},
   "source": [
    "### Along with providing dataset_path you now provide path_to_csv"
   ]
  },
  {
   "cell_type": "code",
   "execution_count": 3,
   "metadata": {},
   "outputs": [],
   "source": [
    "# Download dataset\n",
    "import os\n",
    "if not os.path.isfile(\"datasets.zip\"):\n",
    "    os.system(\"! wget --load-cookies /tmp/cookies.txt \\\"https://docs.google.com/uc?export=download&confirm=$(wget --save-cookies /tmp/cookies.txt --keep-session-cookies --no-check-certificate 'https://docs.google.com/uc?export=download&id=1rG-U1mS8hDU7_wM56a1kc-li_zHLtbq2' -O- | sed -rn 's/.*confirm=([0-9A-Za-z_]+).*/\\1\\n/p')&id=1rG-U1mS8hDU7_wM56a1kc-li_zHLtbq2\\\" -O datasets.zip && rm -rf /tmp/cookies.txt\")\n",
    "if not os.path.isdir(\"datasets\"):    \n",
    "    os.system(\"! unzip -qq datasets.zip\")"
   ]
  },
  {
   "cell_type": "code",
   "execution_count": 4,
   "metadata": {},
   "outputs": [
    {
     "name": "stdout",
     "output_type": "stream",
     "text": [
      "Dataset Details\n",
      "    Train path:     datasets/dataset_csv_id/train\n",
      "    Val path:       None\n",
      "    CSV train path: datasets/dataset_csv_id/train.csv\n",
      "    CSV val path:   None\n",
      "    Label Type:     single\n",
      "\n",
      "Dataset Params\n",
      "    Input Size:   224\n",
      "    Batch Size:   4\n",
      "    Data Shuffle: True\n",
      "    Processors:   8\n",
      "    Train-val split:   0.7\n",
      "    Delimiter:   ,\n",
      "\n",
      "Pre-Composed Train Transforms\n",
      "[{'RandomHorizontalFlip': {'p': 0.8}}, {'Normalize': {'mean': [0.485, 0.456, 0.406], 'std': [0.229, 0.224, 0.225]}}]\n",
      "\n",
      "Pre-Composed Val Transforms\n",
      "[{'RandomHorizontalFlip': {'p': 0.8}}, {'Normalize': {'mean': [0.485, 0.456, 0.406], 'std': [0.229, 0.224, 0.225]}}]\n",
      "\n",
      "Dataset Numbers\n",
      "    Num train images: 70\n",
      "    Num val images:   30\n",
      "    Num classes:      2\n",
      "\n",
      "Model Params\n",
      "    Model name:           resnet18_v1\n",
      "    Use Gpu:              True\n",
      "    Use pretrained:       True\n",
      "    Freeze base network:  True\n",
      "\n",
      "Model Details\n",
      "    Loading pretrained model\n",
      "    Model Loaded on device\n",
      "        Model name:                           resnet18_v1\n",
      "        Num of potentially trainable layers:  41\n",
      "        Num of actual trainable layers:       1\n",
      "\n",
      "Optimizer\n",
      "    Name:          sgd\n",
      "    Learning rate: 0.01\n",
      "    Params:        {'lr': 0.01, 'momentum': 0, 'weight_decay': 0, 'momentum_dampening_rate': 0, 'clipnorm': 0.0, 'clipvalue': 0.0}\n",
      "\n",
      "\n",
      "\n",
      "Learning rate scheduler\n",
      "    Name:   steplr\n",
      "    Params: {'step_size': 1, 'gamma': 0.98, 'last_epoch': -1}\n",
      "\n",
      "Loss\n",
      "    Name:          softmaxcrossentropy\n",
      "    Params:        {'weight': None, 'batch_axis': 0, 'axis_to_sum_over': -1, 'label_as_categories': True, 'label_smoothing': False}\n",
      "\n",
      "Training params\n",
      "    Num Epochs: 5\n",
      "\n",
      "Display params\n",
      "    Display progress:          True\n",
      "    Display progress realtime: True\n",
      "    Save Training logs:        True\n",
      "    Save Intermediate models:  True\n",
      "    Intermediate model prefix: intermediate_model_\n",
      "\n"
     ]
    },
    {
     "name": "stderr",
     "output_type": "stream",
     "text": [
      "/home/ubuntu/.virtualenvs/monk_pip_test/lib/python3.6/site-packages/monk/system/imports.py:160: UserWarning: ArgumentWarning: clipnorm and clipvalue are active only for keras in current version of Monk\n",
      "  warnings.warn(msg)\n",
      "/home/ubuntu/.virtualenvs/monk_pip_test/lib/python3.6/site-packages/monk/system/imports.py:160: UserWarning: ArgumentWarning: momentum_dampening_rate is active only for pytorch in current version of Monk\n",
      "  warnings.warn(msg)\n"
     ]
    }
   ],
   "source": [
    "gtf.Default(dataset_path=\"datasets/dataset_csv_id/train\",\n",
    "            path_to_csv=\"datasets/dataset_csv_id/train.csv\",\n",
    "            model_name=\"resnet18_v1\", \n",
    "            num_epochs=5);"
   ]
  },
  {
   "cell_type": "code",
   "execution_count": null,
   "metadata": {},
   "outputs": [],
   "source": []
  },
  {
   "cell_type": "markdown",
   "metadata": {},
   "source": [
    "<a id='2'></a>\n",
    "# Understand experiment data-summary"
   ]
  },
  {
   "cell_type": "markdown",
   "metadata": {},
   "source": [
    "    Dataset Details\n",
    "        Train path:     monk_v1/monk/system_check_tests/datasets/dataset_csv_id/train\n",
    "        Val path:       None\n",
    "        CSV train path: monk_v1/monk/system_check_tests/datasets/dataset_csv_id/train.csv\n",
    "        CSV val path:   None\n",
    "        \n",
    "        \n",
    "### Train path is mentioned and Val path is None\n",
    "\n",
    "### CSV Train path is mentioned unlike in foldered type dataset\n"
   ]
  },
  {
   "cell_type": "markdown",
   "metadata": {},
   "source": [
    "    Dataset Parameters:\n",
    "        Input Size:   224\n",
    "        Batch Size:   4\n",
    "        Shuffle:      True\n",
    "        Processors:   4\n",
    "        Num Classes:  2\n",
    "\n",
    "###  Data input size is 224 (default setting)\n",
    "###  Batch size is 4 (default setting)"
   ]
  },
  {
   "cell_type": "markdown",
   "metadata": {},
   "source": [
    "    Dataset Numbers\n",
    "        Num train images: 70\n",
    "        Num val images:   30\n",
    "        Num classes:      2\n",
    "        \n",
    "### Since val data is missing, train data is split into train and val with a ratio 70:30 rule\n",
    "    - 70% of data being used for training\n",
    "    - 30% of data being used for validation\n",
    "    \n",
    "### Auto detect number of classes"
   ]
  },
  {
   "cell_type": "code",
   "execution_count": null,
   "metadata": {},
   "outputs": [],
   "source": []
  },
  {
   "cell_type": "markdown",
   "metadata": {},
   "source": [
    "<a id='3'></a>\n",
    "# Load val data along with train data - foldered type"
   ]
  },
  {
   "cell_type": "markdown",
   "metadata": {},
   "source": [
    "## Quick mode training\n",
    "\n",
    "    - Using Default Function\n",
    "        - dataset_path\n",
    "        - model_name\n",
    "        - num_epochs\n",
    "        \n",
    "        \n",
    "## Dataset folder structure\n",
    "\n",
    "    parent_directory\n",
    "        |\n",
    "        |\n",
    "        |------train (folder can be named anything)\n",
    "                |------img1.jpg\n",
    "                |------img2.jpg\n",
    "                |------.... (and so on)\n",
    "        |\n",
    "        |------train_labels.csv (file can be named anything)\n",
    "        \n",
    "        \n",
    "    train_labels.csv has 2 columns (column names could be anything)\n",
    "        - ID                 | Labels\n",
    "          img1.jpg           |  cat\n",
    "          img2.jpg           |  dog\n",
    "          img3.jpg           |  cat\n",
    "          img4.jpg           |  dog\n",
    "                ..... (and so on)\n",
    "                \n",
    "                \n",
    "    parent_directory\n",
    "        |\n",
    "        |\n",
    "        |------val (folder can be named anything)\n",
    "                |------img1.jpg\n",
    "                |------img2.jpg\n",
    "                |------.... (and so on)\n",
    "        |\n",
    "        |------val_labels.csv (file can be named anything)\n",
    "        \n",
    "        \n",
    "    val_labels.csv has 2 columns (column names could be anything)\n",
    "        - ID                 | Labels\n",
    "          img1.jpg           |  cat\n",
    "          img2.jpg           |  dog\n",
    "          img3.jpg           |  cat\n",
    "          img4.jpg           |  dog\n",
    "                ..... (and so on)\n",
    "                \n",
    "                \n",
    "### In similar fashion you can structure your own dataset"
   ]
  },
  {
   "cell_type": "code",
   "execution_count": 5,
   "metadata": {},
   "outputs": [
    {
     "name": "stdout",
     "output_type": "stream",
     "text": [
      "Mxnet Version: 1.5.1\n",
      "\n",
      "Experiment Details\n",
      "    Project: Dataset-Type\n",
      "    Experiment: exp-csv-with-val\n",
      "    Dir: /home/ubuntu/Desktop/monk_pip_test/monk_v1/study_roadmaps/1_getting_started_roadmap/3_acceptable_data_types_in_monk/workspace/Dataset-Type/exp-csv-with-val/\n",
      "\n"
     ]
    }
   ],
   "source": [
    "gtf = prototype(verbose=1);\n",
    "gtf.Prototype(\"Dataset-Type\", \"exp-csv-with-val\");"
   ]
  },
  {
   "cell_type": "markdown",
   "metadata": {},
   "source": [
    "### Instead of providing dataset as string, provide list of strings\n",
    "        - First string: Train data path\n",
    "        - Second string: Validation data path\n",
    "        \n",
    "        \n",
    "### Alongside the same goes with path_to_csv\n",
    "        - First string: Train data csv path\n",
    "        - Second string: Validation data csv path"
   ]
  },
  {
   "cell_type": "code",
   "execution_count": 6,
   "metadata": {},
   "outputs": [
    {
     "name": "stdout",
     "output_type": "stream",
     "text": [
      "Dataset Details\n",
      "    Train path:     datasets/dataset_csv_id/train\n",
      "    Val path:       datasets/dataset_csv_id/val\n",
      "    CSV train path: datasets/dataset_csv_id/train.csv\n",
      "    CSV val path:   datasets/dataset_csv_id/val.csv\n",
      "    Label Type:     single\n",
      "\n",
      "Dataset Params\n",
      "    Input Size:   224\n",
      "    Batch Size:   4\n",
      "    Data Shuffle: True\n",
      "    Processors:   8\n",
      "    Delimiter:   ,\n",
      "\n",
      "Pre-Composed Train Transforms\n",
      "[{'RandomHorizontalFlip': {'p': 0.8}}, {'Normalize': {'mean': [0.485, 0.456, 0.406], 'std': [0.229, 0.224, 0.225]}}]\n",
      "\n",
      "Pre-Composed Val Transforms\n",
      "[{'RandomHorizontalFlip': {'p': 0.8}}, {'Normalize': {'mean': [0.485, 0.456, 0.406], 'std': [0.229, 0.224, 0.225]}}]\n",
      "\n",
      "Dataset Numbers\n",
      "    Num train images: 100\n",
      "    Num val images:   50\n",
      "    Num classes:      2\n",
      "\n",
      "Model Params\n",
      "    Model name:           resnet18_v1\n",
      "    Use Gpu:              True\n",
      "    Use pretrained:       True\n",
      "    Freeze base network:  True\n",
      "\n",
      "Model Details\n",
      "    Loading pretrained model\n",
      "    Model Loaded on device\n",
      "        Model name:                           resnet18_v1\n",
      "        Num of potentially trainable layers:  41\n",
      "        Num of actual trainable layers:       1\n",
      "\n",
      "Optimizer\n",
      "    Name:          sgd\n",
      "    Learning rate: 0.01\n",
      "    Params:        {'lr': 0.01, 'momentum': 0, 'weight_decay': 0, 'momentum_dampening_rate': 0, 'clipnorm': 0.0, 'clipvalue': 0.0}\n",
      "\n",
      "\n",
      "\n",
      "Learning rate scheduler\n",
      "    Name:   steplr\n",
      "    Params: {'step_size': 1, 'gamma': 0.98, 'last_epoch': -1}\n",
      "\n",
      "Loss\n",
      "    Name:          softmaxcrossentropy\n",
      "    Params:        {'weight': None, 'batch_axis': 0, 'axis_to_sum_over': -1, 'label_as_categories': True, 'label_smoothing': False}\n",
      "\n",
      "Training params\n",
      "    Num Epochs: 5\n",
      "\n",
      "Display params\n",
      "    Display progress:          True\n",
      "    Display progress realtime: True\n",
      "    Save Training logs:        True\n",
      "    Save Intermediate models:  True\n",
      "    Intermediate model prefix: intermediate_model_\n",
      "\n"
     ]
    }
   ],
   "source": [
    "gtf.Default(dataset_path=[\"datasets/dataset_csv_id/train\",\n",
    "                          \"datasets/dataset_csv_id/val\"],\n",
    "            path_to_csv=[\"datasets/dataset_csv_id/train.csv\",\n",
    "                         \"datasets/dataset_csv_id/val.csv\"],\n",
    "            model_name=\"resnet18_v1\", \n",
    "            num_epochs=5);"
   ]
  },
  {
   "cell_type": "code",
   "execution_count": null,
   "metadata": {},
   "outputs": [],
   "source": []
  },
  {
   "cell_type": "markdown",
   "metadata": {},
   "source": [
    "<a id='4'></a>\n",
    "# Understand experiment data-summary"
   ]
  },
  {
   "cell_type": "markdown",
   "metadata": {},
   "source": [
    "    Dataset Details\n",
    "        Train path:     monk_v1/monk/system_check_tests/datasets/dataset_csv_id/train\n",
    "        Val path:       monk_v1/monk/system_check_tests/datasets/dataset_csv_id/val\n",
    "        CSV train path: monk_v1/monk/system_check_tests/datasets/dataset_csv_id/train.csv\n",
    "        CSV val path:   monk_v1/monk/system_check_tests/datasets/dataset_csv_id/val.csv\n",
    "        \n",
    "        \n",
    "### Both Train and Val path are mentioned\n",
    "\n",
    "### Both CSV Train and val path are mentioned unlike in foldered type dataset"
   ]
  },
  {
   "cell_type": "markdown",
   "metadata": {},
   "source": [
    "    Dataset Parameters:\n",
    "        Input Size:   224\n",
    "        Batch Size:   4\n",
    "        Shuffle:      True\n",
    "        Processors:   4\n",
    "        Num Classes:  2\n",
    "\n",
    "###  Data input size is 224 (default setting)\n",
    "###  Batch size is 4 (default setting)"
   ]
  },
  {
   "cell_type": "markdown",
   "metadata": {},
   "source": [
    "    Dataset Numbers\n",
    "        Num train images: 100\n",
    "        Num val images:   50\n",
    "        Num classes:      2\n",
    "        \n",
    "### Since val data is present, train data is not split further\n",
    "    - all 100 images of data being used for training\n",
    "    - all 50 images of data being used for validation\n",
    "    \n",
    "### Auto detect number of classes"
   ]
  },
  {
   "cell_type": "code",
   "execution_count": null,
   "metadata": {},
   "outputs": [],
   "source": []
  },
  {
   "cell_type": "markdown",
   "metadata": {},
   "source": [
    "# Goals Completed\n",
    "\n",
    "### 1. Understand what single label image classifications is\n",
    "        - One label per image\n",
    "\n",
    "### 2. Understand single label - csv type data structure"
   ]
  },
  {
   "cell_type": "code",
   "execution_count": null,
   "metadata": {},
   "outputs": [],
   "source": []
  }
 ],
 "metadata": {
  "kernelspec": {
   "display_name": "Python 3",
   "language": "python",
   "name": "python3"
  },
  "language_info": {
   "codemirror_mode": {
    "name": "ipython",
    "version": 3
   },
   "file_extension": ".py",
   "mimetype": "text/x-python",
   "name": "python",
   "nbconvert_exporter": "python",
   "pygments_lexer": "ipython3",
   "version": "3.6.9"
  }
 },
 "nbformat": 4,
 "nbformat_minor": 2
}
