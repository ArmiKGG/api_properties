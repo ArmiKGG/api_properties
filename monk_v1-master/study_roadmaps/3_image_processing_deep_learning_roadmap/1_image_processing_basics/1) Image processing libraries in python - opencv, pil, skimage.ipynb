{
 "cells": [
  {
   "cell_type": "markdown",
   "metadata": {},
   "source": [
    "<a href=\"https://colab.research.google.com/github/Tessellate-Imaging/monk_v1/blob/master/study_roadmaps/3_image_processing_deep_learning_roadmap/1_image_processing_basics/1)%20Image%20processing%20libraries%20in%20python%20-%20opencv%2C%20pil%2C%20skimage.ipynb\" target=\"_parent\"><img src=\"https://colab.research.google.com/assets/colab-badge.svg\" alt=\"Open In Colab\"/></a>"
   ]
  },
  {
   "cell_type": "code",
   "execution_count": null,
   "metadata": {},
   "outputs": [],
   "source": []
  },
  {
   "cell_type": "code",
   "execution_count": null,
   "metadata": {},
   "outputs": [],
   "source": []
  },
  {
   "cell_type": "code",
   "execution_count": null,
   "metadata": {},
   "outputs": [],
   "source": []
  },
  {
   "cell_type": "code",
   "execution_count": null,
   "metadata": {},
   "outputs": [],
   "source": []
  },
  {
   "cell_type": "code",
   "execution_count": null,
   "metadata": {},
   "outputs": [],
   "source": []
  },
  {
   "cell_type": "markdown",
   "metadata": {
    "slideshow": {
     "slide_type": "fragment"
    }
   },
   "source": [
    "# Topics to cover\n",
    "\n",
    "## [0. Install](#0)\n",
    "\n",
    "\n",
    "## [1. OpenCV](#1)\n",
    "        - 1.1. What is OpenCV\n",
    "        - 1.2. Loading an image in OpenCV\n",
    "        - 1.3. Saving an image in OpenCV\n",
    "\n",
    "## [2. Python Pillow](#2)\n",
    "        - 2.1. What is Python PIL\n",
    "        - 2.2. Loading an image in PIL\n",
    "        - 2.3. Saving an image in PIL \n",
    "\n",
    "## [3. Scikit Image](#3)\n",
    "        - 3.1. What is Scikit-Image\n",
    "        - 3.2. Loading an image in Scikit-Image\n",
    "        - 3.3. Saving an image in Scikit-Image\n",
    "        \n",
    "## [4. Conversion](#4)\n",
    "        - 4.1. OpenCV <--> Numpy\n",
    "        - 4.2. PIL    <--> Numpy\n",
    "        - 4.3. Scikit <--> Numpy\n",
    "        \n",
    "## [5. Other](#5)\n",
    "        - Scipy ND-Image\n",
    "        - SimpleCV\n",
    "        - Python-ImUtils"
   ]
  },
  {
   "cell_type": "code",
   "execution_count": null,
   "metadata": {},
   "outputs": [],
   "source": []
  },
  {
   "cell_type": "markdown",
   "metadata": {},
   "source": [
    "<a id='0'></a>\n",
    "# Install Monk\n",
    "  \n",
    " - git clone https://github.com/Tessellate-Imaging/monk_v1.git\n",
    " \n",
    " - cd monk_v1/installation/Linux && pip install -r requirements_cu9.txt\n",
    "     - (Select the requirements file as per OS and CUDA version)"
   ]
  },
  {
   "cell_type": "code",
   "execution_count": 5,
   "metadata": {},
   "outputs": [
    {
     "name": "stdout",
     "output_type": "stream",
     "text": [
      "Cloning into 'monk_v1'...\n",
      "remote: Enumerating objects: 171, done.\u001b[K\n",
      "remote: Counting objects: 100% (171/171), done.\u001b[K\n",
      "remote: Compressing objects: 100% (122/122), done.\u001b[K\n",
      "remote: Total 3919 (delta 96), reused 96 (delta 48), pack-reused 3748\u001b[K\n",
      "Receiving objects: 100% (3919/3919), 114.62 MiB | 3.94 MiB/s, done.\n",
      "Resolving deltas: 100% (2363/2363), done.\n",
      "Checking out files: 100% (1471/1471), done.\n"
     ]
    }
   ],
   "source": [
    "!git clone https://github.com/Tessellate-Imaging/monk_v1.git"
   ]
  },
  {
   "cell_type": "code",
   "execution_count": null,
   "metadata": {},
   "outputs": [],
   "source": [
    "# If using Colab install using the commands below\n",
    "!cd monk_v1/installation/Misc && pip install -r requirements_colab.txt\n",
    "\n",
    "# If you want to install only necessary libraries for this tutoria\n",
    "#!cd monk_v1/installation/Misc && pip install -r requirements_img_proc.txt\n",
    "\n",
    "\n",
    "# If using Kaggle uncomment the following command\n",
    "#!cd monk_v1/installation/Misc && pip install -r requirements_kaggle.txt\n",
    "\n",
    "# Select the requirements file as per OS and CUDA version when using a local system or cloud\n",
    "#!cd monk_v1/installation/Linux && pip install -r requirements_cu9.txt"
   ]
  },
  {
   "cell_type": "code",
   "execution_count": null,
   "metadata": {},
   "outputs": [],
   "source": []
  },
  {
   "cell_type": "code",
   "execution_count": 6,
   "metadata": {},
   "outputs": [],
   "source": [
    "# Imports\n",
    "import os\n",
    "import sys\n",
    "sys.path.append(\"monk_v1/monk/\");"
   ]
  },
  {
   "cell_type": "code",
   "execution_count": 7,
   "metadata": {},
   "outputs": [],
   "source": [
    "folder_path = \"monk_v1/study_roadmaps/3_image_processing_deep_learning_roadmap/1_image_processing_basics/\""
   ]
  },
  {
   "cell_type": "code",
   "execution_count": 8,
   "metadata": {},
   "outputs": [],
   "source": [
    "%matplotlib inline"
   ]
  },
  {
   "cell_type": "code",
   "execution_count": null,
   "metadata": {},
   "outputs": [],
   "source": []
  },
  {
   "cell_type": "code",
   "execution_count": 9,
   "metadata": {},
   "outputs": [
    {
     "name": "stdout",
     "output_type": "stream",
     "text": [
      "Use slider to change slides\n"
     ]
    },
    {
     "data": {
      "application/vnd.jupyter.widget-view+json": {
       "model_id": "9f304c055a544cfb8048c08e189e8f85",
       "version_major": 2,
       "version_minor": 0
      },
      "text/plain": [
       "interactive(children=(IntSlider(value=1, description='slide_num', max=2, min=1), Output()), _dom_classes=('wid…"
      ]
     },
     "metadata": {},
     "output_type": "display_data"
    }
   ],
   "source": [
    "print(\"Use slider to change slides\")\n",
    "\n",
    "# Slide section 1\n",
    "from ipywidgets import interact, interactive, fixed, interact_manual\n",
    "import ipywidgets as widgets\n",
    "from IPython.display import display\n",
    "from PIL import Image\n",
    "\n",
    "\n",
    "sl = widgets.IntSlider(value=1, min=1, max=2);\n",
    "\n",
    "def f(slide_num):\n",
    "    img_name = folder_path + \"imgs/chapter1/slide{}.jpg\".format(slide_num);\n",
    "    img = Image.open(img_name);\n",
    "    \n",
    "    display(img);\n",
    "\n",
    "interact(f, slide_num=sl);\n"
   ]
  },
  {
   "cell_type": "code",
   "execution_count": null,
   "metadata": {},
   "outputs": [],
   "source": [
    "################################################################################################################"
   ]
  },
  {
   "cell_type": "code",
   "execution_count": null,
   "metadata": {},
   "outputs": [],
   "source": []
  },
  {
   "cell_type": "markdown",
   "metadata": {},
   "source": [
    "<a id='1'></a>\n",
    "# Open Computer Vision"
   ]
  },
  {
   "cell_type": "code",
   "execution_count": 39,
   "metadata": {},
   "outputs": [
    {
     "name": "stdout",
     "output_type": "stream",
     "text": [
      "Use slider to change slides\n"
     ]
    },
    {
     "data": {
      "application/vnd.jupyter.widget-view+json": {
       "model_id": "83e88e3973c8432c8ceef135f50cb1bc",
       "version_major": 2,
       "version_minor": 0
      },
      "text/plain": [
       "interactive(children=(IntSlider(value=3, description='slide_num', max=6, min=3), Output()), _dom_classes=('wid…"
      ]
     },
     "metadata": {},
     "output_type": "display_data"
    }
   ],
   "source": [
    "print(\"Use slider to change slides\")\n",
    "# Slide section 2\n",
    "from ipywidgets import interact, interactive, fixed, interact_manual\n",
    "import ipywidgets as widgets\n",
    "from IPython.display import display\n",
    "from PIL import Image\n",
    "\n",
    "\n",
    "sl = widgets.IntSlider(value=3, min=3, max=6);\n",
    "\n",
    "def f(slide_num):\n",
    "    img_name = folder_path + \"imgs/chapter1/slide{}.jpg\".format(slide_num);\n",
    "    img = Image.open(img_name);\n",
    "    \n",
    "    display(img);\n",
    "\n",
    "interact(f, slide_num=sl);"
   ]
  },
  {
   "cell_type": "code",
   "execution_count": null,
   "metadata": {},
   "outputs": [],
   "source": [
    "################################################################################################################"
   ]
  },
  {
   "cell_type": "code",
   "execution_count": null,
   "metadata": {},
   "outputs": [],
   "source": []
  },
  {
   "cell_type": "code",
   "execution_count": null,
   "metadata": {},
   "outputs": [],
   "source": []
  },
  {
   "cell_type": "markdown",
   "metadata": {},
   "source": [
    "## Loading an image in OpenCV\n",
    "    - Steps are\n",
    "        - Import library\n",
    "        - Load using cv2.imread"
   ]
  },
  {
   "cell_type": "code",
   "execution_count": 8,
   "metadata": {},
   "outputs": [],
   "source": [
    "#Import OpenCV\n",
    "# cv2 class object\n",
    "# cv2 acts as a master object encompassing all the functions and global parameters used in OpenCV python\n",
    "\n",
    "import cv2"
   ]
  },
  {
   "cell_type": "code",
   "execution_count": 9,
   "metadata": {},
   "outputs": [],
   "source": [
    "# cv2.imread\n",
    "# First param - image\n",
    "# Second param - will be discussed in the next section\n",
    "img = cv2.imread(folder_path + \"imgs/chapter1/tessellate.png\", -1); "
   ]
  },
  {
   "cell_type": "code",
   "execution_count": 10,
   "metadata": {},
   "outputs": [
    {
     "name": "stdout",
     "output_type": "stream",
     "text": [
      "Type of OpenCV image = <class 'numpy.ndarray'>\n"
     ]
    }
   ],
   "source": [
    "# OpenCV image is inherently a numpy object\n",
    "print(\"Type of OpenCV image = {}\".format(type(img))) "
   ]
  },
  {
   "cell_type": "code",
   "execution_count": 11,
   "metadata": {},
   "outputs": [],
   "source": [
    "# Lets see what all images can be loaded using opencv"
   ]
  },
  {
   "cell_type": "code",
   "execution_count": 40,
   "metadata": {},
   "outputs": [
    {
     "name": "stdout",
     "output_type": "stream",
     "text": [
      "Use slider to change slides\n"
     ]
    },
    {
     "data": {
      "application/vnd.jupyter.widget-view+json": {
       "model_id": "39b8a0d0d4f846f5981f95b62fc4910a",
       "version_major": 2,
       "version_minor": 0
      },
      "text/plain": [
       "interactive(children=(IntSlider(value=7, description='slide_num', max=7, min=7), Output()), _dom_classes=('wid…"
      ]
     },
     "metadata": {},
     "output_type": "display_data"
    }
   ],
   "source": [
    "print(\"Use slider to change slides\")\n",
    "\n",
    "# Slide section 3\n",
    "from ipywidgets import interact, interactive, fixed, interact_manual\n",
    "import ipywidgets as widgets\n",
    "from IPython.display import display\n",
    "from PIL import Image\n",
    "\n",
    "\n",
    "sl = widgets.IntSlider(value=7, min=7, max=7);\n",
    "\n",
    "def f(slide_num):\n",
    "    img_name = folder_path + \"imgs/chapter1/slide{}.jpg\".format(slide_num);\n",
    "    img = Image.open(img_name);\n",
    "    \n",
    "    display(img);\n",
    "\n",
    "interact(f, slide_num=sl);"
   ]
  },
  {
   "cell_type": "code",
   "execution_count": 13,
   "metadata": {},
   "outputs": [],
   "source": [
    "# To display opencv image use matplotlib \n",
    "# using inline it shows otput just below the cell\n",
    "\n",
    "from matplotlib import pyplot as plt\n",
    "import cv2\n",
    "import numpy as np\n",
    "\n",
    "img = cv2.imread(folder_path + \"imgs/chapter1/tessellate.png\", -1); "
   ]
  },
  {
   "cell_type": "code",
   "execution_count": 14,
   "metadata": {},
   "outputs": [
    {
     "data": {
      "image/png": "[encoded data removed]",
      "text/plain": [
       "<Figure size 432x288 with 1 Axes>"
      ]
     },
     "metadata": {
      "needs_background": "light"
     },
     "output_type": "display_data"
    }
   ],
   "source": [
    "# OpenCV loads an image in BGR format\n",
    "# BGR format is Blue, Green and Red format.\n",
    "# With the display scale is also printed\n",
    "\n",
    "img2 = img[:,:,::-1] # For channel alignment\n",
    "plt.imshow(img2)\n",
    "plt.show()"
   ]
  },
  {
   "cell_type": "code",
   "execution_count": 22,
   "metadata": {},
   "outputs": [],
   "source": [
    "# Interactive demos are added to understand oarameters of each fuction"
   ]
  },
  {
   "cell_type": "code",
   "execution_count": 41,
   "metadata": {},
   "outputs": [
    {
     "data": {
      "application/vnd.jupyter.widget-view+json": {
       "model_id": "74557e4d1aa648ff8c753e880d917e4d",
       "version_major": 2,
       "version_minor": 0
      },
      "text/plain": [
       "interactive(children=(SelectionSlider(description='read_flag', options=(0, 1), value=0), Output()), _dom_class…"
      ]
     },
     "metadata": {},
     "output_type": "display_data"
    }
   ],
   "source": [
    "# Interactive Demo - 1.\n",
    "# Loading image as Color vs Grayscale\n",
    "\n",
    "# Variable - The second parameter to cv2.imread function\n",
    "\n",
    "%matplotlib inline\n",
    "from ipywidgets import interact, interactive, fixed, interact_manual\n",
    "import ipywidgets as widgets\n",
    "import cv2\n",
    "import numpy as np\n",
    "from matplotlib import pyplot as plt\n",
    "sl = widgets.SelectionSlider(options=[0, 1], value= 0)\n",
    "\n",
    "def f(read_flag):\n",
    "    \n",
    "    \n",
    "    ######################FOCUS#################\n",
    "    img = cv2.imread(folder_path + \"imgs/chapter1/tessellate.png\", read_flag);\n",
    "    ############################################\n",
    "    \n",
    "    \n",
    "    \n",
    "    if(read_flag == 1):\n",
    "        img = img[:,:,::-1] \n",
    "        plt.imshow(img)\n",
    "    else:\n",
    "        \n",
    "        plt.imshow(img, cmap='gray')\n",
    "    plt.show()\n",
    "\n",
    "interact(f, read_flag=sl);"
   ]
  },
  {
   "cell_type": "code",
   "execution_count": 24,
   "metadata": {},
   "outputs": [],
   "source": [
    "# After processing images we need to save them"
   ]
  },
  {
   "cell_type": "code",
   "execution_count": null,
   "metadata": {},
   "outputs": [],
   "source": []
  },
  {
   "cell_type": "markdown",
   "metadata": {},
   "source": [
    "## Writing an image to disc using OpenCV"
   ]
  },
  {
   "cell_type": "code",
   "execution_count": 16,
   "metadata": {},
   "outputs": [],
   "source": [
    "# Saving image to disc\n",
    "# Loaded a png image and saved it back as jpeg\n",
    "# cv2.imwrite\n",
    "\n",
    "cv2.imwrite(folder_path + \"imgs/chapter1/tessellate_opencv_saved.jpg\", img); "
   ]
  },
  {
   "cell_type": "code",
   "execution_count": 26,
   "metadata": {},
   "outputs": [],
   "source": [
    "##################################################################################################################"
   ]
  },
  {
   "cell_type": "code",
   "execution_count": null,
   "metadata": {},
   "outputs": [],
   "source": []
  },
  {
   "cell_type": "code",
   "execution_count": null,
   "metadata": {},
   "outputs": [],
   "source": []
  },
  {
   "cell_type": "markdown",
   "metadata": {},
   "source": [
    "<a id='2'></a>\n",
    "# Python Imaging Library"
   ]
  },
  {
   "cell_type": "code",
   "execution_count": 42,
   "metadata": {},
   "outputs": [
    {
     "name": "stdout",
     "output_type": "stream",
     "text": [
      "Use slider to change slides\n"
     ]
    },
    {
     "data": {
      "application/vnd.jupyter.widget-view+json": {
       "model_id": "a6d8bd23f01143b7bfaf2b884f62fbc9",
       "version_major": 2,
       "version_minor": 0
      },
      "text/plain": [
       "interactive(children=(IntSlider(value=8, description='slide_num', max=9, min=8), Output()), _dom_classes=('wid…"
      ]
     },
     "metadata": {},
     "output_type": "display_data"
    }
   ],
   "source": [
    "print(\"Use slider to change slides\")\n",
    "\n",
    "# Slide section 4\n",
    "from ipywidgets import interact, interactive, fixed, interact_manual\n",
    "import ipywidgets as widgets\n",
    "from IPython.display import display\n",
    "from PIL import Image\n",
    "\n",
    "\n",
    "sl = widgets.IntSlider(value=8, min=8, max=9);\n",
    "\n",
    "def f(slide_num):\n",
    "    img_name = folder_path + \"imgs/chapter1/slide{}.jpg\".format(slide_num);\n",
    "    img = Image.open(img_name);\n",
    "    \n",
    "    display(img);\n",
    "\n",
    "interact(f, slide_num=sl);"
   ]
  },
  {
   "cell_type": "markdown",
   "metadata": {},
   "source": [
    "# Remember the steps\n",
    "    - import library\n",
    "    - load image using Image.Open function\n",
    "    - process\n",
    "    - save image"
   ]
  },
  {
   "cell_type": "markdown",
   "metadata": {},
   "source": [
    "## Loading an image in PIL"
   ]
  },
  {
   "cell_type": "code",
   "execution_count": 19,
   "metadata": {},
   "outputs": [],
   "source": [
    "# Import PIL\n",
    "# PIL object\n",
    "# Image instance is responsible for loading and saving images like cv2 is for OpenCV\n",
    "\n",
    "import PIL\n",
    "from PIL import Image"
   ]
  },
  {
   "cell_type": "code",
   "execution_count": 20,
   "metadata": {},
   "outputs": [],
   "source": [
    "# This is a lazy operation; this function identifies the file, but the file remains open and the \n",
    "# actual image data is not read from the file until you try to process the data\n",
    "# Image.open\n",
    "# Argument - image path and name\n",
    "\n",
    "img = Image.open(folder_path + \"imgs/chapter1/tessellate.png\");"
   ]
  },
  {
   "cell_type": "code",
   "execution_count": 21,
   "metadata": {},
   "outputs": [
    {
     "name": "stdout",
     "output_type": "stream",
     "text": [
      "Type of PIL image = <class 'PIL.PngImagePlugin.PngImageFile'>\n"
     ]
    }
   ],
   "source": [
    "print(\"Type of PIL image = {}\".format(type(img)))"
   ]
  },
  {
   "cell_type": "code",
   "execution_count": 43,
   "metadata": {},
   "outputs": [
    {
     "name": "stdout",
     "output_type": "stream",
     "text": [
      "Use slider to change slides\n"
     ]
    },
    {
     "data": {
      "application/vnd.jupyter.widget-view+json": {
       "model_id": "7856d8ed846f421880b6b15c393f08b9",
       "version_major": 2,
       "version_minor": 0
      },
      "text/plain": [
       "interactive(children=(IntSlider(value=10, description='slide_num', max=10, min=10), Output()), _dom_classes=('…"
      ]
     },
     "metadata": {},
     "output_type": "display_data"
    }
   ],
   "source": [
    "print(\"Use slider to change slides\")\n",
    "# Slide section 5\n",
    "from ipywidgets import interact, interactive, fixed, interact_manual\n",
    "import ipywidgets as widgets\n",
    "from IPython.display import display\n",
    "from PIL import Image\n",
    "\n",
    "\n",
    "sl = widgets.IntSlider(value=10, min=10, max=10);\n",
    "\n",
    "def f(slide_num):\n",
    "    img_name = folder_path + \"imgs/chapter1/slide{}.jpg\".format(slide_num);\n",
    "    img = Image.open(img_name);\n",
    "    \n",
    "    display(img);\n",
    "\n",
    "interact(f, slide_num=sl);"
   ]
  },
  {
   "cell_type": "code",
   "execution_count": 23,
   "metadata": {},
   "outputs": [
    {
     "data": {
      "image/png": "[encoded data removed]",
      "text/plain": [
       "<Figure size 432x288 with 1 Axes>"
      ]
     },
     "metadata": {
      "needs_background": "light"
     },
     "output_type": "display_data"
    }
   ],
   "source": [
    "# To display Pillow image using matplotlib \n",
    "from matplotlib import pyplot as plt\n",
    "plt.imshow(img)\n",
    "plt.show()"
   ]
  },
  {
   "cell_type": "markdown",
   "metadata": {},
   "source": [
    "### Quiz 1\n",
    "\n",
    "1. Why is OpenCV image displayed using plt.imshow(img[:,:,::-1]) and PIL image using plt.imshow(img)?\n",
    "    "
   ]
  },
  {
   "cell_type": "code",
   "execution_count": null,
   "metadata": {},
   "outputs": [],
   "source": []
  },
  {
   "cell_type": "markdown",
   "metadata": {},
   "source": [
    "## Writing an image to disc using PIL"
   ]
  },
  {
   "cell_type": "code",
   "execution_count": 24,
   "metadata": {},
   "outputs": [],
   "source": [
    "# Notice the difference here\n",
    "# In opencv we did cv2.imwrite() whereas in PIL we didn't use Image.save.\n",
    "# We used img.save where img is an image variable not the main Image class object\n",
    "\n",
    "img.save(folder_path + \"imgs/chapter1/tessellate_pillow_saved.png\");"
   ]
  },
  {
   "cell_type": "code",
   "execution_count": null,
   "metadata": {},
   "outputs": [],
   "source": [
    "##################################################################################################################"
   ]
  },
  {
   "cell_type": "code",
   "execution_count": null,
   "metadata": {},
   "outputs": [],
   "source": []
  },
  {
   "cell_type": "code",
   "execution_count": null,
   "metadata": {},
   "outputs": [],
   "source": []
  },
  {
   "cell_type": "markdown",
   "metadata": {},
   "source": [
    "<a id='3'></a>\n",
    "# Scikit-Image"
   ]
  },
  {
   "cell_type": "code",
   "execution_count": 44,
   "metadata": {},
   "outputs": [
    {
     "name": "stdout",
     "output_type": "stream",
     "text": [
      "Use slider to change slides\n"
     ]
    },
    {
     "data": {
      "application/vnd.jupyter.widget-view+json": {
       "model_id": "7fb99b25c8974d92aeda4c2329f2e491",
       "version_major": 2,
       "version_minor": 0
      },
      "text/plain": [
       "interactive(children=(IntSlider(value=11, description='slide_num', max=11, min=11), Output()), _dom_classes=('…"
      ]
     },
     "metadata": {},
     "output_type": "display_data"
    }
   ],
   "source": [
    "print(\"Use slider to change slides\")\n",
    "# Slide section 6\n",
    "from ipywidgets import interact, interactive, fixed, interact_manual\n",
    "import ipywidgets as widgets\n",
    "from IPython.display import display\n",
    "from PIL import Image\n",
    "\n",
    "\n",
    "sl = widgets.IntSlider(value=11, min=11, max=11);\n",
    "\n",
    "def f(slide_num):\n",
    "    img_name = folder_path + \"imgs/chapter1/slide{}.jpg\".format(slide_num);\n",
    "    img = Image.open(img_name);\n",
    "    \n",
    "    display(img);\n",
    "\n",
    "interact(f, slide_num=sl);"
   ]
  },
  {
   "cell_type": "markdown",
   "metadata": {},
   "source": [
    "# Remember the steps\n",
    "    - import library\n",
    "    - load image using scikit.io.open function\n",
    "    - process\n",
    "    - save image"
   ]
  },
  {
   "cell_type": "markdown",
   "metadata": {},
   "source": [
    "## Loading an image in Scikit Image"
   ]
  },
  {
   "cell_type": "code",
   "execution_count": 26,
   "metadata": {},
   "outputs": [],
   "source": [
    "# Import scikit image\n",
    "\n",
    "import skimage"
   ]
  },
  {
   "cell_type": "markdown",
   "metadata": {},
   "source": [
    "### Quiz 2\n",
    "\n",
    "1. What is the core object in scikit-image that stores all the functions?"
   ]
  },
  {
   "cell_type": "code",
   "execution_count": 28,
   "metadata": {},
   "outputs": [],
   "source": [
    "# Reading image using scikit\n",
    "img = skimage.io.imread(folder_path + \"imgs/chapter1/tessellate.png\");"
   ]
  },
  {
   "cell_type": "code",
   "execution_count": 29,
   "metadata": {},
   "outputs": [
    {
     "name": "stdout",
     "output_type": "stream",
     "text": [
      "Type of Scikit image = <class 'imageio.core.util.Array'>\n"
     ]
    }
   ],
   "source": [
    "# imageio.core.util.Array is a subclass of np.ndarray\n",
    "# So all operations of numpy, scipy and opencv work on a scikit image\n",
    "\n",
    "print(\"Type of Scikit image = {}\".format(type(img)))"
   ]
  },
  {
   "cell_type": "code",
   "execution_count": 30,
   "metadata": {},
   "outputs": [
    {
     "data": {
      "image/png": "[encoded data removed]",
      "text/plain": [
       "<Figure size 576x576 with 1 Axes>"
      ]
     },
     "metadata": {
      "needs_background": "light"
     },
     "output_type": "display_data"
    }
   ],
   "source": [
    "# Display skimage data using matplotlib\n",
    "from matplotlib import pyplot as plt\n",
    "plt.figure(figsize=(8, 8))\n",
    "plt.imshow(img)\n",
    "plt.show()"
   ]
  },
  {
   "cell_type": "markdown",
   "metadata": {},
   "source": [
    "### Quiz 3\n",
    "\n",
    "1. When OpenCV and Pillow images were displayed they appeared smaller than scikit image's display.\n",
    "   Find out the reason?\n",
    "   \n",
    "   Hint: See display cells of scikit and pillow"
   ]
  },
  {
   "cell_type": "code",
   "execution_count": 31,
   "metadata": {
    "slideshow": {
     "slide_type": "slide"
    }
   },
   "outputs": [
    {
     "data": {
      "application/vnd.jupyter.widget-view+json": {
       "model_id": "6b8cafb4e7674fb7b5415fd97a07649e",
       "version_major": 2,
       "version_minor": 0
      },
      "text/plain": [
       "interactive(children=(SelectionSlider(description='as_gray', options=(False, True), value=False), Output()), _…"
      ]
     },
     "metadata": {},
     "output_type": "display_data"
    }
   ],
   "source": [
    "# Interactive Demo - 2.\n",
    "# Loading image as RGB vs Grayscale\n",
    "\n",
    "from ipywidgets import interact, interactive, fixed, interact_manual\n",
    "import ipywidgets as widgets\n",
    "sl = widgets.SelectionSlider(options=[False, True], value=False)\n",
    "\n",
    "\n",
    "\n",
    "def f(as_gray):\n",
    "    \n",
    "    \n",
    "    #######################FOCUS######################\n",
    "    img = skimage.io.imread(folder_path + \"imgs/chapter1/tessellate.png\", as_gray);\n",
    "    ##################################################\n",
    "    \n",
    "    \n",
    "    if(as_gray == False):\n",
    "        plt.imshow(img)\n",
    "    else:\n",
    "        plt.imshow(img, cmap='gray')\n",
    "    plt.show()\n",
    "\n",
    "interact(f, as_gray=sl);"
   ]
  },
  {
   "cell_type": "markdown",
   "metadata": {},
   "source": [
    "### Quiz 4\n",
    "\n",
    "1. While Opening OpenCV using cv2.imread, what value of its second parameter reads a colored image?\n",
    "   \n",
    "   Hint: Options - [-1, 1, 0, 2];"
   ]
  },
  {
   "cell_type": "markdown",
   "metadata": {},
   "source": [
    "## Writing an image to disc using PIL\n"
   ]
  },
  {
   "cell_type": "code",
   "execution_count": 32,
   "metadata": {},
   "outputs": [],
   "source": [
    "# imsave\n",
    "\n",
    "skimage.io.imsave(folder_path + \"imgs/chapter1/tessellate_skimage_saved.png\", img);"
   ]
  },
  {
   "cell_type": "code",
   "execution_count": null,
   "metadata": {},
   "outputs": [],
   "source": []
  },
  {
   "cell_type": "code",
   "execution_count": null,
   "metadata": {},
   "outputs": [],
   "source": []
  },
  {
   "cell_type": "code",
   "execution_count": null,
   "metadata": {},
   "outputs": [],
   "source": []
  },
  {
   "cell_type": "markdown",
   "metadata": {},
   "source": [
    "<a id='5'></a>\n",
    "# Conversions\n",
    "    - Not all algorithms are present in every library.\n",
    "    - Hence inter-library conversions are important"
   ]
  },
  {
   "cell_type": "code",
   "execution_count": 45,
   "metadata": {},
   "outputs": [
    {
     "name": "stdout",
     "output_type": "stream",
     "text": [
      "Use slider to change slides\n"
     ]
    },
    {
     "data": {
      "application/vnd.jupyter.widget-view+json": {
       "model_id": "bad8d2aba20f41f495f2b3ace5136021",
       "version_major": 2,
       "version_minor": 0
      },
      "text/plain": [
       "interactive(children=(IntSlider(value=12, description='slide_num', max=12, min=12), Output()), _dom_classes=('…"
      ]
     },
     "metadata": {},
     "output_type": "display_data"
    }
   ],
   "source": [
    "print(\"Use slider to change slides\")\n",
    "# Slide section 6\n",
    "from ipywidgets import interact, interactive, fixed, interact_manual\n",
    "import ipywidgets as widgets\n",
    "from IPython.display import display\n",
    "from PIL import Image\n",
    "\n",
    "\n",
    "sl = widgets.IntSlider(value=12, min=12, max=12);\n",
    "\n",
    "def f(slide_num):\n",
    "    img_name = folder_path + \"imgs/chapter1/slide{}.jpg\".format(slide_num);\n",
    "    img = Image.open(img_name);\n",
    "    \n",
    "    display(img);\n",
    "\n",
    "interact(f, slide_num=sl);"
   ]
  },
  {
   "cell_type": "code",
   "execution_count": 34,
   "metadata": {},
   "outputs": [
    {
     "name": "stdout",
     "output_type": "stream",
     "text": [
      "Input Type = <class 'NoneType'>\n"
     ]
    }
   ],
   "source": [
    "# 4.1 OpenCV <--> Numpy\n",
    "# No explicit conversion required here\n",
    "# WHY?\n",
    "\n",
    "import cv2\n",
    "\n",
    "inp = cv2.imread(folder_path + \"imgs/chapter1/img1.png\", -1);\n",
    "print(\"Input Type = {}\".format(type(inp)));"
   ]
  },
  {
   "cell_type": "code",
   "execution_count": null,
   "metadata": {},
   "outputs": [],
   "source": []
  },
  {
   "cell_type": "code",
   "execution_count": 35,
   "metadata": {},
   "outputs": [
    {
     "name": "stdout",
     "output_type": "stream",
     "text": [
      "Input Type = <class 'PIL.PngImagePlugin.PngImageFile'>\n"
     ]
    }
   ],
   "source": [
    "# 4.2 PIL <--> Numpy\n",
    "from PIL import Image\n",
    "import numpy as np\n",
    "\n",
    "inp = Image.open(folder_path + \"imgs/chapter1/tessellate.png\");\n",
    "print(\"Input Type = {}\".format(type(inp)));"
   ]
  },
  {
   "cell_type": "code",
   "execution_count": 36,
   "metadata": {},
   "outputs": [
    {
     "name": "stdout",
     "output_type": "stream",
     "text": [
      "Converted Type = <class 'numpy.ndarray'>\n"
     ]
    }
   ],
   "source": [
    "# Conversion PIL to Numpy\n",
    "# np.asarray -> numpy take it \"as\" \"array\"\n",
    "\n",
    "out = np.asarray(inp);\n",
    "print(\"Converted Type = {}\".format(type(out)));"
   ]
  },
  {
   "cell_type": "code",
   "execution_count": 44,
   "metadata": {},
   "outputs": [
    {
     "name": "stdout",
     "output_type": "stream",
     "text": [
      "Re-Converted Type = <class 'PIL.Image.Image'>\n"
     ]
    }
   ],
   "source": [
    "# Conversion Numpy to PIL\n",
    "# Image.fromarray -> Image take it \"from\" \"array\"\n",
    "re_out = Image.fromarray(np.uint8(out));\n",
    "print(\"Re-Converted Type = {}\".format(type(re_out)));"
   ]
  },
  {
   "cell_type": "code",
   "execution_count": null,
   "metadata": {},
   "outputs": [],
   "source": []
  },
  {
   "cell_type": "code",
   "execution_count": 37,
   "metadata": {},
   "outputs": [
    {
     "name": "stdout",
     "output_type": "stream",
     "text": [
      "Input Type = <class 'imageio.core.util.Array'>\n",
      "Scikit images are subclass of numpy ndarray\n",
      "All operations of numpy, scipy and opencv work on a scikit image\n"
     ]
    }
   ],
   "source": [
    "# 4.3 Scikit Image <--> Numpy\n",
    "import skimage\n",
    "\n",
    "inp = skimage.io.imread(folder_path + \"imgs/chapter1/tessellate.png\");\n",
    "print(\"Input Type = {}\".format(type(inp)));\n",
    "print(\"Scikit images are subclass of numpy ndarray\");\n",
    "print(\"All operations of numpy, scipy and opencv work on a scikit image\");"
   ]
  },
  {
   "cell_type": "code",
   "execution_count": null,
   "metadata": {},
   "outputs": [],
   "source": []
  }
 ],
 "metadata": {
  "kernelspec": {
   "display_name": "Python 3",
   "language": "python",
   "name": "python3"
  },
  "language_info": {
   "codemirror_mode": {
    "name": "ipython",
    "version": 3
   },
   "file_extension": ".py",
   "mimetype": "text/x-python",
   "name": "python",
   "nbconvert_exporter": "python",
   "pygments_lexer": "ipython3",
   "version": "3.6.9"
  }
 },
 "nbformat": 4,
 "nbformat_minor": 2
}
