{
 "cells": [
  {
   "cell_type": "markdown",
   "metadata": {},
   "source": [
    "<a href=\"https://colab.research.google.com/github/Tessellate-Imaging/monk_v1/blob/master/study_roadmaps/4_image_classification_zoo/Classifier%20-%20Plant%20Disease%20Dataset.ipynb\" target=\"_parent\"><img src=\"https://colab.research.google.com/assets/colab-badge.svg\" alt=\"Open In Colab\"/></a>"
   ]
  },
  {
   "cell_type": "code",
   "execution_count": null,
   "metadata": {},
   "outputs": [],
   "source": []
  },
  {
   "cell_type": "markdown",
   "metadata": {},
   "source": [
    "# Table of contents\n",
    "\n",
    "\n",
    "## Install Monk\n",
    "\n",
    "\n",
    "## Using pretrained model for classifying plant diseases based on leaves\n",
    "\n",
    "\n",
    "## Training a classifier from scratch"
   ]
  },
  {
   "cell_type": "code",
   "execution_count": null,
   "metadata": {},
   "outputs": [],
   "source": []
  },
  {
   "cell_type": "markdown",
   "metadata": {},
   "source": [
    "<a id='0'></a>\n",
    "# Install Monk"
   ]
  },
  {
   "cell_type": "markdown",
   "metadata": {},
   "source": [
    "## Using pip (Recommended)\n",
    "\n",
    "  - colab (gpu) \n",
    "      - All bakcends: `pip install -U monk-colab`\n",
    "      \n",
    "\n",
    "  - kaggle (gpu) \n",
    "      - All backends: `pip install -U monk-kaggle`\n",
    "      \n",
    "\n",
    "  - cuda 10.2\t\n",
    "      - All backends: `pip install -U monk-cuda102`\n",
    "      - Gluon bakcned: `pip install -U monk-gluon-cuda102`\n",
    "\t  - Pytorch backend: `pip install -U monk-pytorch-cuda102`\n",
    "      - Keras backend: `pip install -U monk-keras-cuda102`\n",
    "      \n",
    "\n",
    "  - cuda 10.1\t\n",
    "      - All backend: `pip install -U monk-cuda101`\n",
    "\t  - Gluon bakcned: `pip install -U monk-gluon-cuda101`\n",
    "\t  - Pytorch backend: `pip install -U monk-pytorch-cuda101`\n",
    "\t  - Keras backend: `pip install -U monk-keras-cuda101`\n",
    "      \n",
    "\n",
    "  - cuda 10.0\t\n",
    "      - All backend: `pip install -U monk-cuda100`\n",
    "\t  - Gluon bakcned: `pip install -U monk-gluon-cuda100`\n",
    "\t  - Pytorch backend: `pip install -U monk-pytorch-cuda100`\n",
    "\t  - Keras backend: `pip install -U monk-keras-cuda100`\n",
    "      \n",
    "\n",
    "  - cuda 9.2\t\n",
    "      - All backend: `pip install -U monk-cuda92`\n",
    "\t  - Gluon bakcned: `pip install -U monk-gluon-cuda92`\n",
    "\t  - Pytorch backend: `pip install -U monk-pytorch-cuda92`\n",
    "\t  - Keras backend: `pip install -U monk-keras-cuda92`\n",
    "      \n",
    "\n",
    "  - cuda 9.0\t\n",
    "      - All backend: `pip install -U monk-cuda90`\n",
    "\t  - Gluon bakcned: `pip install -U monk-gluon-cuda90`\n",
    "\t  - Pytorch backend: `pip install -U monk-pytorch-cuda90`\n",
    "\t  - Keras backend: `pip install -U monk-keras-cuda90`\n",
    "      \n",
    "\n",
    "  - cpu \t\t\n",
    "      - All backend: `pip install -U monk-cpu`\n",
    "\t  - Gluon bakcned: `pip install -U monk-gluon-cpu`\n",
    "\t  - Pytorch backend: `pip install -U monk-pytorch-cpu`\n",
    "\t  - Keras backend: `pip install -U monk-keras-cpu`"
   ]
  },
  {
   "cell_type": "code",
   "execution_count": null,
   "metadata": {},
   "outputs": [],
   "source": []
  },
  {
   "cell_type": "markdown",
   "metadata": {},
   "source": [
    "## Install Monk Manually (Not recommended)\n",
    " \n",
    "### Step 1: Clone the library\n",
    " - git clone https://github.com/Tessellate-Imaging/monk_v1.git\n",
    " \n",
    " \n",
    " \n",
    " \n",
    "### Step 2: Install requirements \n",
    " - Linux\n",
    "     - Cuda 9.0\n",
    "         - `cd monk_v1/installation/Linux && pip install -r requirements_cu90.txt`\n",
    "     - Cuda 9.2\n",
    "         - `cd monk_v1/installation/Linux && pip install -r requirements_cu92.txt`\n",
    "     - Cuda 10.0\n",
    "         - `cd monk_v1/installation/Linux && pip install -r requirements_cu100.txt`\n",
    "     - Cuda 10.1\n",
    "         - `cd monk_v1/installation/Linux && pip install -r requirements_cu101.txt`\n",
    "     - Cuda 10.2\n",
    "         - `cd monk_v1/installation/Linux && pip install -r requirements_cu102.txt`\n",
    "     - CPU (Non gpu system)\n",
    "         - `cd monk_v1/installation/Linux && pip install -r requirements_cpu.txt`\n",
    " \n",
    " \n",
    "  - Windows\n",
    "     - Cuda 9.0 (Experimental support)\n",
    "         - `cd monk_v1/installation/Windows && pip install -r requirements_cu90.txt`\n",
    "     - Cuda 9.2 (Experimental support)\n",
    "         - `cd monk_v1/installation/Windows && pip install -r requirements_cu92.txt`\n",
    "     - Cuda 10.0 (Experimental support)\n",
    "         - `cd monk_v1/installation/Windows && pip install -r requirements_cu100.txt`\n",
    "     - Cuda 10.1 (Experimental support)\n",
    "         - `cd monk_v1/installation/Windows && pip install -r requirements_cu101.txt`\n",
    "     - Cuda 10.2 (Experimental support)\n",
    "         - `cd monk_v1/installation/Windows && pip install -r requirements_cu102.txt`\n",
    "     - CPU (Non gpu system)\n",
    "         - `cd monk_v1/installation/Windows && pip install -r requirements_cpu.txt`\n",
    "         \n",
    "         \n",
    "  - Mac\n",
    "     - CPU (Non gpu system)\n",
    "         - `cd monk_v1/installation/Mac && pip install -r requirements_cpu.txt`\n",
    "         \n",
    "         \n",
    "  - Misc\n",
    "      - Colab (GPU)\n",
    "          - `cd monk_v1/installation/Misc && pip install -r requirements_colab.txt`\n",
    "      - Kaggle (GPU)\n",
    "          - `cd monk_v1/installation/Misc && pip install -r requirements_kaggle.txt`\n",
    " \n",
    " \n",
    " \n",
    "### Step 3: Add to system path (Required for every terminal or kernel run)\n",
    " - `import sys`\n",
    " - `sys.path.append(\"monk_v1/\");`"
   ]
  },
  {
   "cell_type": "code",
   "execution_count": null,
   "metadata": {},
   "outputs": [],
   "source": []
  },
  {
   "cell_type": "markdown",
   "metadata": {},
   "source": [
    "# Used trained classifier for demo"
   ]
  },
  {
   "cell_type": "code",
   "execution_count": 1,
   "metadata": {},
   "outputs": [],
   "source": [
    "#Using pytorch backend \n",
    "\n",
    "# When installed using pip\n",
    "from monk.pytorch_prototype import prototype\n",
    "\n",
    "\n",
    "# When installed manually (Uncomment the following)\n",
    "#import os\n",
    "#import sys\n",
    "#sys.path.append(\"monk_v1/\");\n",
    "#sys.path.append(\"monk_v1/monk/\");\n",
    "#from monk.pytorch_prototype import prototype"
   ]
  },
  {
   "cell_type": "code",
   "execution_count": 2,
   "metadata": {},
   "outputs": [],
   "source": [
    "# Download trained weights"
   ]
  },
  {
   "cell_type": "code",
   "execution_count": null,
   "metadata": {},
   "outputs": [],
   "source": [
    "! wget --load-cookies /tmp/cookies.txt \"https://docs.google.com/uc?export=download&confirm=$(wget --save-cookies /tmp/cookies.txt --keep-session-cookies --no-check-certificate 'https://docs.google.com/uc?export=download&id=1EHsJ-sXMNIbZiiVmyl7FuqnLX50kx04k' -O- | sed -rn 's/.*confirm=([0-9A-Za-z_]+).*/\\1\\n/p')&id=1EHsJ-sXMNIbZiiVmyl7FuqnLX50kx04k\" -O cls_plantvillage_trained.zip && rm -rf /tmp/cookies.txt"
   ]
  },
  {
   "cell_type": "code",
   "execution_count": 4,
   "metadata": {},
   "outputs": [],
   "source": [
    "! unzip -qq cls_plantvillage_trained.zip "
   ]
  },
  {
   "cell_type": "code",
   "execution_count": 5,
   "metadata": {},
   "outputs": [
    {
     "name": "stdout",
     "output_type": "stream",
     "text": [
      "\u001b[0m\u001b[01;34mPytorch-resnet18\u001b[0m/  \u001b[01;34mPytorch-resnet34\u001b[0m/  \u001b[01;34mPytorch-resnet50\u001b[0m/\r\n"
     ]
    }
   ],
   "source": [
    "ls workspace/Project-Plant-Disease"
   ]
  },
  {
   "cell_type": "code",
   "execution_count": 6,
   "metadata": {},
   "outputs": [
    {
     "name": "stdout",
     "output_type": "stream",
     "text": [
      "Pytorch Version: 1.4.0\n",
      "\n",
      "Model Details\n",
      "    Loading model - workspace/Project-Plant-Disease/Pytorch-resnet18/output/models/final\n",
      "    Model loaded!\n",
      "\n",
      "Experiment Details\n",
      "    Project: Project-Plant-Disease\n",
      "    Experiment: Pytorch-resnet18\n",
      "    Dir: /home/ubuntu/Desktop/cls/workspace/Project-Plant-Disease/Pytorch-resnet18/\n",
      "\n"
     ]
    }
   ],
   "source": [
    "# Load project in inference mode\n",
    "\n",
    "gtf = prototype(verbose=1);\n",
    "gtf.Prototype(\"Project-Plant-Disease\", \"Pytorch-resnet18\", eval_infer=True);\n",
    "\n",
    "#Other trained models - uncomment \n",
    "#gtf.Prototype(\"Project-Plant-Disease\", \"Pytorch-resnet34\", eval_infer=True);\n",
    "#gtf.Prototype(\"Project-Plant-Disease\", \"Pytorch-resnet50\", eval_infer=True);"
   ]
  },
  {
   "cell_type": "code",
   "execution_count": 7,
   "metadata": {},
   "outputs": [],
   "source": [
    "#Infer"
   ]
  },
  {
   "cell_type": "code",
   "execution_count": 8,
   "metadata": {},
   "outputs": [
    {
     "name": "stdout",
     "output_type": "stream",
     "text": [
      "Prediction\n",
      "    Image name:         workspace/test/1.jpg\n",
      "    Predicted class:      1\n",
      "    Predicted score:      1.0\n",
      "\n"
     ]
    },
    {
     "data": {
      "image/jpeg": "[encoded data removed]",
      "text/plain": [
       "<IPython.core.display.Image object>"
      ]
     },
     "execution_count": 8,
     "metadata": {},
     "output_type": "execute_result"
    }
   ],
   "source": [
    "img_name = \"workspace/test/1.jpg\"\n",
    "predictions = gtf.Infer(img_name=img_name);\n",
    "from IPython.display import Image\n",
    "Image(filename=img_name)"
   ]
  },
  {
   "cell_type": "code",
   "execution_count": 9,
   "metadata": {},
   "outputs": [
    {
     "name": "stdout",
     "output_type": "stream",
     "text": [
      "Prediction\n",
      "    Image name:         workspace/test/2.jpg\n",
      "    Predicted class:      5\n",
      "    Predicted score:      0.9999886155128479\n",
      "\n"
     ]
    },
    {
     "data": {
      "image/jpeg": "[encoded data removed]",
      "text/plain": [
       "<IPython.core.display.Image object>"
      ]
     },
     "execution_count": 9,
     "metadata": {},
     "output_type": "execute_result"
    }
   ],
   "source": [
    "img_name = \"workspace/test/2.jpg\"\n",
    "predictions = gtf.Infer(img_name=img_name);\n",
    "from IPython.display import Image\n",
    "Image(filename=img_name)"
   ]
  },
  {
   "cell_type": "code",
   "execution_count": 10,
   "metadata": {},
   "outputs": [
    {
     "name": "stdout",
     "output_type": "stream",
     "text": [
      "Prediction\n",
      "    Image name:         workspace/test/3.jpg\n",
      "    Predicted class:      10\n",
      "    Predicted score:      0.9999942779541016\n",
      "\n"
     ]
    },
    {
     "data": {
      "image/jpeg": "[encoded data removed]",
      "text/plain": [
       "<IPython.core.display.Image object>"
      ]
     },
     "execution_count": 10,
     "metadata": {},
     "output_type": "execute_result"
    }
   ],
   "source": [
    "img_name = \"workspace/test/3.jpg\"\n",
    "predictions = gtf.Infer(img_name=img_name);\n",
    "from IPython.display import Image\n",
    "Image(filename=img_name)"
   ]
  },
  {
   "cell_type": "code",
   "execution_count": 11,
   "metadata": {},
   "outputs": [
    {
     "name": "stdout",
     "output_type": "stream",
     "text": [
      "Prediction\n",
      "    Image name:         workspace/test/4.jpg\n",
      "    Predicted class:      15\n",
      "    Predicted score:      1.0\n",
      "\n"
     ]
    },
    {
     "data": {
      "image/jpeg": "[encoded data removed]",
      "text/plain": [
       "<IPython.core.display.Image object>"
      ]
     },
     "execution_count": 11,
     "metadata": {},
     "output_type": "execute_result"
    }
   ],
   "source": [
    "img_name = \"workspace/test/4.jpg\"\n",
    "predictions = gtf.Infer(img_name=img_name);\n",
    "from IPython.display import Image\n",
    "Image(filename=img_name)"
   ]
  },
  {
   "cell_type": "code",
   "execution_count": null,
   "metadata": {},
   "outputs": [],
   "source": []
  },
  {
   "cell_type": "markdown",
   "metadata": {},
   "source": [
    "# Training custom classifier from scratch"
   ]
  },
  {
   "cell_type": "markdown",
   "metadata": {
    "colab_type": "text",
    "id": "1mOXjlQyUx01"
   },
   "source": [
    "# Plant Disease Classification with Monk"
   ]
  },
  {
   "cell_type": "code",
   "execution_count": null,
   "metadata": {
    "colab": {},
    "colab_type": "code",
    "id": "KSjh3pMSUx1B"
   },
   "outputs": [],
   "source": [
    "from monk.pytorch_prototype import prototype"
   ]
  },
  {
   "cell_type": "markdown",
   "metadata": {
    "colab_type": "text",
    "id": "9jjKph_4VMFr"
   },
   "source": [
    "## Dataset"
   ]
  },
  {
   "cell_type": "markdown",
   "metadata": {
    "colab_type": "text",
    "id": "0JvjLV3xVOaH"
   },
   "source": [
    "The dataset was gathered by the awesome team at [Plant Village](https://plantvillage.org)"
   ]
  },
  {
   "cell_type": "markdown",
   "metadata": {
    "colab_type": "text",
    "id": "nPpNgpghVmjH"
   },
   "source": [
    "The dataset is preprocessed and re-shared via dropbox."
   ]
  },
  {
   "cell_type": "code",
   "execution_count": null,
   "metadata": {
    "colab": {},
    "colab_type": "code",
    "id": "0f4qONJuVlpH"
   },
   "outputs": [],
   "source": [
    "!wget https://www.dropbox.com/s/hgt9uystjlinzlp/plantVillage.zip"
   ]
  },
  {
   "cell_type": "code",
   "execution_count": null,
   "metadata": {
    "colab": {},
    "colab_type": "code",
    "id": "TYAFYgkfVkZU"
   },
   "outputs": [],
   "source": [
    "!unzip plantVillage.zip"
   ]
  },
  {
   "cell_type": "markdown",
   "metadata": {
    "colab_type": "text",
    "id": "U6aGahEiUx1G"
   },
   "source": [
    "## Create Experiment"
   ]
  },
  {
   "cell_type": "code",
   "execution_count": null,
   "metadata": {
    "colab": {},
    "colab_type": "code",
    "id": "nm6dlYvrUx1J",
    "outputId": "afd4fe68-50f9-4001-d6b1-05eff81f3786"
   },
   "outputs": [],
   "source": [
    "# Step 1 - Create experiment\n",
    "ptf = prototype(verbose=1);\n",
    "ptf.Prototype(\"plant_disease\", \"exp1\");"
   ]
  },
  {
   "cell_type": "code",
   "execution_count": null,
   "metadata": {
    "colab": {},
    "colab_type": "code",
    "id": "U8PWLxo0Ux1N",
    "outputId": "b2f88f8c-77ec-43d4-8aba-12b73dd39224",
    "scrolled": true
   },
   "outputs": [],
   "source": [
    "ptf.Default(dataset_path=[\"./dataset/train\", \"./dataset/val\"], model_name=\"resnet18\", freeze_base_network=True, num_epochs=5);"
   ]
  },
  {
   "cell_type": "markdown",
   "metadata": {
    "colab_type": "text",
    "id": "6t3f-pIrUx1Q"
   },
   "source": [
    "## Use Quick model finder"
   ]
  },
  {
   "cell_type": "code",
   "execution_count": null,
   "metadata": {
    "colab": {},
    "colab_type": "code",
    "id": "mUL2DoHIUx1S",
    "outputId": "ffe57bea-5fc7-4045-d943-b5ac7fe3383c"
   },
   "outputs": [],
   "source": [
    "# Analysis - 1\n",
    "\n",
    "# Analysis Project Name\n",
    "analysis_name = \"Model_Finder\";\n",
    "\n",
    "# Models to analyse\n",
    "# First element in the list- Model Name\n",
    "# Second element in the list - Boolean value to freeze base network or not\n",
    "# Third element in the list - Boolean value to use pretrained model as the starting point or not\n",
    "models = [[\"resnet34\", True, True], [\"resnet50\", False, True], \n",
    "          [\"densenet121\", False, True], [\"densenet169\", True, True], [\"densenet201\", True, True]];  \n",
    "\n",
    "# Num epochs for each experiment to run\t\n",
    "epochs=5;\n",
    "\n",
    "# Percentage of original dataset to take in for experimentation\n",
    "percent_data=10;\n",
    "\n",
    "# \"keep_all\" - Keep all the sub experiments created\n",
    "# \"keep_non\" - Delete all sub experiments created\n",
    "ptf.Analyse_Models(analysis_name, models, percent_data, num_epochs=epochs, state=\"keep_none\"); "
   ]
  },
  {
   "cell_type": "markdown",
   "metadata": {
    "colab_type": "text",
    "id": "Bhk8Me_RUx1W"
   },
   "source": [
    "## Update the model"
   ]
  },
  {
   "cell_type": "code",
   "execution_count": null,
   "metadata": {
    "colab": {},
    "colab_type": "code",
    "id": "V3ZvKPhHUx1X",
    "outputId": "c2098850-e062-45b9-c64d-cf2a3ecf4dc8"
   },
   "outputs": [],
   "source": [
    "## Update Model Architecture\n",
    "ptf.update_model_name(\"densenet121\");\n",
    "ptf.update_freeze_base_network(True);\n",
    "ptf.update_use_pretrained(True);\n",
    "ptf.Reload();"
   ]
  },
  {
   "cell_type": "markdown",
   "metadata": {
    "colab_type": "text",
    "id": "vruLV_mRUx1c"
   },
   "source": [
    "## Find the right batch size"
   ]
  },
  {
   "cell_type": "code",
   "execution_count": null,
   "metadata": {
    "colab": {},
    "colab_type": "code",
    "id": "8Ou4-k96Ux1h",
    "outputId": "984b0815-3c3e-4be6-9762-bff19651029f"
   },
   "outputs": [],
   "source": [
    "#Analysis - 2\n",
    "\n",
    "# Analysis Project Name\n",
    "analysis_name = \"Batch_Size_Finder\";\n",
    "\n",
    "# Batch sizes to explore\n",
    "batch_sizes = [4, 8, 16, 32];\n",
    "\n",
    "# Num epochs for each experiment to run\t\n",
    "epochs = 10;\n",
    "\n",
    "# Percentage of original dataset to take in for experimentation\n",
    "percent_data = 10;\n",
    "\n",
    "# \"keep_all\" - Keep all the sub experiments created\n",
    "# \"keep_non\" - Delete all sub experiments created\t\n",
    "ptf.Analyse_Batch_Sizes(analysis_name, batch_sizes, percent_data, num_epochs=epochs, state=\"keep_none\"); "
   ]
  },
  {
   "cell_type": "markdown",
   "metadata": {
    "colab_type": "text",
    "id": "ZmYhli60Ux1m"
   },
   "source": [
    "## Update batch size"
   ]
  },
  {
   "cell_type": "code",
   "execution_count": null,
   "metadata": {
    "colab": {},
    "colab_type": "code",
    "id": "vciF30F_Ux1n",
    "outputId": "49d14881-9c92-4dd4-cd3f-58761ccece22"
   },
   "outputs": [],
   "source": [
    "## Update Batch Size\n",
    "ptf.update_batch_size(8);\n",
    "ptf.Reload();"
   ]
  },
  {
   "cell_type": "markdown",
   "metadata": {
    "colab_type": "text",
    "id": "LPh6JmQgUx1r"
   },
   "source": [
    "## Find the correct input dimension"
   ]
  },
  {
   "cell_type": "code",
   "execution_count": null,
   "metadata": {
    "colab": {},
    "colab_type": "code",
    "id": "6VxLKV8xUx1s",
    "outputId": "b2cdd48e-e4e4-4fee-d4d0-abc0828d2597"
   },
   "outputs": [],
   "source": [
    "#Analysis - 3\n",
    "\n",
    "# Analysis Project Name\n",
    "analysis_name = \"Input_Size_Finder\";\n",
    "\n",
    "# Input sizes to explore\t\n",
    "input_sizes = [224, 256, 512];\n",
    "\n",
    "# Num epochs for each experiment to run\t\n",
    "epochs=5;\n",
    "\n",
    "# Percentage of original dataset to take in for experimentation\n",
    "percent_data=10;\n",
    "\n",
    "# \"keep_all\" - Keep all the sub experiments created\n",
    "# \"keep_non\" - Delete all sub experiments created\t\n",
    "ptf.Analyse_Input_Sizes(analysis_name, input_sizes, percent_data, num_epochs=epochs, state=\"keep_none\"); "
   ]
  },
  {
   "cell_type": "markdown",
   "metadata": {
    "colab_type": "text",
    "id": "6AnRRpuGUx1v"
   },
   "source": [
    "## Update input size"
   ]
  },
  {
   "cell_type": "code",
   "execution_count": null,
   "metadata": {
    "colab": {},
    "colab_type": "code",
    "id": "qoECerRPUx1w",
    "outputId": "9ac5866c-98ce-4805-d987-b789b270f5fa"
   },
   "outputs": [],
   "source": [
    "## Update Input Size\n",
    "\n",
    "ptf.update_input_size(224);\n",
    "ptf.Reload();"
   ]
  },
  {
   "cell_type": "markdown",
   "metadata": {
    "colab_type": "text",
    "id": "p4hGyCvrUx10"
   },
   "source": [
    "## Findout the correct starting LR"
   ]
  },
  {
   "cell_type": "code",
   "execution_count": null,
   "metadata": {
    "colab": {},
    "colab_type": "code",
    "id": "J10GQz43Ux11",
    "outputId": "358b1188-362b-4958-88cc-a60007b43fe2"
   },
   "outputs": [],
   "source": [
    "#Analysis - 4\n",
    "\n",
    "# Analysis Project Name\n",
    "analysis_name = \"Learning_Rate_Finder\"\n",
    "\n",
    "# Learning rates to explore\n",
    "lrs = [0.01, 0.005, 0.001, 0.0001];\n",
    "\n",
    "# Num epochs for each experiment to run\n",
    "epochs=5\n",
    "\n",
    "# Percentage of original dataset to take in for experimentation\n",
    "percent_data=10\n",
    "\n",
    "# \"keep_all\" - Keep all the sub experiments created\n",
    "# \"keep_non\" - Delete all sub experiments created\n",
    "ptf.Analyse_Learning_Rates(analysis_name, lrs, percent_data, num_epochs=epochs, state=\"keep_none\"); "
   ]
  },
  {
   "cell_type": "markdown",
   "metadata": {
    "colab_type": "text",
    "id": "yLvu4YGRUx14"
   },
   "source": [
    "## Update LR"
   ]
  },
  {
   "cell_type": "code",
   "execution_count": null,
   "metadata": {
    "colab": {},
    "colab_type": "code",
    "id": "c9e7-gCSUx15",
    "outputId": "60bb31e0-b107-4041-b185-3c1ad5cb1d46"
   },
   "outputs": [],
   "source": [
    "## Update Learning Rate\n",
    "ptf.update_learning_rate(0.01);\n",
    "ptf.Reload();"
   ]
  },
  {
   "cell_type": "markdown",
   "metadata": {
    "colab_type": "text",
    "id": "7NQCiM6qUx18"
   },
   "source": [
    "## Optimiser hunting"
   ]
  },
  {
   "cell_type": "code",
   "execution_count": null,
   "metadata": {
    "colab": {},
    "colab_type": "code",
    "id": "OrClBgftUx19",
    "outputId": "6f84c356-146e-4117-cabf-768383eaddbf"
   },
   "outputs": [],
   "source": [
    "# Analysis - 5\n",
    "# Analysis Project Name\n",
    "analysis_name = \"Optimiser_Finder\";\n",
    "\n",
    "# Optimizers to explore\n",
    "optimizers = [\"sgd\", \"adam\", \"adamax\", \"rmsprop\"];   #Model name, learning rate\n",
    "\n",
    "# Num epochs for each experiment to run\t\n",
    "epochs = 5;\n",
    "\n",
    "# Percentage of original dataset to take in for experimentation\n",
    "percent_data = 10;\n",
    "\n",
    "# \"keep_all\" - Keep all the sub experiments created\n",
    "# \"keep_non\" - Delete all sub experiments created\n",
    "ptf.Analyse_Optimizers(analysis_name, optimizers, percent_data, num_epochs=epochs, state=\"keep_none\"); "
   ]
  },
  {
   "cell_type": "markdown",
   "metadata": {
    "colab_type": "text",
    "id": "YCnDy-RgUx2B"
   },
   "source": [
    "## Update optimiser"
   ]
  },
  {
   "cell_type": "code",
   "execution_count": null,
   "metadata": {
    "colab": {},
    "colab_type": "code",
    "id": "HAFpFW-pUx2C",
    "outputId": "23c37784-01e3-4514-be4e-55f57585de93"
   },
   "outputs": [],
   "source": [
    "## Update Optimiser\n",
    "\n",
    "ptf.optimizer_adamax(0.001);\n",
    "ptf.Reload();"
   ]
  },
  {
   "cell_type": "markdown",
   "metadata": {
    "colab_type": "text",
    "id": "oDRdRTUCUx2F"
   },
   "source": [
    "### Set intermediate state saving to false"
   ]
  },
  {
   "cell_type": "markdown",
   "metadata": {
    "colab_type": "text",
    "id": "_tsKdsJbUx2G"
   },
   "source": [
    "This step reduces the size of our workspaces"
   ]
  },
  {
   "cell_type": "code",
   "execution_count": null,
   "metadata": {
    "colab": {},
    "colab_type": "code",
    "id": "sj1nB3JzUx2H",
    "outputId": "913901e2-c980-429d-be36-f9a36d72db06"
   },
   "outputs": [],
   "source": [
    "ptf.update_save_intermediate_models(False);"
   ]
  },
  {
   "cell_type": "markdown",
   "metadata": {
    "colab_type": "text",
    "id": "sNUtWo1xUx2L"
   },
   "source": [
    "## Train"
   ]
  },
  {
   "cell_type": "code",
   "execution_count": null,
   "metadata": {
    "colab": {},
    "colab_type": "code",
    "id": "mHhSpht3Ux2M",
    "outputId": "c23f3dfc-5d37-4504-aedd-5f69d3487bee"
   },
   "outputs": [],
   "source": [
    "ptf.Train();"
   ]
  },
  {
   "cell_type": "markdown",
   "metadata": {
    "colab_type": "text",
    "id": "VokWrnopUx2R"
   },
   "source": [
    "We can see that the losses can still go down. Next we create a new experiment using 'copy_experiment' and resume training to achieve further improvement."
   ]
  },
  {
   "cell_type": "code",
   "execution_count": null,
   "metadata": {
    "colab": {},
    "colab_type": "code",
    "id": "U8SlOgOEUx2W",
    "outputId": "f1b6ef90-887a-4442-fee7-b787e972385f"
   },
   "outputs": [],
   "source": [
    "ptf = prototype(verbose=1);\n",
    "ptf.Prototype(\"plant_disease\", \"exp2\", copy_from=[\"plant_disease\", \"exp1\"]);"
   ]
  },
  {
   "cell_type": "code",
   "execution_count": null,
   "metadata": {
    "colab": {},
    "colab_type": "code",
    "id": "5x0Yw-MEUx2a",
    "outputId": "fbcb5ebd-efb6-48a4-86f8-b3fa2e76d286"
   },
   "outputs": [],
   "source": [
    "ptf.Summary()"
   ]
  },
  {
   "cell_type": "code",
   "execution_count": null,
   "metadata": {
    "colab": {},
    "colab_type": "code",
    "id": "WdTsE5iYUx2c",
    "outputId": "29f8597f-70b1-4d98-8af0-bd12120bbb31"
   },
   "outputs": [],
   "source": [
    "ptf.update_num_epochs(10)\n",
    "ptf.Reload()"
   ]
  },
  {
   "cell_type": "code",
   "execution_count": null,
   "metadata": {
    "colab": {},
    "colab_type": "code",
    "id": "NMxkClbXUx2f",
    "outputId": "b6c02a5e-a916-400a-9605-914964619c01"
   },
   "outputs": [],
   "source": [
    "ptf.Train()"
   ]
  },
  {
   "cell_type": "markdown",
   "metadata": {
    "colab_type": "text",
    "id": "12-upS-eUx2i"
   },
   "source": [
    "## Compare"
   ]
  },
  {
   "cell_type": "code",
   "execution_count": null,
   "metadata": {
    "colab": {},
    "colab_type": "code",
    "id": "j0FS8zr3Ux2j"
   },
   "outputs": [],
   "source": [
    "from monk.compare_prototype import compare"
   ]
  },
  {
   "cell_type": "code",
   "execution_count": null,
   "metadata": {
    "colab": {},
    "colab_type": "code",
    "id": "Ub0FAEoVUx2m",
    "outputId": "8867808f-1cf3-4ab0-eb38-ff1308db9684"
   },
   "outputs": [],
   "source": [
    "ctf = compare(verbose=1);\n",
    "ctf.Comparison(\"plant_disease\");"
   ]
  },
  {
   "cell_type": "code",
   "execution_count": null,
   "metadata": {
    "colab": {},
    "colab_type": "code",
    "id": "tYGSyWoLUx2q",
    "outputId": "1199a79d-f0f6-4c68-daae-0e5cacfcbdd9"
   },
   "outputs": [],
   "source": [
    "ctf.Add_Experiment(\"plant_disease\", \"exp1\");\n",
    "ctf.Add_Experiment(\"plant_disease\", \"exp2\");"
   ]
  },
  {
   "cell_type": "code",
   "execution_count": null,
   "metadata": {
    "colab": {},
    "colab_type": "code",
    "id": "JQBEFurXUx2t",
    "outputId": "9937f823-e71d-412e-97d4-0b263604c702"
   },
   "outputs": [],
   "source": [
    "ctf.Generate_Statistics()"
   ]
  },
  {
   "cell_type": "markdown",
   "metadata": {
    "colab_type": "text",
    "id": "_6vYdTiXUx2v"
   },
   "source": [
    "## Inference"
   ]
  },
  {
   "cell_type": "code",
   "execution_count": null,
   "metadata": {
    "colab": {},
    "colab_type": "code",
    "id": "CL3AYolGUx2x",
    "outputId": "1b82ce15-a9ac-49b8-ece5-4ea449c0daf6"
   },
   "outputs": [],
   "source": [
    "import numpy as np\n",
    "import PIL.Image as Image\n",
    "import requests\n",
    "\n",
    "test_url = \"https://gardenerspath.com/wp-content/uploads/2019/08/Frogeye-spots-Botryosphaeria-obtusa-on-apple-leaf-FB.jpg\"\n",
    "\n",
    "# URL of the image to be downloaded is defined as image_url \n",
    "r = requests.get(test_url) # create HTTP response object \n",
    "with open('test.jpg','wb') as f: \n",
    "    f.write(r.content) \n",
    "\n",
    "test = Image.open('./test.jpg')\n",
    "test"
   ]
  },
  {
   "cell_type": "code",
   "execution_count": null,
   "metadata": {
    "colab": {},
    "colab_type": "code",
    "id": "rDx278aJUx20",
    "outputId": "432ef8d6-36de-478f-b580-c8e077b29ac6"
   },
   "outputs": [],
   "source": [
    "ptf = prototype(verbose=1);\n",
    "ptf.Prototype(\"plant_disease\", \"exp2\", eval_infer=True);"
   ]
  },
  {
   "cell_type": "code",
   "execution_count": null,
   "metadata": {
    "colab": {},
    "colab_type": "code",
    "id": "zYfGBRgeUx24",
    "outputId": "9a27fb62-aad0-473e-c160-da6c77ac53dc"
   },
   "outputs": [],
   "source": [
    "img_name = \"test.jpg\";\n",
    "predictions = ptf.Infer(img_name=img_name, return_raw=True);\n",
    "print(predictions)"
   ]
  },
  {
   "cell_type": "code",
   "execution_count": null,
   "metadata": {
    "colab": {},
    "colab_type": "code",
    "id": "KzM5oR5mUx27",
    "outputId": "14643eae-3b4b-405d-fb76-3e9cf94b229e"
   },
   "outputs": [],
   "source": [
    "import csv\n",
    "\n",
    "def read_labels():\n",
    "    mydict = {}\n",
    "    with open('./dataset/labels.csv', mode='r') as infile:\n",
    "        reader = csv.reader(infile)\n",
    "        with open('labels_new.csv', mode='w') as outfile:\n",
    "            writer = csv.writer(outfile)\n",
    "            mydict = {rows[0]:rows[1] for rows in reader}\n",
    "    return mydict\n",
    "\n",
    "def predict_label(predictions):\n",
    "    pred_class = predictions['predicted_class']\n",
    "    label_dict = read_labels()\n",
    "    out_label = label_dict[pred_class]\n",
    "    return out_label\n",
    "\n",
    "print(\"Predicted class for test image is : {}\".format(predict_label(predictions)))\n"
   ]
  },
  {
   "cell_type": "code",
   "execution_count": null,
   "metadata": {},
   "outputs": [],
   "source": []
  }
 ],
 "metadata": {
  "accelerator": "GPU",
  "colab": {
   "collapsed_sections": [],
   "name": "Plant_Disease_Classification.ipynb",
   "provenance": [],
   "toc_visible": true
  },
  "kernelspec": {
   "display_name": "Python 3",
   "language": "python",
   "name": "python3"
  },
  "language_info": {
   "codemirror_mode": {
    "name": "ipython",
    "version": 3
   },
   "file_extension": ".py",
   "mimetype": "text/x-python",
   "name": "python",
   "nbconvert_exporter": "python",
   "pygments_lexer": "ipython3",
   "version": "3.6.9"
  }
 },
 "nbformat": 4,
 "nbformat_minor": 1
}
