{
 "cells": [
  {
   "cell_type": "markdown",
   "metadata": {},
   "source": [
    "<a href=\"https://colab.research.google.com/github/Tessellate-Imaging/monk_v1/blob/master/study_roadmaps/4_image_classification_zoo/Classifier%20-%20Bengali%20Handwrittern%20Grapheme%20Dataset.ipynb\" target=\"_parent\"><img src=\"https://colab.research.google.com/assets/colab-badge.svg\" alt=\"Open In Colab\"/></a>"
   ]
  },
  {
   "cell_type": "code",
   "execution_count": null,
   "metadata": {},
   "outputs": [],
   "source": []
  },
  {
   "cell_type": "markdown",
   "metadata": {},
   "source": [
    "# Table of contents\n",
    "\n",
    "\n",
    "## Install Monk\n",
    "\n",
    "\n",
    "## Using pretrained model for benhali handwritten grapheme classification\n",
    "\n",
    "\n",
    "## Training a classifier from scratch (using default params)"
   ]
  },
  {
   "cell_type": "code",
   "execution_count": null,
   "metadata": {},
   "outputs": [],
   "source": []
  },
  {
   "cell_type": "markdown",
   "metadata": {},
   "source": [
    "## Using pip (Recommended)\n",
    "\n",
    "  - colab (gpu) \n",
    "      - All bakcends: `pip install -U monk-colab`\n",
    "      \n",
    "\n",
    "  - kaggle (gpu) \n",
    "      - All backends: `pip install -U monk-kaggle`\n",
    "      \n",
    "\n",
    "  - cuda 10.2\t\n",
    "      - All backends: `pip install -U monk-cuda102`\n",
    "      - Gluon bakcned: `pip install -U monk-gluon-cuda102`\n",
    "\t  - Pytorch backend: `pip install -U monk-pytorch-cuda102`\n",
    "      - Keras backend: `pip install -U monk-keras-cuda102`\n",
    "      \n",
    "\n",
    "  - cuda 10.1\t\n",
    "      - All backend: `pip install -U monk-cuda101`\n",
    "\t  - Gluon bakcned: `pip install -U monk-gluon-cuda101`\n",
    "\t  - Pytorch backend: `pip install -U monk-pytorch-cuda101`\n",
    "\t  - Keras backend: `pip install -U monk-keras-cuda101`\n",
    "      \n",
    "\n",
    "  - cuda 10.0\t\n",
    "      - All backend: `pip install -U monk-cuda100`\n",
    "\t  - Gluon bakcned: `pip install -U monk-gluon-cuda100`\n",
    "\t  - Pytorch backend: `pip install -U monk-pytorch-cuda100`\n",
    "\t  - Keras backend: `pip install -U monk-keras-cuda100`\n",
    "      \n",
    "\n",
    "  - cuda 9.2\t\n",
    "      - All backend: `pip install -U monk-cuda92`\n",
    "\t  - Gluon bakcned: `pip install -U monk-gluon-cuda92`\n",
    "\t  - Pytorch backend: `pip install -U monk-pytorch-cuda92`\n",
    "\t  - Keras backend: `pip install -U monk-keras-cuda92`\n",
    "      \n",
    "\n",
    "  - cuda 9.0\t\n",
    "      - All backend: `pip install -U monk-cuda90`\n",
    "\t  - Gluon bakcned: `pip install -U monk-gluon-cuda90`\n",
    "\t  - Pytorch backend: `pip install -U monk-pytorch-cuda90`\n",
    "\t  - Keras backend: `pip install -U monk-keras-cuda90`\n",
    "      \n",
    "\n",
    "  - cpu \t\t\n",
    "      - All backend: `pip install -U monk-cpu`\n",
    "\t  - Gluon bakcned: `pip install -U monk-gluon-cpu`\n",
    "\t  - Pytorch backend: `pip install -U monk-pytorch-cpu`\n",
    "\t  - Keras backend: `pip install -U monk-keras-cpu`"
   ]
  },
  {
   "cell_type": "code",
   "execution_count": null,
   "metadata": {},
   "outputs": [],
   "source": []
  },
  {
   "cell_type": "markdown",
   "metadata": {},
   "source": [
    "## Install Monk Manually (Not recommended)\n",
    " \n",
    "### Step 1: Clone the library\n",
    " - git clone https://github.com/Tessellate-Imaging/monk_v1.git\n",
    " \n",
    " \n",
    " \n",
    " \n",
    "### Step 2: Install requirements \n",
    " - Linux\n",
    "     - Cuda 9.0\n",
    "         - `cd monk_v1/installation/Linux && pip install -r requirements_cu90.txt`\n",
    "     - Cuda 9.2\n",
    "         - `cd monk_v1/installation/Linux && pip install -r requirements_cu92.txt`\n",
    "     - Cuda 10.0\n",
    "         - `cd monk_v1/installation/Linux && pip install -r requirements_cu100.txt`\n",
    "     - Cuda 10.1\n",
    "         - `cd monk_v1/installation/Linux && pip install -r requirements_cu101.txt`\n",
    "     - Cuda 10.2\n",
    "         - `cd monk_v1/installation/Linux && pip install -r requirements_cu102.txt`\n",
    "     - CPU (Non gpu system)\n",
    "         - `cd monk_v1/installation/Linux && pip install -r requirements_cpu.txt`\n",
    " \n",
    " \n",
    "  - Windows\n",
    "     - Cuda 9.0 (Experimental support)\n",
    "         - `cd monk_v1/installation/Windows && pip install -r requirements_cu90.txt`\n",
    "     - Cuda 9.2 (Experimental support)\n",
    "         - `cd monk_v1/installation/Windows && pip install -r requirements_cu92.txt`\n",
    "     - Cuda 10.0 (Experimental support)\n",
    "         - `cd monk_v1/installation/Windows && pip install -r requirements_cu100.txt`\n",
    "     - Cuda 10.1 (Experimental support)\n",
    "         - `cd monk_v1/installation/Windows && pip install -r requirements_cu101.txt`\n",
    "     - Cuda 10.2 (Experimental support)\n",
    "         - `cd monk_v1/installation/Windows && pip install -r requirements_cu102.txt`\n",
    "     - CPU (Non gpu system)\n",
    "         - `cd monk_v1/installation/Windows && pip install -r requirements_cpu.txt`\n",
    "         \n",
    "         \n",
    "  - Mac\n",
    "     - CPU (Non gpu system)\n",
    "         - `cd monk_v1/installation/Mac && pip install -r requirements_cpu.txt`\n",
    "         \n",
    "         \n",
    "  - Misc\n",
    "      - Colab (GPU)\n",
    "          - `cd monk_v1/installation/Misc && pip install -r requirements_colab.txt`\n",
    "      - Kaggle (GPU)\n",
    "          - `cd monk_v1/installation/Misc && pip install -r requirements_kaggle.txt`\n",
    " \n",
    " \n",
    " \n",
    "### Step 3: Add to system path (Required for every terminal or kernel run)\n",
    " - `import sys`\n",
    " - `sys.path.append(\"monk_v1/\");`"
   ]
  },
  {
   "cell_type": "code",
   "execution_count": null,
   "metadata": {},
   "outputs": [],
   "source": []
  },
  {
   "cell_type": "markdown",
   "metadata": {},
   "source": [
    "# Used trained classifier for demo"
   ]
  },
  {
   "cell_type": "code",
   "execution_count": 14,
   "metadata": {},
   "outputs": [],
   "source": [
    "#Using mxnet-gluon backend \n",
    "\n",
    "# When installed using pip\n",
    "from monk.gluon_prototype import prototype\n",
    "\n",
    "\n",
    "# When installed manually (Uncomment the following)\n",
    "#import os\n",
    "#import sys\n",
    "#sys.path.append(\"monk_v1/\");\n",
    "#sys.path.append(\"monk_v1/monk/\");\n",
    "#from monk.keras_prototype import prototype"
   ]
  },
  {
   "cell_type": "code",
   "execution_count": null,
   "metadata": {},
   "outputs": [],
   "source": [
    "# Download trained weights"
   ]
  },
  {
   "cell_type": "code",
   "execution_count": null,
   "metadata": {},
   "outputs": [],
   "source": [
    "! wget --load-cookies /tmp/cookies.txt \"https://docs.google.com/uc?export=download&confirm=$(wget --save-cookies /tmp/cookies.txt --keep-session-cookies --no-check-certificate 'https://docs.google.com/uc?export=download&id=1bzqPBwFVMOZ-3p2sS2f4MHDM1kOwpbiy' -O- | sed -rn 's/.*confirm=([0-9A-Za-z_]+).*/\\1\\n/p')&id=1bzqPBwFVMOZ-3p2sS2f4MHDM1kOwpbiy\" -O cls_bengali_grapheme_trained.zip && rm -rf /tmp/cookies.txt"
   ]
  },
  {
   "cell_type": "code",
   "execution_count": null,
   "metadata": {},
   "outputs": [],
   "source": [
    "! unzip -qq cls_bengali_grapheme_trained.zip "
   ]
  },
  {
   "cell_type": "code",
   "execution_count": 16,
   "metadata": {},
   "outputs": [
    {
     "name": "stdout",
     "output_type": "stream",
     "text": [
      "\u001b[0m\u001b[01;34mGluon-resnet18\u001b[0m/  \u001b[01;34mGluon-resnet34\u001b[0m/  \u001b[01;34mGluon-resnet50\u001b[0m/\r\n"
     ]
    }
   ],
   "source": [
    "ls workspace/Project-Bengali-Character-Consonent/"
   ]
  },
  {
   "cell_type": "code",
   "execution_count": 17,
   "metadata": {},
   "outputs": [
    {
     "name": "stdout",
     "output_type": "stream",
     "text": [
      "Mxnet Version: 1.5.1\n",
      "\n",
      "Model Details\n",
      "    Loading model - workspace/Project-Bengali-Character-Grapheme/Gluon-resnet50/output/models/final-symbol.json\n",
      "    Model loaded!\n",
      "\n",
      "Experiment Details\n",
      "    Project: Project-Bengali-Character-Grapheme\n",
      "    Experiment: Gluon-resnet50\n",
      "    Dir: /home/ubuntu/Desktop/bengali/workspace/Project-Bengali-Character-Grapheme/Gluon-resnet50/\n",
      "\n"
     ]
    }
   ],
   "source": [
    "# Load project in inference mode\n",
    "\n",
    "gtf1 = prototype(verbose=1);\n",
    "gtf1.Prototype(\"Project-Bengali-Character-Grapheme\", \"Gluon-resnet50\", eval_infer=True);\n",
    "\n",
    "#Other trained models - uncomment \n",
    "#gtf1.Prototype(\"Project-Bengali-Character-Grapheme\", \"Gluon-resnet34\", eval_infer=True);\n",
    "#gtf1.Prototype(\"Project-Bengali-Character-Grapheme\", \"Gluon-resnet18\", eval_infer=True);"
   ]
  },
  {
   "cell_type": "code",
   "execution_count": 18,
   "metadata": {},
   "outputs": [
    {
     "name": "stdout",
     "output_type": "stream",
     "text": [
      "Mxnet Version: 1.5.1\n",
      "\n",
      "Model Details\n",
      "    Loading model - workspace/Project-Bengali-Character-Vowel/Gluon-resnet50/output/models/final-symbol.json\n",
      "    Model loaded!\n",
      "\n",
      "Experiment Details\n",
      "    Project: Project-Bengali-Character-Vowel\n",
      "    Experiment: Gluon-resnet50\n",
      "    Dir: /home/ubuntu/Desktop/bengali/workspace/Project-Bengali-Character-Vowel/Gluon-resnet50/\n",
      "\n"
     ]
    }
   ],
   "source": [
    "# Load project in inference mode\n",
    "\n",
    "gtf2 = prototype(verbose=1);\n",
    "gtf2.Prototype(\"Project-Bengali-Character-Vowel\", \"Gluon-resnet50\", eval_infer=True);\n",
    "\n",
    "#Other trained models - uncomment \n",
    "#gtf2.Prototype(\"Project-Bengali-Character-Vowel\", \"Gluon-resnet34\", eval_infer=True);\n",
    "#gtf2.Prototype(\"Project-Bengali-Character-Vowel\", \"Gluon-resnet18\", eval_infer=True);"
   ]
  },
  {
   "cell_type": "code",
   "execution_count": 19,
   "metadata": {},
   "outputs": [
    {
     "name": "stdout",
     "output_type": "stream",
     "text": [
      "Mxnet Version: 1.5.1\n",
      "\n",
      "Model Details\n",
      "    Loading model - workspace/Project-Bengali-Character-Consonent/Gluon-resnet50/output/models/final-symbol.json\n",
      "    Model loaded!\n",
      "\n",
      "Experiment Details\n",
      "    Project: Project-Bengali-Character-Consonent\n",
      "    Experiment: Gluon-resnet50\n",
      "    Dir: /home/ubuntu/Desktop/bengali/workspace/Project-Bengali-Character-Consonent/Gluon-resnet50/\n",
      "\n"
     ]
    }
   ],
   "source": [
    "# Load project in inference mode\n",
    "\n",
    "gtf3 = prototype(verbose=1);\n",
    "gtf3.Prototype(\"Project-Bengali-Character-Consonent\", \"Gluon-resnet50\", eval_infer=True);\n",
    "\n",
    "#Other trained models - uncomment \n",
    "#gtf3.Prototype(\"Project-Bengali-Character-Consonent\", \"Gluon-resnet34\", eval_infer=True);\n",
    "#gtf3.Prototype(\"Project-Bengali-Character-Consonent\", \"Gluon-resnet18\", eval_infer=True);"
   ]
  },
  {
   "cell_type": "code",
   "execution_count": 20,
   "metadata": {},
   "outputs": [],
   "source": [
    "import os\n",
    "img_list = os.listdir(\"workspace/test/\")"
   ]
  },
  {
   "cell_type": "code",
   "execution_count": 21,
   "metadata": {},
   "outputs": [
    {
     "data": {
      "text/plain": [
       "['Test_2.jpg', 'Test_0.jpg', 'Test_1.jpg']"
      ]
     },
     "execution_count": 21,
     "metadata": {},
     "output_type": "execute_result"
    }
   ],
   "source": [
    "img_list"
   ]
  },
  {
   "cell_type": "code",
   "execution_count": 22,
   "metadata": {},
   "outputs": [
    {
     "name": "stdout",
     "output_type": "stream",
     "text": [
      "Prediction\n",
      "    Image name:         workspace/test/Test_0.jpg\n",
      "    Predicted class:      grapheme_root_3\n",
      "    Predicted score:      0.9314128756523132\n",
      "\n",
      "Prediction\n",
      "    Image name:         workspace/test/Test_0.jpg\n",
      "    Predicted class:      vowel_diacritic_0\n",
      "    Predicted score:      0.9973722696304321\n",
      "\n",
      "Prediction\n",
      "    Image name:         workspace/test/Test_0.jpg\n",
      "    Predicted class:      consonant_diacritic_0\n",
      "    Predicted score:      0.9780309796333313\n",
      "\n"
     ]
    },
    {
     "data": {
      "image/jpeg": "[encoded data removed]",
      "text/plain": [
       "<IPython.core.display.Image object>"
      ]
     },
     "execution_count": 22,
     "metadata": {},
     "output_type": "execute_result"
    }
   ],
   "source": [
    "img_name = \"workspace/test/Test_0.jpg\"\n",
    "predictions1 = gtf1.Infer(img_name=img_name);\n",
    "predictions2 = gtf2.Infer(img_name=img_name);\n",
    "predictions3 = gtf3.Infer(img_name=img_name);\n",
    "from IPython.display import Image\n",
    "Image(filename=img_name)"
   ]
  },
  {
   "cell_type": "code",
   "execution_count": 23,
   "metadata": {},
   "outputs": [
    {
     "name": "stdout",
     "output_type": "stream",
     "text": [
      "Prediction\n",
      "    Image name:         workspace/test/Test_1.jpg\n",
      "    Predicted class:      grapheme_root_93\n",
      "    Predicted score:      0.9997119307518005\n",
      "\n",
      "Prediction\n",
      "    Image name:         workspace/test/Test_1.jpg\n",
      "    Predicted class:      vowel_diacritic_2\n",
      "    Predicted score:      0.9997062683105469\n",
      "\n",
      "Prediction\n",
      "    Image name:         workspace/test/Test_1.jpg\n",
      "    Predicted class:      consonant_diacritic_0\n",
      "    Predicted score:      0.9973165392875671\n",
      "\n"
     ]
    },
    {
     "data": {
      "image/jpeg": "[encoded data removed]",
      "text/plain": [
       "<IPython.core.display.Image object>"
      ]
     },
     "execution_count": 23,
     "metadata": {},
     "output_type": "execute_result"
    }
   ],
   "source": [
    "img_name = \"workspace/test/Test_1.jpg\"\n",
    "predictions1 = gtf1.Infer(img_name=img_name);\n",
    "predictions2 = gtf2.Infer(img_name=img_name);\n",
    "predictions3 = gtf3.Infer(img_name=img_name);\n",
    "from IPython.display import Image\n",
    "Image(filename=img_name)"
   ]
  },
  {
   "cell_type": "code",
   "execution_count": 24,
   "metadata": {},
   "outputs": [
    {
     "name": "stdout",
     "output_type": "stream",
     "text": [
      "Prediction\n",
      "    Image name:         workspace/test/Test_2.jpg\n",
      "    Predicted class:      grapheme_root_19\n",
      "    Predicted score:      0.7086917161941528\n",
      "\n",
      "Prediction\n",
      "    Image name:         workspace/test/Test_2.jpg\n",
      "    Predicted class:      vowel_diacritic_0\n",
      "    Predicted score:      0.999880850315094\n",
      "\n",
      "Prediction\n",
      "    Image name:         workspace/test/Test_2.jpg\n",
      "    Predicted class:      consonant_diacritic_0\n",
      "    Predicted score:      0.9999752044677734\n",
      "\n"
     ]
    },
    {
     "data": {
      "image/jpeg": "[encoded data removed]",
      "text/plain": [
       "<IPython.core.display.Image object>"
      ]
     },
     "execution_count": 24,
     "metadata": {},
     "output_type": "execute_result"
    }
   ],
   "source": [
    "img_name = \"workspace/test/Test_2.jpg\"\n",
    "predictions1 = gtf1.Infer(img_name=img_name);\n",
    "predictions2 = gtf2.Infer(img_name=img_name);\n",
    "predictions3 = gtf3.Infer(img_name=img_name);\n",
    "from IPython.display import Image\n",
    "Image(filename=img_name)"
   ]
  },
  {
   "cell_type": "code",
   "execution_count": null,
   "metadata": {},
   "outputs": [],
   "source": []
  },
  {
   "cell_type": "markdown",
   "metadata": {},
   "source": [
    "# Dataset Details\n",
    "  - Credits: https://www.kaggle.com/c/bengaliai-cv19"
   ]
  },
  {
   "cell_type": "code",
   "execution_count": null,
   "metadata": {},
   "outputs": [],
   "source": [
    "! pip install kaggle"
   ]
  },
  {
   "cell_type": "code",
   "execution_count": null,
   "metadata": {},
   "outputs": [],
   "source": [
    "! kaggle competitions download -c bengaliai-cv19"
   ]
  },
  {
   "cell_type": "code",
   "execution_count": null,
   "metadata": {},
   "outputs": [],
   "source": [
    "! unzip -qq bengaliai-cv19.zip"
   ]
  },
  {
   "cell_type": "code",
   "execution_count": null,
   "metadata": {},
   "outputs": [],
   "source": [
    "! pip install fastparquet pyarrow"
   ]
  },
  {
   "cell_type": "code",
   "execution_count": null,
   "metadata": {},
   "outputs": [],
   "source": [
    "! mkdir dataset\n",
    "! mkdir dataset/train\n",
    "! mkdir dataset/test"
   ]
  },
  {
   "cell_type": "code",
   "execution_count": null,
   "metadata": {},
   "outputs": [],
   "source": []
  },
  {
   "cell_type": "code",
   "execution_count": null,
   "metadata": {},
   "outputs": [],
   "source": [
    "import os \n",
    "import sys\n",
    "import pandas as pd\n",
    "import numpy as np\n",
    "import cv2"
   ]
  },
  {
   "cell_type": "code",
   "execution_count": null,
   "metadata": {},
   "outputs": [],
   "source": [
    "parquet_list = pd.read_parquet(\"train_image_data_0.parquet\");"
   ]
  },
  {
   "cell_type": "code",
   "execution_count": null,
   "metadata": {},
   "outputs": [],
   "source": [
    "parquet_list.columns"
   ]
  },
  {
   "cell_type": "code",
   "execution_count": null,
   "metadata": {},
   "outputs": [],
   "source": [
    "from tqdm import tqdm\n",
    "\n",
    "for i in tqdm(range(len(parquet_list))):\n",
    "    img_id = parquet_list[\"image_id\"][i]\n",
    "    row = np.array(parquet_list.iloc[i][1:])\n",
    "    row = np.reshape(row, (137, 236))\n",
    "    img = np.array(row);\n",
    "    img = img.astype(np.uint8)\n",
    "    #print(img_id, img.shape)\n",
    "    cv2.imwrite(\"dataset/train/\" + img_id + '.jpg', img);"
   ]
  },
  {
   "cell_type": "code",
   "execution_count": null,
   "metadata": {},
   "outputs": [],
   "source": [
    "parquet_list = pd.read_parquet(\"train_image_data_1.parquet\");"
   ]
  },
  {
   "cell_type": "code",
   "execution_count": null,
   "metadata": {},
   "outputs": [],
   "source": [
    "from tqdm import tqdm\n",
    "\n",
    "for i in tqdm(range(len(parquet_list))):\n",
    "    img_id = parquet_list[\"image_id\"][i]\n",
    "    row = np.array(parquet_list.iloc[i][1:])\n",
    "    row = np.reshape(row, (137, 236))\n",
    "    img = np.array(row);\n",
    "    img = img.astype(np.uint8)\n",
    "    cv2.imwrite(\"dataset/train/\" + img_id + '.jpg', img);"
   ]
  },
  {
   "cell_type": "code",
   "execution_count": null,
   "metadata": {},
   "outputs": [],
   "source": [
    "parquet_list = pd.read_parquet(\"train_image_data_2.parquet\");"
   ]
  },
  {
   "cell_type": "code",
   "execution_count": null,
   "metadata": {},
   "outputs": [],
   "source": [
    "from tqdm import tqdm\n",
    "\n",
    "for i in tqdm(range(len(parquet_list))):\n",
    "    img_id = parquet_list[\"image_id\"][i]\n",
    "    row = np.array(parquet_list.iloc[i][1:])\n",
    "    row = np.reshape(row, (137, 236))\n",
    "    img = np.array(row);\n",
    "    img = img.astype(np.uint8)\n",
    "    #print(img_id, img.shape)\n",
    "    cv2.imwrite(\"dataset/train/\" + img_id + '.jpg', img);"
   ]
  },
  {
   "cell_type": "code",
   "execution_count": null,
   "metadata": {},
   "outputs": [],
   "source": [
    "parquet_list = pd.read_parquet(\"train_image_data_3.parquet\");"
   ]
  },
  {
   "cell_type": "code",
   "execution_count": null,
   "metadata": {},
   "outputs": [],
   "source": [
    "from tqdm import tqdm\n",
    "\n",
    "for i in tqdm(range(len(parquet_list))):\n",
    "    img_id = parquet_list[\"image_id\"][i]\n",
    "    row = np.array(parquet_list.iloc[i][1:])\n",
    "    row = np.reshape(row, (137, 236))\n",
    "    img = np.array(row);\n",
    "    img = img.astype(np.uint8)\n",
    "    #print(img_id, img.shape)\n",
    "    cv2.imwrite(\"dataset/train/\" + img_id + '.jpg', img);"
   ]
  },
  {
   "cell_type": "code",
   "execution_count": 1,
   "metadata": {},
   "outputs": [],
   "source": [
    "import pandas as pd\n",
    "df = pd.read_csv(\"train.csv\")"
   ]
  },
  {
   "cell_type": "code",
   "execution_count": 2,
   "metadata": {},
   "outputs": [
    {
     "data": {
      "text/plain": [
       "Index(['image_id', 'grapheme_root', 'vowel_diacritic', 'consonant_diacritic',\n",
       "       'grapheme'],\n",
       "      dtype='object')"
      ]
     },
     "execution_count": 2,
     "metadata": {},
     "output_type": "execute_result"
    }
   ],
   "source": [
    "df.columns"
   ]
  },
  {
   "cell_type": "code",
   "execution_count": 3,
   "metadata": {},
   "outputs": [
    {
     "name": "stderr",
     "output_type": "stream",
     "text": [
      "100%|██████████| 200840/200840 [00:06<00:00, 30975.97it/s]\n"
     ]
    }
   ],
   "source": [
    "combined1 = [];\n",
    "combined2 = [];\n",
    "combined3 = [];\n",
    "\n",
    "from tqdm import tqdm\n",
    "for i in tqdm(range(len(df))):\n",
    "    img_name = df[\"image_id\"][i] + \".jpg\"\n",
    "    grapheme_root = \"grapheme_root_\" + str(df[\"grapheme_root\"][i])\n",
    "    vowel_diacritic = \"vowel_diacritic_\" + str(df[\"vowel_diacritic\"][i])\n",
    "    consonant_diacritic = \"consonant_diacritic_\" + str(df[\"consonant_diacritic\"][i])\n",
    "    combined1.append([img_name, grapheme_root]);\n",
    "    combined2.append([img_name, vowel_diacritic]);\n",
    "    combined3.append([img_name, consonant_diacritic]);"
   ]
  },
  {
   "cell_type": "code",
   "execution_count": 9,
   "metadata": {},
   "outputs": [],
   "source": [
    "df1 = pd.DataFrame(combined1, columns = ['Id', 'Label'])\n",
    "df1.to_csv(\"train_grapheme.csv\", index=False)"
   ]
  },
  {
   "cell_type": "code",
   "execution_count": 10,
   "metadata": {},
   "outputs": [],
   "source": [
    "df2 = pd.DataFrame(combined2, columns = ['Id', 'Label'])\n",
    "df2.to_csv(\"train_vowel.csv\", index=False)"
   ]
  },
  {
   "cell_type": "code",
   "execution_count": 11,
   "metadata": {},
   "outputs": [],
   "source": [
    "df3 = pd.DataFrame(combined3, columns = ['Id', 'Label'])\n",
    "df3.to_csv(\"train_consonent.csv\", index=False)"
   ]
  },
  {
   "cell_type": "code",
   "execution_count": 25,
   "metadata": {},
   "outputs": [],
   "source": [
    "# Test Images"
   ]
  },
  {
   "cell_type": "code",
   "execution_count": null,
   "metadata": {},
   "outputs": [],
   "source": [
    "import os \n",
    "import sys\n",
    "import pandas as pd\n",
    "import numpy as np\n",
    "import cv2"
   ]
  },
  {
   "cell_type": "code",
   "execution_count": null,
   "metadata": {},
   "outputs": [],
   "source": [
    "parquet_list = pd.read_parquet(\"test_image_data_0.parquet\");"
   ]
  },
  {
   "cell_type": "code",
   "execution_count": null,
   "metadata": {},
   "outputs": [],
   "source": [
    "from tqdm import tqdm\n",
    "\n",
    "for i in tqdm(range(len(parquet_list))):\n",
    "    img_id = parquet_list[\"image_id\"][i]\n",
    "    row = np.array(parquet_list.iloc[i][1:])\n",
    "    row = np.reshape(row, (137, 236))\n",
    "    img = np.array(row);\n",
    "    img = img.astype(np.uint8)\n",
    "    #print(img_id, img.shape)\n",
    "    cv2.imwrite(\"dataset/test/\" + img_id + '.jpg', img);"
   ]
  },
  {
   "cell_type": "code",
   "execution_count": null,
   "metadata": {},
   "outputs": [],
   "source": [
    "parquet_list = pd.read_parquet(\"test_image_data_1.parquet\");"
   ]
  },
  {
   "cell_type": "code",
   "execution_count": null,
   "metadata": {},
   "outputs": [],
   "source": [
    "from tqdm import tqdm\n",
    "\n",
    "for i in tqdm(range(len(parquet_list))):\n",
    "    img_id = parquet_list[\"image_id\"][i]\n",
    "    row = np.array(parquet_list.iloc[i][1:])\n",
    "    row = np.reshape(row, (137, 236))\n",
    "    img = np.array(row);\n",
    "    img = img.astype(np.uint8)\n",
    "    #print(img_id, img.shape)\n",
    "    cv2.imwrite(\"dataset/test/\" + img_id + '.jpg', img);"
   ]
  },
  {
   "cell_type": "code",
   "execution_count": null,
   "metadata": {},
   "outputs": [],
   "source": [
    "parquet_list = pd.read_parquet(\"test_image_data_2.parquet\");"
   ]
  },
  {
   "cell_type": "code",
   "execution_count": null,
   "metadata": {},
   "outputs": [],
   "source": [
    "from tqdm import tqdm\n",
    "\n",
    "for i in tqdm(range(len(parquet_list))):\n",
    "    img_id = parquet_list[\"image_id\"][i]\n",
    "    row = np.array(parquet_list.iloc[i][1:])\n",
    "    row = np.reshape(row, (137, 236))\n",
    "    img = np.array(row);\n",
    "    img = img.astype(np.uint8)\n",
    "    #print(img_id, img.shape)\n",
    "    cv2.imwrite(\"dataset/test/\" + img_id + '.jpg', img);"
   ]
  },
  {
   "cell_type": "code",
   "execution_count": null,
   "metadata": {},
   "outputs": [],
   "source": [
    "parquet_list = pd.read_parquet(\"test_image_data_3.parquet\");"
   ]
  },
  {
   "cell_type": "code",
   "execution_count": null,
   "metadata": {},
   "outputs": [],
   "source": [
    "from tqdm import tqdm\n",
    "\n",
    "for i in tqdm(range(len(parquet_list))):\n",
    "    img_id = parquet_list[\"image_id\"][i]\n",
    "    row = np.array(parquet_list.iloc[i][1:])\n",
    "    row = np.reshape(row, (137, 236))\n",
    "    img = np.array(row);\n",
    "    img = img.astype(np.uint8)\n",
    "    #print(img_id, img.shape)\n",
    "    cv2.imwrite(\"dataset/test/\" + img_id + '.jpg', img);"
   ]
  },
  {
   "cell_type": "code",
   "execution_count": null,
   "metadata": {},
   "outputs": [],
   "source": []
  },
  {
   "cell_type": "markdown",
   "metadata": {},
   "source": [
    "# Training"
   ]
  },
  {
   "cell_type": "code",
   "execution_count": 1,
   "metadata": {},
   "outputs": [],
   "source": [
    "from monk.gluon_prototype import prototype"
   ]
  },
  {
   "cell_type": "code",
   "execution_count": 2,
   "metadata": {},
   "outputs": [
    {
     "name": "stdout",
     "output_type": "stream",
     "text": [
      "Mxnet Version: 1.5.1\n",
      "\n",
      "Experiment Details\n",
      "    Project: Project-Bengali-Character-Grapheme\n",
      "    Experiment: Gluon-resnet18\n",
      "    Dir: /home/ubuntu/Desktop/bengali/workspace/Project-Bengali-Character-Grapheme/Gluon-resnet18/\n",
      "\n"
     ]
    }
   ],
   "source": [
    "gtf = prototype(verbose=1);\n",
    "gtf.Prototype(\"Project-Bengali-Character-Grapheme\", \"Gluon-resnet18\");"
   ]
  },
  {
   "cell_type": "code",
   "execution_count": 3,
   "metadata": {},
   "outputs": [
    {
     "name": "stdout",
     "output_type": "stream",
     "text": [
      "Dataset Details\n",
      "    Train path:     dataset/train/\n",
      "    Val path:       None\n",
      "    CSV train path: train_grapheme.csv\n",
      "    CSV val path:   None\n",
      "    Label Type:     single\n",
      "\n",
      "Dataset Params\n",
      "    Input Size:   224\n",
      "    Batch Size:   4\n",
      "    Data Shuffle: True\n",
      "    Processors:   8\n",
      "    Train-val split:   0.7\n",
      "    Delimiter:   ,\n",
      "\n",
      "Pre-Composed Train Transforms\n",
      "[{'RandomHorizontalFlip': {'p': 0.8}}, {'Normalize': {'mean': [0.485, 0.456, 0.406], 'std': [0.229, 0.224, 0.225]}}]\n",
      "\n",
      "Pre-Composed Val Transforms\n",
      "[{'RandomHorizontalFlip': {'p': 0.8}}, {'Normalize': {'mean': [0.485, 0.456, 0.406], 'std': [0.229, 0.224, 0.225]}}]\n",
      "\n",
      "Dataset Numbers\n",
      "    Num train images: 140588\n",
      "    Num val images:   60252\n",
      "    Num classes:      168\n",
      "\n",
      "Model Params\n",
      "    Model name:           resnet18_v1\n",
      "    Use Gpu:              True\n",
      "    Use pretrained:       True\n",
      "    Freeze base network:  False\n",
      "\n",
      "Model Details\n",
      "    Loading pretrained model\n",
      "    Model Loaded on device\n",
      "        Model name:                           resnet18_v1\n",
      "        Num of potentially trainable layers:  41\n",
      "        Num of actual trainable layers:       41\n",
      "\n",
      "Optimizer\n",
      "    Name:          sgd\n",
      "    Learning rate: 0.01\n",
      "    Params:        {'lr': 0.01, 'momentum': 0, 'weight_decay': 0, 'momentum_dampening_rate': 0, 'clipnorm': 0.0, 'clipvalue': 0.0}\n",
      "\n",
      "\n",
      "\n",
      "Learning rate scheduler\n",
      "    Name:   steplr\n",
      "    Params: {'step_size': 1, 'gamma': 0.98, 'last_epoch': -1}\n",
      "\n",
      "Loss\n",
      "    Name:          softmaxcrossentropy\n",
      "    Params:        {'weight': None, 'batch_axis': 0, 'axis_to_sum_over': -1, 'label_as_categories': True, 'label_smoothing': False}\n",
      "\n",
      "Training params\n",
      "    Num Epochs: 2\n",
      "\n",
      "Display params\n",
      "    Display progress:          True\n",
      "    Display progress realtime: True\n",
      "    Save Training logs:        True\n",
      "    Save Intermediate models:  True\n",
      "    Intermediate model prefix: intermediate_model_\n",
      "\n"
     ]
    },
    {
     "name": "stderr",
     "output_type": "stream",
     "text": [
      "/home/ubuntu/.virtualenvs/bengali/lib/python3.6/site-packages/monk/system/imports.py:160: UserWarning: ArgumentWarning: clipnorm and clipvalue are active only for keras in current version of Monk\n",
      "  warnings.warn(msg)\n",
      "/home/ubuntu/.virtualenvs/bengali/lib/python3.6/site-packages/monk/system/imports.py:160: UserWarning: ArgumentWarning: momentum_dampening_rate is active only for pytorch in current version of Monk\n",
      "  warnings.warn(msg)\n"
     ]
    }
   ],
   "source": [
    "gtf.Default(dataset_path=\"dataset/train/\",\n",
    "            path_to_csv=\"train_grapheme.csv\",\n",
    "            model_name=\"resnet18_v1\", \n",
    "            freeze_base_network=False,\n",
    "            num_epochs=2);"
   ]
  },
  {
   "cell_type": "code",
   "execution_count": 4,
   "metadata": {},
   "outputs": [
    {
     "name": "stdout",
     "output_type": "stream",
     "text": [
      "Update: Save Intermediate models - False\n",
      "\n",
      "Update: Batch size - 64\n",
      "\n",
      "Pre-Composed Train Transforms\n",
      "[{'RandomHorizontalFlip': {'p': 0.8}}, {'Normalize': {'mean': [0.485, 0.456, 0.406], 'std': [0.229, 0.224, 0.225]}}]\n",
      "\n",
      "Pre-Composed Val Transforms\n",
      "[{'RandomHorizontalFlip': {'p': 0.8}}, {'Normalize': {'mean': [0.485, 0.456, 0.406], 'std': [0.229, 0.224, 0.225]}}]\n",
      "\n",
      "Dataset Numbers\n",
      "    Num train images: 140588\n",
      "    Num val images:   60252\n",
      "    Num classes:      168\n",
      "\n",
      "Model Details\n",
      "    Loading pretrained model\n",
      "    Model Loaded on device\n",
      "        Model name:                           resnet18_v1\n",
      "        Num of potentially trainable layers:  41\n",
      "        Num of actual trainable layers:       41\n",
      "\n"
     ]
    }
   ],
   "source": [
    "gtf.update_save_intermediate_models(False);\n",
    "gtf.update_batch_size(64);\n",
    "\n",
    "#Important to reload the system post updates\n",
    "gtf.Reload();"
   ]
  },
  {
   "cell_type": "code",
   "execution_count": 5,
   "metadata": {},
   "outputs": [
    {
     "name": "stdout",
     "output_type": "stream",
     "text": [
      "Training Start\n",
      "    Epoch 1/2\n",
      "    ----------\n"
     ]
    },
    {
     "data": {
      "application/vnd.jupyter.widget-view+json": {
       "model_id": "af464c41875f4608b1378d1fc2599bfb",
       "version_major": 2,
       "version_minor": 0
      },
      "text/plain": [
       "HBox(children=(FloatProgress(value=0.0, max=2197.0), HTML(value='')))"
      ]
     },
     "metadata": {},
     "output_type": "display_data"
    },
    {
     "data": {
      "application/vnd.jupyter.widget-view+json": {
       "model_id": "8e6181c8628c4b73bd85c8874c182e73",
       "version_major": 2,
       "version_minor": 0
      },
      "text/plain": [
       "HBox(children=(FloatProgress(value=0.0, max=942.0), HTML(value='')))"
      ]
     },
     "metadata": {},
     "output_type": "display_data"
    },
    {
     "name": "stdout",
     "output_type": "stream",
     "text": [
      "\n",
      "\n",
      "    curr_lr - 0.01\n",
      "    [Epoch 1] Train-acc: 0.613, Train-loss: 1.674 | Val-acc: 0.793716, Val-loss: 0.791, | time: 188.7 sec\n",
      "\n",
      "    Epoch 2/2\n",
      "    ----------\n"
     ]
    },
    {
     "data": {
      "application/vnd.jupyter.widget-view+json": {
       "model_id": "754d9c95a1b34814acb6f9a6fa03317b",
       "version_major": 2,
       "version_minor": 0
      },
      "text/plain": [
       "HBox(children=(FloatProgress(value=0.0, max=2197.0), HTML(value='')))"
      ]
     },
     "metadata": {},
     "output_type": "display_data"
    },
    {
     "data": {
      "application/vnd.jupyter.widget-view+json": {
       "model_id": "b9e0537da03e49da82218a489b98a4de",
       "version_major": 2,
       "version_minor": 0
      },
      "text/plain": [
       "HBox(children=(FloatProgress(value=0.0, max=942.0), HTML(value='')))"
      ]
     },
     "metadata": {},
     "output_type": "display_data"
    },
    {
     "name": "stdout",
     "output_type": "stream",
     "text": [
      "\n",
      "\n",
      "    curr_lr - 0.0098\n",
      "    [Epoch 2] Train-acc: 0.839, Train-loss: 0.600 | Val-acc: 0.855241, Val-loss: 0.535, | time: 188.7 sec\n",
      "\n",
      "    Training completed in: 6m 16s\n",
      "    Best val Acc:          0.855241\n",
      "\n",
      "Training End\n",
      "\n",
      "Training Outputs\n",
      "    Model Dir:   /home/ubuntu/Desktop/bengali/workspace/Project-Bengali-Character-Grapheme/Gluon-resnet18/output/models/\n",
      "    Log Dir:     /home/ubuntu/Desktop/bengali/workspace/Project-Bengali-Character-Grapheme/Gluon-resnet18/output/logs/\n",
      "    Final model: final\n",
      "    Best model:  best_model\n",
      "    Log 1 - Validation accuracy history log: val_acc_history.npy\n",
      "    Log 2 - Validation loss history log:     val_loss_history.npy\n",
      "    Log 3 - Training accuracy history log:   train_acc_history.npy\n",
      "    Log 4 - Training loss history log:       train_loss_history.npy\n",
      "    Log 5 - Training curve:                  train_loss_history.npy\n",
      "    Log 6 - Validation curve:                train_loss_history.npy\n",
      "\n"
     ]
    },
    {
     "data": {
      "text/plain": [
       "<Figure size 432x288 with 0 Axes>"
      ]
     },
     "metadata": {},
     "output_type": "display_data"
    }
   ],
   "source": [
    "# Train\n",
    "gtf.Train();"
   ]
  },
  {
   "cell_type": "code",
   "execution_count": null,
   "metadata": {},
   "outputs": [],
   "source": []
  },
  {
   "cell_type": "code",
   "execution_count": 6,
   "metadata": {},
   "outputs": [],
   "source": [
    "from monk.gluon_prototype import prototype"
   ]
  },
  {
   "cell_type": "code",
   "execution_count": 7,
   "metadata": {},
   "outputs": [
    {
     "name": "stdout",
     "output_type": "stream",
     "text": [
      "Mxnet Version: 1.5.1\n",
      "\n",
      "Experiment Details\n",
      "    Project: Project-Bengali-Character-Vowel\n",
      "    Experiment: Gluon-resnet18\n",
      "    Dir: /home/ubuntu/Desktop/bengali/workspace/Project-Bengali-Character-Vowel/Gluon-resnet18/\n",
      "\n"
     ]
    }
   ],
   "source": [
    "gtf = prototype(verbose=1);\n",
    "gtf.Prototype(\"Project-Bengali-Character-Vowel\", \"Gluon-resnet18\");"
   ]
  },
  {
   "cell_type": "code",
   "execution_count": 8,
   "metadata": {},
   "outputs": [
    {
     "name": "stdout",
     "output_type": "stream",
     "text": [
      "Dataset Details\n",
      "    Train path:     dataset/train/\n",
      "    Val path:       None\n",
      "    CSV train path: train_vowel.csv\n",
      "    CSV val path:   None\n",
      "    Label Type:     single\n",
      "\n",
      "Dataset Params\n",
      "    Input Size:   224\n",
      "    Batch Size:   4\n",
      "    Data Shuffle: True\n",
      "    Processors:   8\n",
      "    Train-val split:   0.7\n",
      "    Delimiter:   ,\n",
      "\n",
      "Pre-Composed Train Transforms\n",
      "[{'RandomHorizontalFlip': {'p': 0.8}}, {'Normalize': {'mean': [0.485, 0.456, 0.406], 'std': [0.229, 0.224, 0.225]}}]\n",
      "\n",
      "Pre-Composed Val Transforms\n",
      "[{'RandomHorizontalFlip': {'p': 0.8}}, {'Normalize': {'mean': [0.485, 0.456, 0.406], 'std': [0.229, 0.224, 0.225]}}]\n",
      "\n",
      "Dataset Numbers\n",
      "    Num train images: 140588\n",
      "    Num val images:   60252\n",
      "    Num classes:      11\n",
      "\n",
      "Model Params\n",
      "    Model name:           resnet18_v1\n",
      "    Use Gpu:              True\n",
      "    Use pretrained:       True\n",
      "    Freeze base network:  False\n",
      "\n",
      "Model Details\n",
      "    Loading pretrained model\n",
      "    Model Loaded on device\n",
      "        Model name:                           resnet18_v1\n",
      "        Num of potentially trainable layers:  41\n",
      "        Num of actual trainable layers:       41\n",
      "\n",
      "Optimizer\n",
      "    Name:          sgd\n",
      "    Learning rate: 0.01\n",
      "    Params:        {'lr': 0.01, 'momentum': 0, 'weight_decay': 0, 'momentum_dampening_rate': 0, 'clipnorm': 0.0, 'clipvalue': 0.0}\n",
      "\n",
      "\n",
      "\n",
      "Learning rate scheduler\n",
      "    Name:   steplr\n",
      "    Params: {'step_size': 1, 'gamma': 0.98, 'last_epoch': -1}\n",
      "\n",
      "Loss\n",
      "    Name:          softmaxcrossentropy\n",
      "    Params:        {'weight': None, 'batch_axis': 0, 'axis_to_sum_over': -1, 'label_as_categories': True, 'label_smoothing': False}\n",
      "\n",
      "Training params\n",
      "    Num Epochs: 2\n",
      "\n",
      "Display params\n",
      "    Display progress:          True\n",
      "    Display progress realtime: True\n",
      "    Save Training logs:        True\n",
      "    Save Intermediate models:  True\n",
      "    Intermediate model prefix: intermediate_model_\n",
      "\n"
     ]
    },
    {
     "name": "stderr",
     "output_type": "stream",
     "text": [
      "/home/ubuntu/.virtualenvs/bengali/lib/python3.6/site-packages/monk/system/imports.py:160: UserWarning: ArgumentWarning: clipnorm and clipvalue are active only for keras in current version of Monk\n",
      "  warnings.warn(msg)\n",
      "/home/ubuntu/.virtualenvs/bengali/lib/python3.6/site-packages/monk/system/imports.py:160: UserWarning: ArgumentWarning: momentum_dampening_rate is active only for pytorch in current version of Monk\n",
      "  warnings.warn(msg)\n"
     ]
    }
   ],
   "source": [
    "gtf.Default(dataset_path=\"dataset/train/\",\n",
    "            path_to_csv=\"train_vowel.csv\",\n",
    "            model_name=\"resnet18_v1\", \n",
    "            freeze_base_network=False,\n",
    "            num_epochs=2);"
   ]
  },
  {
   "cell_type": "code",
   "execution_count": 9,
   "metadata": {},
   "outputs": [
    {
     "name": "stdout",
     "output_type": "stream",
     "text": [
      "Update: Save Intermediate models - False\n",
      "\n",
      "Update: Batch size - 64\n",
      "\n",
      "Pre-Composed Train Transforms\n",
      "[{'RandomHorizontalFlip': {'p': 0.8}}, {'Normalize': {'mean': [0.485, 0.456, 0.406], 'std': [0.229, 0.224, 0.225]}}]\n",
      "\n",
      "Pre-Composed Val Transforms\n",
      "[{'RandomHorizontalFlip': {'p': 0.8}}, {'Normalize': {'mean': [0.485, 0.456, 0.406], 'std': [0.229, 0.224, 0.225]}}]\n",
      "\n",
      "Dataset Numbers\n",
      "    Num train images: 140588\n",
      "    Num val images:   60252\n",
      "    Num classes:      11\n",
      "\n",
      "Model Details\n",
      "    Loading pretrained model\n",
      "    Model Loaded on device\n",
      "        Model name:                           resnet18_v1\n",
      "        Num of potentially trainable layers:  41\n",
      "        Num of actual trainable layers:       41\n",
      "\n"
     ]
    }
   ],
   "source": [
    "gtf.update_save_intermediate_models(False);\n",
    "gtf.update_batch_size(64);\n",
    "\n",
    "#Important to reload the system post updates\n",
    "gtf.Reload();"
   ]
  },
  {
   "cell_type": "code",
   "execution_count": 10,
   "metadata": {},
   "outputs": [
    {
     "name": "stdout",
     "output_type": "stream",
     "text": [
      "Training Start\n",
      "    Epoch 1/2\n",
      "    ----------\n"
     ]
    },
    {
     "data": {
      "application/vnd.jupyter.widget-view+json": {
       "model_id": "e97530fa9a85413191b95ccb98b326ed",
       "version_major": 2,
       "version_minor": 0
      },
      "text/plain": [
       "HBox(children=(FloatProgress(value=0.0, max=2197.0), HTML(value='')))"
      ]
     },
     "metadata": {},
     "output_type": "display_data"
    },
    {
     "data": {
      "application/vnd.jupyter.widget-view+json": {
       "model_id": "b2a23d1d7a594691be8cc6422b26a0e4",
       "version_major": 2,
       "version_minor": 0
      },
      "text/plain": [
       "HBox(children=(FloatProgress(value=0.0, max=942.0), HTML(value='')))"
      ]
     },
     "metadata": {},
     "output_type": "display_data"
    },
    {
     "name": "stdout",
     "output_type": "stream",
     "text": [
      "\n",
      "\n",
      "    curr_lr - 0.01\n",
      "    [Epoch 1] Train-acc: 0.876, Train-loss: 0.375 | Val-acc: 0.928666, Val-loss: 0.219, | time: 188.7 sec\n",
      "\n",
      "    Epoch 2/2\n",
      "    ----------\n"
     ]
    },
    {
     "data": {
      "application/vnd.jupyter.widget-view+json": {
       "model_id": "16793f7466df48d5a26d9ac0e3db7de2",
       "version_major": 2,
       "version_minor": 0
      },
      "text/plain": [
       "HBox(children=(FloatProgress(value=0.0, max=2197.0), HTML(value='')))"
      ]
     },
     "metadata": {},
     "output_type": "display_data"
    },
    {
     "data": {
      "application/vnd.jupyter.widget-view+json": {
       "model_id": "a125469ca9e24a3dbeb734b2407491bc",
       "version_major": 2,
       "version_minor": 0
      },
      "text/plain": [
       "HBox(children=(FloatProgress(value=0.0, max=942.0), HTML(value='')))"
      ]
     },
     "metadata": {},
     "output_type": "display_data"
    },
    {
     "name": "stdout",
     "output_type": "stream",
     "text": [
      "\n",
      "\n",
      "    curr_lr - 0.0098\n",
      "    [Epoch 2] Train-acc: 0.946, Train-loss: 0.171 | Val-acc: 0.946923, Val-loss: 0.166, | time: 188.9 sec\n",
      "\n",
      "    Training completed in: 6m 16s\n",
      "    Best val Acc:          0.946923\n",
      "\n",
      "Training End\n",
      "\n",
      "Training Outputs\n",
      "    Model Dir:   /home/ubuntu/Desktop/bengali/workspace/Project-Bengali-Character-Vowel/Gluon-resnet18/output/models/\n",
      "    Log Dir:     /home/ubuntu/Desktop/bengali/workspace/Project-Bengali-Character-Vowel/Gluon-resnet18/output/logs/\n",
      "    Final model: final\n",
      "    Best model:  best_model\n",
      "    Log 1 - Validation accuracy history log: val_acc_history.npy\n",
      "    Log 2 - Validation loss history log:     val_loss_history.npy\n",
      "    Log 3 - Training accuracy history log:   train_acc_history.npy\n",
      "    Log 4 - Training loss history log:       train_loss_history.npy\n",
      "    Log 5 - Training curve:                  train_loss_history.npy\n",
      "    Log 6 - Validation curve:                train_loss_history.npy\n",
      "\n"
     ]
    },
    {
     "data": {
      "text/plain": [
       "<Figure size 432x288 with 0 Axes>"
      ]
     },
     "metadata": {},
     "output_type": "display_data"
    }
   ],
   "source": [
    "# Train\n",
    "gtf.Train();"
   ]
  },
  {
   "cell_type": "code",
   "execution_count": null,
   "metadata": {},
   "outputs": [],
   "source": []
  },
  {
   "cell_type": "code",
   "execution_count": 11,
   "metadata": {},
   "outputs": [],
   "source": [
    "from monk.gluon_prototype import prototype"
   ]
  },
  {
   "cell_type": "code",
   "execution_count": 12,
   "metadata": {},
   "outputs": [
    {
     "name": "stdout",
     "output_type": "stream",
     "text": [
      "Mxnet Version: 1.5.1\n",
      "\n",
      "Experiment Details\n",
      "    Project: Project-Bengali-Character-Consonent\n",
      "    Experiment: Gluon-resnet18\n",
      "    Dir: /home/ubuntu/Desktop/bengali/workspace/Project-Bengali-Character-Consonent/Gluon-resnet18/\n",
      "\n"
     ]
    }
   ],
   "source": [
    "gtf = prototype(verbose=1);\n",
    "gtf.Prototype(\"Project-Bengali-Character-Consonent\", \"Gluon-resnet18\");"
   ]
  },
  {
   "cell_type": "code",
   "execution_count": 13,
   "metadata": {},
   "outputs": [
    {
     "name": "stdout",
     "output_type": "stream",
     "text": [
      "Dataset Details\n",
      "    Train path:     dataset/train/\n",
      "    Val path:       None\n",
      "    CSV train path: train_consonent.csv\n",
      "    CSV val path:   None\n",
      "    Label Type:     single\n",
      "\n",
      "Dataset Params\n",
      "    Input Size:   224\n",
      "    Batch Size:   4\n",
      "    Data Shuffle: True\n",
      "    Processors:   8\n",
      "    Train-val split:   0.7\n",
      "    Delimiter:   ,\n",
      "\n",
      "Pre-Composed Train Transforms\n",
      "[{'RandomHorizontalFlip': {'p': 0.8}}, {'Normalize': {'mean': [0.485, 0.456, 0.406], 'std': [0.229, 0.224, 0.225]}}]\n",
      "\n",
      "Pre-Composed Val Transforms\n",
      "[{'RandomHorizontalFlip': {'p': 0.8}}, {'Normalize': {'mean': [0.485, 0.456, 0.406], 'std': [0.229, 0.224, 0.225]}}]\n",
      "\n",
      "Dataset Numbers\n",
      "    Num train images: 140588\n",
      "    Num val images:   60252\n",
      "    Num classes:      7\n",
      "\n",
      "Model Params\n",
      "    Model name:           resnet18_v1\n",
      "    Use Gpu:              True\n",
      "    Use pretrained:       True\n",
      "    Freeze base network:  False\n",
      "\n",
      "Model Details\n",
      "    Loading pretrained model\n",
      "    Model Loaded on device\n",
      "        Model name:                           resnet18_v1\n",
      "        Num of potentially trainable layers:  41\n",
      "        Num of actual trainable layers:       41\n",
      "\n",
      "Optimizer\n",
      "    Name:          sgd\n",
      "    Learning rate: 0.01\n",
      "    Params:        {'lr': 0.01, 'momentum': 0, 'weight_decay': 0, 'momentum_dampening_rate': 0, 'clipnorm': 0.0, 'clipvalue': 0.0}\n",
      "\n",
      "\n",
      "\n",
      "Learning rate scheduler\n",
      "    Name:   steplr\n",
      "    Params: {'step_size': 1, 'gamma': 0.98, 'last_epoch': -1}\n",
      "\n",
      "Loss\n",
      "    Name:          softmaxcrossentropy\n",
      "    Params:        {'weight': None, 'batch_axis': 0, 'axis_to_sum_over': -1, 'label_as_categories': True, 'label_smoothing': False}\n",
      "\n",
      "Training params\n",
      "    Num Epochs: 2\n",
      "\n",
      "Display params\n",
      "    Display progress:          True\n",
      "    Display progress realtime: True\n",
      "    Save Training logs:        True\n",
      "    Save Intermediate models:  True\n",
      "    Intermediate model prefix: intermediate_model_\n",
      "\n"
     ]
    },
    {
     "name": "stderr",
     "output_type": "stream",
     "text": [
      "/home/ubuntu/.virtualenvs/bengali/lib/python3.6/site-packages/monk/system/imports.py:160: UserWarning: ArgumentWarning: clipnorm and clipvalue are active only for keras in current version of Monk\n",
      "  warnings.warn(msg)\n",
      "/home/ubuntu/.virtualenvs/bengali/lib/python3.6/site-packages/monk/system/imports.py:160: UserWarning: ArgumentWarning: momentum_dampening_rate is active only for pytorch in current version of Monk\n",
      "  warnings.warn(msg)\n"
     ]
    }
   ],
   "source": [
    "gtf.Default(dataset_path=\"dataset/train/\",\n",
    "            path_to_csv=\"train_consonent.csv\",\n",
    "            model_name=\"resnet18_v1\", \n",
    "            freeze_base_network=False,\n",
    "            num_epochs=2);"
   ]
  },
  {
   "cell_type": "code",
   "execution_count": 14,
   "metadata": {},
   "outputs": [
    {
     "name": "stdout",
     "output_type": "stream",
     "text": [
      "Update: Save Intermediate models - False\n",
      "\n",
      "Update: Batch size - 64\n",
      "\n",
      "Pre-Composed Train Transforms\n",
      "[{'RandomHorizontalFlip': {'p': 0.8}}, {'Normalize': {'mean': [0.485, 0.456, 0.406], 'std': [0.229, 0.224, 0.225]}}]\n",
      "\n",
      "Pre-Composed Val Transforms\n",
      "[{'RandomHorizontalFlip': {'p': 0.8}}, {'Normalize': {'mean': [0.485, 0.456, 0.406], 'std': [0.229, 0.224, 0.225]}}]\n",
      "\n",
      "Dataset Numbers\n",
      "    Num train images: 140588\n",
      "    Num val images:   60252\n",
      "    Num classes:      7\n",
      "\n",
      "Model Details\n",
      "    Loading pretrained model\n",
      "    Model Loaded on device\n",
      "        Model name:                           resnet18_v1\n",
      "        Num of potentially trainable layers:  41\n",
      "        Num of actual trainable layers:       41\n",
      "\n"
     ]
    }
   ],
   "source": [
    "gtf.update_save_intermediate_models(False);\n",
    "gtf.update_batch_size(64);\n",
    "\n",
    "#Important to reload the system post updates\n",
    "gtf.Reload();"
   ]
  },
  {
   "cell_type": "code",
   "execution_count": 15,
   "metadata": {},
   "outputs": [
    {
     "name": "stdout",
     "output_type": "stream",
     "text": [
      "Training Start\n",
      "    Epoch 1/2\n",
      "    ----------\n"
     ]
    },
    {
     "data": {
      "application/vnd.jupyter.widget-view+json": {
       "model_id": "ccd5dc2a173e4608881e61b607a21afe",
       "version_major": 2,
       "version_minor": 0
      },
      "text/plain": [
       "HBox(children=(FloatProgress(value=0.0, max=2197.0), HTML(value='')))"
      ]
     },
     "metadata": {},
     "output_type": "display_data"
    },
    {
     "data": {
      "application/vnd.jupyter.widget-view+json": {
       "model_id": "40ac1ff9163a47dcb6c5d2e97686525b",
       "version_major": 2,
       "version_minor": 0
      },
      "text/plain": [
       "HBox(children=(FloatProgress(value=0.0, max=942.0), HTML(value='')))"
      ]
     },
     "metadata": {},
     "output_type": "display_data"
    },
    {
     "name": "stdout",
     "output_type": "stream",
     "text": [
      "\n",
      "\n",
      "    curr_lr - 0.01\n",
      "    [Epoch 1] Train-acc: 0.890, Train-loss: 0.324 | Val-acc: 0.928368, Val-loss: 0.214, | time: 188.6 sec\n",
      "\n",
      "    Epoch 2/2\n",
      "    ----------\n"
     ]
    },
    {
     "data": {
      "application/vnd.jupyter.widget-view+json": {
       "model_id": "61d384887c3d44e4a499385516e07ffb",
       "version_major": 2,
       "version_minor": 0
      },
      "text/plain": [
       "HBox(children=(FloatProgress(value=0.0, max=2197.0), HTML(value='')))"
      ]
     },
     "metadata": {},
     "output_type": "display_data"
    },
    {
     "data": {
      "application/vnd.jupyter.widget-view+json": {
       "model_id": "15c6f0faaec54b458ef10bde91a4ef1b",
       "version_major": 2,
       "version_minor": 0
      },
      "text/plain": [
       "HBox(children=(FloatProgress(value=0.0, max=942.0), HTML(value='')))"
      ]
     },
     "metadata": {},
     "output_type": "display_data"
    },
    {
     "name": "stdout",
     "output_type": "stream",
     "text": [
      "\n",
      "\n",
      "    curr_lr - 0.0098\n",
      "    [Epoch 2] Train-acc: 0.944, Train-loss: 0.169 | Val-acc: 0.945114, Val-loss: 0.171, | time: 189.0 sec\n",
      "\n",
      "    Training completed in: 6m 17s\n",
      "    Best val Acc:          0.945114\n",
      "\n",
      "Training End\n",
      "\n",
      "Training Outputs\n",
      "    Model Dir:   /home/ubuntu/Desktop/bengali/workspace/Project-Bengali-Character-Consonent/Gluon-resnet18/output/models/\n",
      "    Log Dir:     /home/ubuntu/Desktop/bengali/workspace/Project-Bengali-Character-Consonent/Gluon-resnet18/output/logs/\n",
      "    Final model: final\n",
      "    Best model:  best_model\n",
      "    Log 1 - Validation accuracy history log: val_acc_history.npy\n",
      "    Log 2 - Validation loss history log:     val_loss_history.npy\n",
      "    Log 3 - Training accuracy history log:   train_acc_history.npy\n",
      "    Log 4 - Training loss history log:       train_loss_history.npy\n",
      "    Log 5 - Training curve:                  train_loss_history.npy\n",
      "    Log 6 - Validation curve:                train_loss_history.npy\n",
      "\n"
     ]
    },
    {
     "data": {
      "text/plain": [
       "<Figure size 432x288 with 0 Axes>"
      ]
     },
     "metadata": {},
     "output_type": "display_data"
    }
   ],
   "source": [
    "# Train\n",
    "gtf.Train();"
   ]
  },
  {
   "cell_type": "code",
   "execution_count": null,
   "metadata": {},
   "outputs": [],
   "source": []
  }
 ],
 "metadata": {
  "kernelspec": {
   "display_name": "Python 3",
   "language": "python",
   "name": "python3"
  },
  "language_info": {
   "codemirror_mode": {
    "name": "ipython",
    "version": 3
   },
   "file_extension": ".py",
   "mimetype": "text/x-python",
   "name": "python",
   "nbconvert_exporter": "python",
   "pygments_lexer": "ipython3",
   "version": "3.6.9"
  }
 },
 "nbformat": 4,
 "nbformat_minor": 4
}
