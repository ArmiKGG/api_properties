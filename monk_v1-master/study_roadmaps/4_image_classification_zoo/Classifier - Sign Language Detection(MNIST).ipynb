{
 "cells": [
  {
   "cell_type": "markdown",
   "metadata": {},
   "source": [
    "<a href=\"https://colab.research.google.com/github/Tessellate-Imaging/monk_v1/blob/master/study_roadmaps/4_image_classification_zoo/Classifier%20-%20Sign%20Language%20Detection(MNIST).ipynb\" target=\"_parent\"><img src=\"https://colab.research.google.com/assets/colab-badge.svg\" alt=\"Open In Colab\"/></a>"
   ]
  },
  {
   "cell_type": "code",
   "execution_count": null,
   "metadata": {},
   "outputs": [],
   "source": []
  },
  {
   "cell_type": "markdown",
   "metadata": {
    "colab_type": "text",
    "id": "c9eL4Lylc__-"
   },
   "source": [
    "<h1>Sign-Language Classification with MonkAI libary</h1>\n",
    "\n",
    "First MonkAI library is installed using pip, in Colab."
   ]
  },
  {
   "cell_type": "markdown",
   "metadata": {
    "colab_type": "text",
    "id": "l2C_BRhxmeV2"
   },
   "source": [
    "# Install Monk"
   ]
  },
  {
   "cell_type": "markdown",
   "metadata": {
    "colab_type": "text",
    "id": "_Sk2rs6NtFkc"
   },
   "source": [
    "## Using pip (Recommended)\n",
    "- colab (gpu)\n",
    "  - All bakcends: !pip install -U monk-colab\n",
    "- kaggle (gpu)\n",
    "  - All backends: !pip install -U monk-kaggle\n",
    "- cuda 10.2\n",
    "  - All backends: pip install -U monk-cuda102\n",
    "  - Gluon bakcned: pip install -U monk-gluon-cuda102\n",
    "  - Pytorch backend: pip install -U monk-pytorch-cuda102\n",
    "  - Keras backend: pip install -U monk-keras-cuda102\n",
    "- cuda 10.1\n",
    "  - All backend: pip install -U monk-cuda101\n",
    "  - Gluon bakcned: pip install -U monk-gluon-cuda101\n",
    "  - Pytorch backend: pip install -U monk-pytorch-cuda101\n",
    "  - Keras backend: pip install -U monk-keras-cuda101\n",
    "- cuda 10.0\n",
    "  - All backend: pip install -U monk-cuda100\n",
    "  - Gluon bakcned: pip install -U monk-gluon-cuda100\n",
    "  - Pytorch backend: pip install -U monk-pytorch-cuda100\n",
    "  - Keras backend: pip install -U monk-keras-cuda100\n",
    "- cuda 9.2\n",
    "  - All backend: pip install -U monk-cuda92\n",
    "  - Gluon bakcned: pip install -U monk-gluon-cuda92\n",
    "  - Pytorch backend: pip install -U monk-pytorch-cuda92\n",
    "  - Keras backend: pip install -U monk-keras-cuda92\n",
    "- cuda 9.0\n",
    "  - All backend: pip install -U monk-cuda90\n",
    "  - Gluon bakcned: pip install -U monk-gluon-cuda90\n",
    "  - Pytorch backend: pip install -U monk-pytorch-cuda90\n",
    "  - Keras backend: pip install -U monk-keras-cuda90\n",
    "- cpu\n",
    "  - All backend: pip install -U monk-cpu\n",
    "  - Gluon bakcned: pip install -U monk-gluon-cpu\n",
    "  - Pytorch backend: pip install -U monk-pytorch-cpu\n",
    "  - Keras backend: pip install -U monk-keras-cpu"
   ]
  },
  {
   "cell_type": "markdown",
   "metadata": {
    "colab_type": "text",
    "id": "MOMPElmqtqv8"
   },
   "source": [
    "## Install Monk Manually (Not recommended)\n",
    "### Step 1: Clone the library\n",
    "- git clone https://github.com/Tessellate-Imaging/monk_v1.git\n",
    "\n",
    "### Step 2: Install requirements\n",
    "- Linux\n",
    "  - Cuda 9.0\n",
    "    - cd monk_v1/installation/Linux && pip install -r requirements_cu90.txt\n",
    "  - Cuda 9.2\n",
    "    - cd monk_v1/installation/Linux && pip install -r requirements_cu92.txt\n",
    "  - Cuda 10.0\n",
    "    - cd monk_v1/installation/Linux && pip install -r requirements_cu100.txt\n",
    "  - Cuda 10.1\n",
    "    - cd monk_v1/installation/Linux && pip install -r requirements_cu101.txt\n",
    "  - Cuda 10.2\n",
    "    - cd monk_v1/installation/Linux && pip install -r requirements_cu102.txt\n",
    "  - CPU (Non gpu system)\n",
    "    - cd monk_v1/installation/Linux && pip install -r requirements_cpu.txt\n",
    "- Windows\n",
    "    - Cuda 9.0 (Experimental support)\n",
    "      - cd monk_v1/installation/Windows && pip install -r requirements_cu90.txt\n",
    "    - Cuda 9.2 (Experimental support)\n",
    "      - cd monk_v1/installation/Windows && pip install -r requirements_cu92.txt\n",
    "    - Cuda 10.0 (Experimental support)\n",
    "      - cd monk_v1/installation/Windows && pip install -r requirements_cu100.txt\n",
    "    - Cuda 10.1 (Experimental support)\n",
    "      - cd monk_v1/installation/Windows && pip install -r requirements_cu101.txt\n",
    "    - Cuda 10.2 (Experimental support)\n",
    "      - cd monk_v1/installation/Windows && pip install -r requirements_cu102.txt\n",
    "    - CPU (Non gpu system)\n",
    "      - cd monk_v1/installation/Windows && pip install -r requirements_cpu.txt\n",
    "- Mac\n",
    "    - CPU (Non gpu system)\n",
    "      - cd monk_v1/installation/Mac && pip install -r requirements_cpu.txt\n",
    "- Misc\n",
    "    - Colab (GPU)\n",
    "      - cd monk_v1/installation/Misc && pip install -r requirements_colab.txt\n",
    "    - Kaggle (GPU)\n",
    "      - cd monk_v1/installation/Misc && pip install -r requirements_kaggle.txt\n",
    "\n",
    "### Step 3: Add to system path (Required for every terminal or kernel run)\n",
    "\n",
    "```python\n",
    "import sys\n",
    "sys.path.append(\"monk_v1/\")\n",
    "```\n"
   ]
  },
  {
   "cell_type": "code",
   "execution_count": null,
   "metadata": {
    "colab": {
     "base_uri": "https://localhost:8080/",
     "height": 766
    },
    "colab_type": "code",
    "id": "uK1R8OhqgAy_",
    "outputId": "91d2fa65-1d2c-4e60-c4c8-fde3c0220470"
   },
   "outputs": [
    {
     "name": "stdout",
     "output_type": "stream",
     "text": [
      "Collecting monk-colab\n",
      "\u001b[?25l  Downloading https://files.pythonhosted.org/packages/f0/0e/04b6ca6b11ef8742c9c041cf043ae1708d003b61d9a1646efb269e8fb489/monk_colab-0.0.1-py3-none-any.whl (515kB)\n",
      "\u001b[K     |████████████████████████████████| 522kB 9.1MB/s \n",
      "\u001b[?25hCollecting mxnet-cu101\n",
      "\u001b[?25l  Downloading https://files.pythonhosted.org/packages/54/b1/7d01abca10eef104296d2b3f0c59a7dda7573126d079c9e2609e6c17993b/mxnet_cu101-1.6.0-py2.py3-none-manylinux1_x86_64.whl (710.5MB)\n",
      "\u001b[K     |████████████████████████████████| 710.5MB 25kB/s \n",
      "\u001b[?25hCollecting gluoncv\n",
      "\u001b[?25l  Downloading https://files.pythonhosted.org/packages/fa/81/37a00609cb53da3671adb106b9bc03fb1c029ad5a8db4bc668283e65703d/gluoncv-0.7.0-py2.py3-none-any.whl (752kB)\n",
      "\u001b[K     |████████████████████████████████| 757kB 48.5MB/s \n",
      "\u001b[?25hCollecting pylg\n",
      "  Downloading https://files.pythonhosted.org/packages/6c/15/20e454f122d87e4088803be527de8566468608c55645b573f702e11cb63c/PyLg-1.3.3-py3-none-any.whl\n",
      "Collecting GPUtil\n",
      "  Downloading https://files.pythonhosted.org/packages/ed/0e/5c61eedde9f6c87713e89d794f01e378cfd9565847d4576fa627d758c554/GPUtil-1.4.0.tar.gz\n",
      "Requirement already satisfied, skipping upgrade: requests<3,>=2.20.0 in /usr/local/lib/python3.6/dist-packages (from mxnet-cu101->monk-colab) (2.23.0)\n",
      "Requirement already satisfied, skipping upgrade: numpy<2.0.0,>1.16.0 in /usr/local/lib/python3.6/dist-packages (from mxnet-cu101->monk-colab) (1.18.5)\n",
      "Collecting graphviz<0.9.0,>=0.8.1\n",
      "  Downloading https://files.pythonhosted.org/packages/53/39/4ab213673844e0c004bed8a0781a0721a3f6bb23eb8854ee75c236428892/graphviz-0.8.4-py2.py3-none-any.whl\n",
      "Requirement already satisfied, skipping upgrade: scipy in /usr/local/lib/python3.6/dist-packages (from gluoncv->monk-colab) (1.4.1)\n",
      "Collecting portalocker\n",
      "  Downloading https://files.pythonhosted.org/packages/89/a6/3814b7107e0788040870e8825eebf214d72166adf656ba7d4bf14759a06a/portalocker-2.0.0-py2.py3-none-any.whl\n",
      "Requirement already satisfied, skipping upgrade: Pillow in /usr/local/lib/python3.6/dist-packages (from gluoncv->monk-colab) (7.0.0)\n",
      "Requirement already satisfied, skipping upgrade: tqdm in /usr/local/lib/python3.6/dist-packages (from gluoncv->monk-colab) (4.41.1)\n",
      "Requirement already satisfied, skipping upgrade: matplotlib in /usr/local/lib/python3.6/dist-packages (from gluoncv->monk-colab) (3.2.2)\n",
      "Requirement already satisfied, skipping upgrade: urllib3!=1.25.0,!=1.25.1,<1.26,>=1.21.1 in /usr/local/lib/python3.6/dist-packages (from requests<3,>=2.20.0->mxnet-cu101->monk-colab) (1.24.3)\n",
      "Requirement already satisfied, skipping upgrade: idna<3,>=2.5 in /usr/local/lib/python3.6/dist-packages (from requests<3,>=2.20.0->mxnet-cu101->monk-colab) (2.10)\n",
      "Requirement already satisfied, skipping upgrade: chardet<4,>=3.0.2 in /usr/local/lib/python3.6/dist-packages (from requests<3,>=2.20.0->mxnet-cu101->monk-colab) (3.0.4)\n",
      "Requirement already satisfied, skipping upgrade: certifi>=2017.4.17 in /usr/local/lib/python3.6/dist-packages (from requests<3,>=2.20.0->mxnet-cu101->monk-colab) (2020.6.20)\n",
      "Requirement already satisfied, skipping upgrade: kiwisolver>=1.0.1 in /usr/local/lib/python3.6/dist-packages (from matplotlib->gluoncv->monk-colab) (1.2.0)\n",
      "Requirement already satisfied, skipping upgrade: pyparsing!=2.0.4,!=2.1.2,!=2.1.6,>=2.0.1 in /usr/local/lib/python3.6/dist-packages (from matplotlib->gluoncv->monk-colab) (2.4.7)\n",
      "Requirement already satisfied, skipping upgrade: cycler>=0.10 in /usr/local/lib/python3.6/dist-packages (from matplotlib->gluoncv->monk-colab) (0.10.0)\n",
      "Requirement already satisfied, skipping upgrade: python-dateutil>=2.1 in /usr/local/lib/python3.6/dist-packages (from matplotlib->gluoncv->monk-colab) (2.8.1)\n",
      "Requirement already satisfied, skipping upgrade: six in /usr/local/lib/python3.6/dist-packages (from cycler>=0.10->matplotlib->gluoncv->monk-colab) (1.15.0)\n",
      "Building wheels for collected packages: GPUtil\n",
      "  Building wheel for GPUtil (setup.py) ... \u001b[?25l\u001b[?25hdone\n",
      "  Created wheel for GPUtil: filename=GPUtil-1.4.0-cp36-none-any.whl size=7413 sha256=38c594757e48385685bdd4ee9330260b929aa0ad749bddb06e252a577995e583\n",
      "  Stored in directory: /root/.cache/pip/wheels/3d/77/07/80562de4bb0786e5ea186911a2c831fdd0018bda69beab71fd\n",
      "Successfully built GPUtil\n",
      "Installing collected packages: graphviz, mxnet-cu101, portalocker, gluoncv, pylg, GPUtil, monk-colab\n",
      "  Found existing installation: graphviz 0.10.1\n",
      "    Uninstalling graphviz-0.10.1:\n",
      "      Successfully uninstalled graphviz-0.10.1\n",
      "Successfully installed GPUtil-1.4.0 gluoncv-0.7.0 graphviz-0.8.4 monk-colab-0.0.1 mxnet-cu101-1.6.0 portalocker-2.0.0 pylg-1.3.3\n"
     ]
    }
   ],
   "source": [
    "pip install -U monk-colab"
   ]
  },
  {
   "cell_type": "markdown",
   "metadata": {
    "colab_type": "text",
    "id": "YKTsGg_dZH9g"
   },
   "source": [
    "# Demo of Sign Language Classifier"
   ]
  },
  {
   "cell_type": "markdown",
   "metadata": {
    "colab_type": "text",
    "id": "JWABGUYjdCAO"
   },
   "source": [
    "<h2> Loading the model with saved weights </h2>"
   ]
  },
  {
   "cell_type": "code",
   "execution_count": null,
   "metadata": {
    "colab": {
     "base_uri": "https://localhost:8080/",
     "height": 645
    },
    "colab_type": "code",
    "id": "NlSubgIjCv6s",
    "outputId": "16ddcc02-fa0e-4875-8e05-89839b2770ba"
   },
   "outputs": [
    {
     "name": "stdout",
     "output_type": "stream",
     "text": [
      "--2020-08-09 13:35:42--  https://docs.google.com/uc?export=download&id=1fjzEhGeF89GD-PSASh9LatpZ4vhoIv4P\n",
      "Resolving docs.google.com (docs.google.com)... 108.177.126.101, 108.177.126.138, 108.177.126.139, ...\n",
      "Connecting to docs.google.com (docs.google.com)|108.177.126.101|:443... connected.\n",
      "HTTP request sent, awaiting response... 200 OK\n",
      "Length: unspecified [text/html]\n",
      "Saving to: ‘STDOUT’\n",
      "\n",
      "\r",
      "-                       [<=>                 ]       0  --.-KB/s               \r",
      "-                       [ <=>                ]   3.19K  --.-KB/s    in 0s      \n",
      "\n",
      "2020-08-09 13:35:42 (23.7 MB/s) - written to stdout [3265]\n",
      "\n",
      "--2020-08-09 13:35:42--  https://docs.google.com/uc?export=download&confirm=UtbP&id=1fjzEhGeF89GD-PSASh9LatpZ4vhoIv4P\n",
      "Resolving docs.google.com (docs.google.com)... 108.177.126.101, 108.177.126.138, 108.177.126.139, ...\n",
      "Connecting to docs.google.com (docs.google.com)|108.177.126.101|:443... connected.\n",
      "HTTP request sent, awaiting response... 302 Moved Temporarily\n",
      "Location: https://doc-10-4g-docs.googleusercontent.com/docs/securesc/kopqf1lgaub7uh1gs59rsp9ubqo5elfv/23fv6err8i48a5tap2vspglctghsvvnv/1596980100000/10938243485722110558/04219904700365254885Z/1fjzEhGeF89GD-PSASh9LatpZ4vhoIv4P?e=download [following]\n",
      "--2020-08-09 13:35:43--  https://doc-10-4g-docs.googleusercontent.com/docs/securesc/kopqf1lgaub7uh1gs59rsp9ubqo5elfv/23fv6err8i48a5tap2vspglctghsvvnv/1596980100000/10938243485722110558/04219904700365254885Z/1fjzEhGeF89GD-PSASh9LatpZ4vhoIv4P?e=download\n",
      "Resolving doc-10-4g-docs.googleusercontent.com (doc-10-4g-docs.googleusercontent.com)... 108.177.127.132, 2a00:1450:4013:c07::84\n",
      "Connecting to doc-10-4g-docs.googleusercontent.com (doc-10-4g-docs.googleusercontent.com)|108.177.127.132|:443... connected.\n",
      "HTTP request sent, awaiting response... 302 Found\n",
      "Location: https://docs.google.com/nonceSigner?nonce=uqs2rv6j99pmk&continue=https://doc-10-4g-docs.googleusercontent.com/docs/securesc/kopqf1lgaub7uh1gs59rsp9ubqo5elfv/23fv6err8i48a5tap2vspglctghsvvnv/1596980100000/10938243485722110558/04219904700365254885Z/1fjzEhGeF89GD-PSASh9LatpZ4vhoIv4P?e%3Ddownload&hash=h6h2cir6f8uuacqlj6f06ivgqkgqffdv [following]\n",
      "--2020-08-09 13:35:43--  https://docs.google.com/nonceSigner?nonce=uqs2rv6j99pmk&continue=https://doc-10-4g-docs.googleusercontent.com/docs/securesc/kopqf1lgaub7uh1gs59rsp9ubqo5elfv/23fv6err8i48a5tap2vspglctghsvvnv/1596980100000/10938243485722110558/04219904700365254885Z/1fjzEhGeF89GD-PSASh9LatpZ4vhoIv4P?e%3Ddownload&hash=h6h2cir6f8uuacqlj6f06ivgqkgqffdv\n",
      "Connecting to docs.google.com (docs.google.com)|108.177.126.101|:443... connected.\n",
      "HTTP request sent, awaiting response... 302 Found\n",
      "Location: https://doc-10-4g-docs.googleusercontent.com/docs/securesc/kopqf1lgaub7uh1gs59rsp9ubqo5elfv/23fv6err8i48a5tap2vspglctghsvvnv/1596980100000/10938243485722110558/04219904700365254885Z/1fjzEhGeF89GD-PSASh9LatpZ4vhoIv4P?e=download&nonce=uqs2rv6j99pmk&user=04219904700365254885Z&hash=ghi9k1knruu9tbcf6jmk0mr9q6a4gfcq [following]\n",
      "--2020-08-09 13:35:43--  https://doc-10-4g-docs.googleusercontent.com/docs/securesc/kopqf1lgaub7uh1gs59rsp9ubqo5elfv/23fv6err8i48a5tap2vspglctghsvvnv/1596980100000/10938243485722110558/04219904700365254885Z/1fjzEhGeF89GD-PSASh9LatpZ4vhoIv4P?e=download&nonce=uqs2rv6j99pmk&user=04219904700365254885Z&hash=ghi9k1knruu9tbcf6jmk0mr9q6a4gfcq\n",
      "Connecting to doc-10-4g-docs.googleusercontent.com (doc-10-4g-docs.googleusercontent.com)|108.177.127.132|:443... connected.\n",
      "HTTP request sent, awaiting response... 200 OK\n",
      "Length: unspecified [application/zip]\n",
      "Saving to: ‘cls_sign_language_trained.zip’\n",
      "\n",
      "cls_sign_language_t     [          <=>       ] 970.04M  50.6MB/s    in 20s     \n",
      "\n",
      "2020-08-09 13:36:03 (49.4 MB/s) - ‘cls_sign_language_trained.zip’ saved [1017163596]\n",
      "\n"
     ]
    }
   ],
   "source": [
    " !wget --load-cookies /tmp/cookies.txt \"https://docs.google.com/uc?export=download&confirm=$(wget --save-cookies /tmp/cookies.txt --keep-session-cookies --no-check-certificate 'https://docs.google.com/uc?export=download&id=1fjzEhGeF89GD-PSASh9LatpZ4vhoIv4P' -O- | sed -rn 's/.*confirm=([0-9A-Za-z_]+).*/\\1\\n/p')&id=1fjzEhGeF89GD-PSASh9LatpZ4vhoIv4P\" -O cls_sign_language_trained.zip && rm -rf /tmp/cookies.txt"
   ]
  },
  {
   "cell_type": "markdown",
   "metadata": {
    "colab_type": "text",
    "id": "0NSl7CDlafjD"
   },
   "source": [
    "Unzip the dataset"
   ]
  },
  {
   "cell_type": "code",
   "execution_count": null,
   "metadata": {
    "colab": {},
    "colab_type": "code",
    "id": "t4HHuNE5BEc7"
   },
   "outputs": [],
   "source": [
    "! unzip -qq cls_sign_language_trained.zip"
   ]
  },
  {
   "cell_type": "markdown",
   "metadata": {
    "colab_type": "text",
    "id": "zvyFLKiSdPgE"
   },
   "source": [
    "The two available trained models"
   ]
  },
  {
   "cell_type": "code",
   "execution_count": null,
   "metadata": {
    "colab": {
     "base_uri": "https://localhost:8080/",
     "height": 34
    },
    "colab_type": "code",
    "id": "oJj3MdboBOUw",
    "outputId": "02d8c197-acc1-49c9-ff46-7b96c9f3c5b3"
   },
   "outputs": [
    {
     "name": "stdout",
     "output_type": "stream",
     "text": [
      "\u001b[0m\u001b[01;34mSign-lang-classification-vgg16\u001b[0m/  \u001b[01;34mSign-lang-classification-vgg19\u001b[0m/\n"
     ]
    }
   ],
   "source": [
    "ls workspace/Project-SignLangMNIST\n"
   ]
  },
  {
   "cell_type": "markdown",
   "metadata": {
    "colab_type": "text",
    "id": "eSzOx8MQayIW"
   },
   "source": [
    "## Infer and perform classification using the pre-trained model"
   ]
  },
  {
   "cell_type": "markdown",
   "metadata": {
    "colab_type": "text",
    "id": "SyWt9LyUa_J_"
   },
   "source": [
    "The PyTorch backend is used here"
   ]
  },
  {
   "cell_type": "code",
   "execution_count": null,
   "metadata": {
    "colab": {},
    "colab_type": "code",
    "id": "69Y5E3BdawaB"
   },
   "outputs": [],
   "source": [
    "#Using pytorch backend \n",
    "\n",
    "# When installed using pip\n",
    "from monk.pytorch_prototype import prototype"
   ]
  },
  {
   "cell_type": "code",
   "execution_count": null,
   "metadata": {
    "colab": {
     "base_uri": "https://localhost:8080/",
     "height": 208
    },
    "colab_type": "code",
    "id": "T7rzTvWEBbgg",
    "outputId": "45daccc1-2486-42e2-bff1-d2c3a470e0bd"
   },
   "outputs": [
    {
     "name": "stdout",
     "output_type": "stream",
     "text": [
      "Pytorch Version: 1.6.0+cu101\n",
      "\n",
      "Model Details\n",
      "    Loading model - workspace/Project-SignLangMNIST/Sign-lang-classification-vgg19/output/models/final\n",
      "    Model loaded!\n",
      "\n",
      "Experiment Details\n",
      "    Project: Project-SignLangMNIST\n",
      "    Experiment: Sign-lang-classification-vgg19\n",
      "    Dir: /content/drive/My Drive/workspace/Project-SignLangMNIST/Sign-lang-classification-vgg19/\n",
      "\n"
     ]
    }
   ],
   "source": [
    "# Load project in inference mode\n",
    "\n",
    "gtf = prototype(verbose=1);\n",
    "gtf.Prototype(\"Project-SignLangMNIST\", \"Sign-lang-classification-vgg19\", eval_infer=True);\n",
    "\n",
    "#Other trained models - uncomment \n",
    "#gtf.Prototype(\"Project-SignLangMNIST\", \"Sign-lang-classification-vgg19\", eval_infer=True);"
   ]
  },
  {
   "cell_type": "markdown",
   "metadata": {
    "colab_type": "text",
    "id": "cWRvfGEVbIcf"
   },
   "source": [
    "Testing on the images"
   ]
  },
  {
   "cell_type": "code",
   "execution_count": null,
   "metadata": {
    "colab": {
     "base_uri": "https://localhost:8080/",
     "height": 254
    },
    "colab_type": "code",
    "id": "d1pGGpXxBuKZ",
    "outputId": "bd905b04-48e7-44d3-843e-952b0d79a47d"
   },
   "outputs": [
    {
     "name": "stdout",
     "output_type": "stream",
     "text": [
      "Prediction\n",
      "    Image name:         /content/drive/My Drive/workspace/Test_images/Image9.jpg\n",
      "    Predicted class:      H\n",
      "    Predicted score:      0.997378945350647\n",
      "\n"
     ]
    },
    {
     "data": {
      "image/jpeg": "[encoded data removed]",
      "text/plain": [
       "<IPython.core.display.Image object>"
      ]
     },
     "execution_count": 13,
     "metadata": {
      "image/jpeg": {
       "height": 150,
       "width": 150
      },
      "tags": []
     },
     "output_type": "execute_result"
    }
   ],
   "source": [
    "img_name = \"workspace/Test_images/Image9.jpg\";\n",
    "predictions = gtf.Infer(img_name=img_name);\n",
    "\n",
    "#Display \n",
    "from IPython.display import Image\n",
    "Image(filename=img_name,width=150, height=150)"
   ]
  },
  {
   "cell_type": "code",
   "execution_count": null,
   "metadata": {
    "colab": {
     "base_uri": "https://localhost:8080/",
     "height": 254
    },
    "colab_type": "code",
    "id": "WeuVANrNcvsE",
    "outputId": "6a246415-6be2-45c4-cc64-801ce3d4e9d3"
   },
   "outputs": [
    {
     "name": "stdout",
     "output_type": "stream",
     "text": [
      "Prediction\n",
      "    Image name:         /content/drive/My Drive/workspace/Test_images/Image0.jpg\n",
      "    Predicted class:      G\n",
      "    Predicted score:      0.9130058884620667\n",
      "\n"
     ]
    },
    {
     "data": {
      "image/jpeg": "[encoded data removed]",
      "text/plain": [
       "<IPython.core.display.Image object>"
      ]
     },
     "execution_count": 14,
     "metadata": {
      "image/jpeg": {
       "height": 150,
       "width": 150
      },
      "tags": []
     },
     "output_type": "execute_result"
    }
   ],
   "source": [
    "img_name = \"workspace/Test_images/Image0.jpg\";\n",
    "predictions = gtf.Infer(img_name=img_name);\n",
    "\n",
    "#Display \n",
    "from IPython.display import Image\n",
    "Image(filename=img_name,width=150, height=150)"
   ]
  },
  {
   "cell_type": "code",
   "execution_count": null,
   "metadata": {
    "colab": {
     "base_uri": "https://localhost:8080/",
     "height": 254
    },
    "colab_type": "code",
    "id": "mxUt_14bc3zz",
    "outputId": "e80539de-b1d9-436a-d360-61ec8eb0d525"
   },
   "outputs": [
    {
     "name": "stdout",
     "output_type": "stream",
     "text": [
      "Prediction\n",
      "    Image name:         /content/drive/My Drive/workspace/Test_images/Image6.jpg\n",
      "    Predicted class:      K\n",
      "    Predicted score:      0.9990782141685486\n",
      "\n"
     ]
    },
    {
     "data": {
      "image/jpeg": "[encoded data removed]",
      "text/plain": [
       "<IPython.core.display.Image object>"
      ]
     },
     "execution_count": 15,
     "metadata": {
      "image/jpeg": {
       "height": 150,
       "width": 150
      },
      "tags": []
     },
     "output_type": "execute_result"
    }
   ],
   "source": [
    "img_name = \"workspace/Test_images/Image6.jpg\";\n",
    "predictions = gtf.Infer(img_name=img_name);\n",
    "\n",
    "#Display \n",
    "from IPython.display import Image\n",
    "Image(filename=img_name,width=150, height=150)"
   ]
  },
  {
   "cell_type": "markdown",
   "metadata": {
    "colab_type": "text",
    "id": "qONEaLajbRyE"
   },
   "source": [
    "# Download Dataset\n",
    " - Credits: https://www.kaggle.com/datamunge/sign-language-mnist"
   ]
  },
  {
   "cell_type": "markdown",
   "metadata": {
    "colab_type": "text",
    "id": "5b-unHPdd-i-"
   },
   "source": [
    "<h2> To get the dataset </h2>\n",
    "\n",
    "<p> This dataset contains 28x28 images of sign-language corresponging to the alphabets. </p>\n",
    "\n",
    "<p> The dataset structure is...\n",
    "\n",
    "<pre>parent_directory -----\n",
    "                      |\n",
    "                      |\n",
    "                      |--Train(Image folder) \n",
    "                      |           |\n",
    "                      |           |\n",
    "                      |           |--- Image0.jpg\n",
    "                      |           |--- Image1.jpg\n",
    "                      |             \n",
    "                      |\n",
    "                      |--Train labels (.csv file with labels)"
   ]
  },
  {
   "cell_type": "code",
   "execution_count": null,
   "metadata": {
    "colab": {},
    "colab_type": "code",
    "id": "VAyIPdUpg--H"
   },
   "outputs": [],
   "source": [
    "!unzip \"Sign_lang_data.zip\""
   ]
  },
  {
   "cell_type": "markdown",
   "metadata": {
    "colab_type": "text",
    "id": "lVrq2twrb9mX"
   },
   "source": [
    "# Deciding on which model to use"
   ]
  },
  {
   "cell_type": "markdown",
   "metadata": {
    "colab_type": "text",
    "id": "cP4WOlLIcYR2"
   },
   "source": [
    "<h2>Setting up the library</h2>"
   ]
  },
  {
   "cell_type": "markdown",
   "metadata": {
    "colab_type": "text",
    "id": "uSMY5_Qwcpa-"
   },
   "source": [
    "Using MonkAI, we can check performance between various models, to decide which model to use."
   ]
  },
  {
   "cell_type": "code",
   "execution_count": null,
   "metadata": {
    "colab": {
     "base_uri": "https://localhost:8080/",
     "height": 139
    },
    "colab_type": "code",
    "id": "T_DXAPhTfK4C",
    "outputId": "72c871b2-a356-4c09-f106-655c4a739e6c"
   },
   "outputs": [
    {
     "name": "stdout",
     "output_type": "stream",
     "text": [
      "Pytorch Version: 1.6.0+cu101\n",
      "\n",
      "Experiment Details\n",
      "    Project: Sign-lang-MNIST\n",
      "    Experiment: Sign-lang\n",
      "    Dir: /content/workspace/Sign-lang-MNIST/Sign-lang/\n",
      "\n"
     ]
    }
   ],
   "source": [
    "gtf = prototype(verbose=1);\n",
    "gtf.Prototype(\"Sign-lang-MNIST\", \"Sign-lang\");"
   ]
  },
  {
   "cell_type": "code",
   "execution_count": null,
   "metadata": {
    "colab": {
     "base_uri": "https://localhost:8080/",
     "height": 1000,
     "referenced_widgets": [
      "30aefc14a5db4534ae34d2d02aed26a1",
      "e09b0c1ae83444a79125b55b6c8f8924",
      "32bbd5f7bc084894b0558af1047619c7",
      "625e83098a584ac39d9293b4832679cf",
      "4076793c2e32451896c168a382ff27e7",
      "775f68c9db4443f3b56c63b9878fc624",
      "c639d7010556410f9c94077aeed6d8e8",
      "7a3bb2dc6c6f460c82c1aab5e3d2d0f6"
     ]
    },
    "colab_type": "code",
    "id": "BhBe7ILcfVkY",
    "outputId": "d30d31e2-0109-4aa7-81ed-8749d498188f"
   },
   "outputs": [
    {
     "name": "stdout",
     "output_type": "stream",
     "text": [
      "Dataset Details\n",
      "    Train path:     /content/Sign_lang_data/Train\n",
      "    Val path:       None\n",
      "    CSV train path: /content/Sign_lang_data/train_labels.csv\n",
      "    CSV val path:   None\n",
      "    Label Type:     single\n",
      "\n",
      "Dataset Params\n",
      "    Input Size:  224\n",
      "    Batch Size:  4\n",
      "    Data Shuffle: True\n",
      "    Processors:   2\n",
      "    Train-val split:   0.7\n",
      "    Delimiter:   ,\n",
      "\n",
      "Pre-Composed Train Transforms\n",
      "[{'RandomHorizontalFlip': {'p': 0.8}}, {'Normalize': {'mean': [0.485, 0.456, 0.406], 'std': [0.229, 0.224, 0.225]}}]\n",
      "\n",
      "Pre-Composed Val Transforms\n",
      "[{'RandomHorizontalFlip': {'p': 0.8}}, {'Normalize': {'mean': [0.485, 0.456, 0.406], 'std': [0.229, 0.224, 0.225]}}]\n",
      "\n",
      "Dataset Numbers\n",
      "    Num train images: 19217\n",
      "    Num val images:   8237\n",
      "    Num classes:      24\n",
      "\n",
      "Model Params\n",
      "    Model name:           vgg16\n",
      "    Use Gpu:              True\n",
      "    Use pretrained:       True\n",
      "    Freeze base network:  True\n",
      "\n",
      "Model Details\n",
      "    Loading pretrained model\n"
     ]
    },
    {
     "name": "stderr",
     "output_type": "stream",
     "text": [
      "Downloading: \"https://download.pytorch.org/models/vgg16-397923af.pth\" to /root/.cache/torch/hub/checkpoints/vgg16-397923af.pth\n"
     ]
    },
    {
     "data": {
      "application/vnd.jupyter.widget-view+json": {
       "model_id": "30aefc14a5db4534ae34d2d02aed26a1",
       "version_major": 2,
       "version_minor": 0
      },
      "text/plain": [
       "HBox(children=(FloatProgress(value=0.0, max=553433881.0), HTML(value='')))"
      ]
     },
     "metadata": {
      "tags": []
     },
     "output_type": "display_data"
    },
    {
     "name": "stdout",
     "output_type": "stream",
     "text": [
      "\n",
      "    Model Loaded on device\n",
      "        Model name:                           vgg16\n",
      "        Num layers in model:  16\n",
      "        Num trainable layers: 1\n",
      "\n",
      "Optimizer\n",
      "    Name:          sgd\n",
      "    Learning rate: 0.01\n",
      "    Params:        {'lr': 0.01, 'momentum': 0, 'weight_decay': 0, 'momentum_dampening_rate': 0, 'clipnorm': 0.0, 'clipvalue': 0.0}\n",
      "\n",
      "\n",
      "\n",
      "Learning rate scheduler\n",
      "    Name:   reduceonplateaulr\n",
      "    Params: {'mode': 'min', 'factor': 0.1, 'patience': 1, 'verbose': True, 'threshold': 0.0001, 'threshold_mode': 'rel', 'cooldown': 0, 'min_lr': 0, 'epsilon': 1e-08}\n",
      "\n",
      "Loss\n",
      "    Name:          softmaxcrossentropy\n",
      "    Params:        {'weight': None, 'batch_axis': 0, 'axis_to_sum_over': -1, 'label_as_categories': True, 'label_smoothing': False}\n",
      "\n",
      "Training params\n",
      "    Num Epochs: 5\n",
      "\n",
      "Display params\n",
      "    Display progress:          True\n",
      "    Display progress realtime: True\n",
      "    Save Training logs:        True\n",
      "    Save Intermediate models:  True\n",
      "    Intermediate model prefix: intermediate_model_\n",
      "\n"
     ]
    }
   ],
   "source": [
    "#Loading the dataset, to use it\n",
    "gtf.Default(dataset_path=\"Sign_lang_data/Train\",\n",
    "            path_to_csv=\"Sign_lang_data/train_labels.csv\",\n",
    "            model_name=\"vgg16\", \n",
    "            num_epochs=5);"
   ]
  },
  {
   "cell_type": "markdown",
   "metadata": {
    "colab_type": "text",
    "id": "-xVnMxhkgq7B"
   },
   "source": [
    "<h2> Analysis and comparison of model performance </h2>"
   ]
  },
  {
   "cell_type": "code",
   "execution_count": null,
   "metadata": {
    "colab": {
     "base_uri": "https://localhost:8080/",
     "height": 642
    },
    "colab_type": "code",
    "id": "sG3hfh8BfjWO",
    "outputId": "6005c5a7-ac58-4f96-f36c-a3ce81aed58b"
   },
   "outputs": [
    {
     "name": "stdout",
     "output_type": "stream",
     "text": [
      "Models List: \n",
      "    1. alexnet\n",
      "    2. vgg11\n",
      "    3. vgg11_bn\n",
      "    4. vgg13\n",
      "    5. vgg13_bn\n",
      "    6. vgg16\n",
      "    7. vgg16_bn\n",
      "    8. vgg19\n",
      "    9. vgg19_bn\n",
      "    10. densenet121\n",
      "    11. densenet161\n",
      "    12. densenet169\n",
      "    13. densenet201\n",
      "    14. googlenet\n",
      "    15. inception_v3\n",
      "    16. resnet18\n",
      "    17. resnet34\n",
      "    18. resnet50\n",
      "    19. resnet101\n",
      "    20. resnet152\n",
      "    21. resnext50_32x4d\n",
      "    22. resnext101_32x8d\n",
      "    23. shufflenet_v2_x0_5\n",
      "    24. shufflenet_v2_x1_0, shufflenet_v2_x1_5\n",
      "    25. shufflenet_v2_x2_0\n",
      "    26. wide_resnet101_2\n",
      "    27. wide_resnet50_2\n",
      "    28. mnasnet0_5\n",
      "    29. mnasnet0_75\n",
      "    30. mnasnet1_0\n",
      "    31. mnasnet1_3\n",
      "    32. mobilenet_v2\n",
      "    33. squeezenet1_0\n",
      "    34. squeezenet1_1\n",
      "\n"
     ]
    }
   ],
   "source": [
    "# All available pre-trained models\n",
    "\n",
    "gtf.List_Models();"
   ]
  },
  {
   "cell_type": "code",
   "execution_count": null,
   "metadata": {
    "colab": {},
    "colab_type": "code",
    "id": "QaSfk4bgg5e_"
   },
   "outputs": [],
   "source": [
    "# Analysis Project Name\n",
    "analysis_name = \"analyse_models\";"
   ]
  },
  {
   "cell_type": "markdown",
   "metadata": {
    "colab_type": "text",
    "id": "wPcfKlMAdRd8"
   },
   "source": [
    "Here we are initially checking with 5 different models, like vgg16,vgg19,resnet18,resnet34 and resnext50_32x4d"
   ]
  },
  {
   "cell_type": "code",
   "execution_count": null,
   "metadata": {
    "colab": {},
    "colab_type": "code",
    "id": "sXifT-iwg8fA"
   },
   "outputs": [],
   "source": [
    "# Models to analyse\n",
    "# First element in the list- Model Name\n",
    "# Second element in the list - Boolean value to freeze base network or not\n",
    "# Third element in the list - Boolean value to use pretrained model as the starting point or not\n",
    "models = [[\"vgg16\", True, True], [\"resnet18\", True, True], [\"resnext50_32x4d\", True, True],[\"vgg19\", True, True],[\"resnet34\", True, True]];"
   ]
  },
  {
   "cell_type": "code",
   "execution_count": null,
   "metadata": {
    "colab": {},
    "colab_type": "code",
    "id": "ZhFDN6UdhCTz"
   },
   "outputs": [],
   "source": [
    "epochs=5 #no of epochs\n",
    "\n",
    "percent_data=5 #percentage of data used for the analysis"
   ]
  },
  {
   "cell_type": "code",
   "execution_count": null,
   "metadata": {
    "colab": {
     "base_uri": "https://localhost:8080/",
     "height": 1000,
     "referenced_widgets": [
      "a2a15fd3b6fe405d96871526bd2a14fd",
      "5e5fd455f4b64fb0af24f6cbb4bef3b5",
      "40dbada96f3447eb960e55aebf5bcdad",
      "0ce2fe67e51a48a9b52a6f7b55a6dbc8",
      "5ca4678111924554baa6020f85319a93",
      "6ac77d35b10c4b6287130caf03f14d7f",
      "e1f844a1aa2641469de84ad8b2258cdc",
      "f99f4a153be040b0a8eb394b331719db"
     ]
    },
    "colab_type": "code",
    "id": "inlMzbzzhQ2A",
    "outputId": "17457fef-d8e5-4df4-c34e-38cfd7aace5e"
   },
   "outputs": [
    {
     "name": "stdout",
     "output_type": "stream",
     "text": [
      "\n",
      "Running Model analysis\n",
      "Analysis Name      : analyse_models\n",
      "\n",
      "Running experiment : 1/5\n",
      "Experiment name    : Model_vgg16_freeze_base_pretrained\n",
      "Estimated time     : 2 min\n",
      "Experiment Complete\n",
      "\n",
      "\n",
      "Running experiment : 2/5\n",
      "Experiment name    : Model_resnet18_freeze_base_pretrained\n",
      "Estimated time     : 43.63713264465332 sec\n",
      "Experiment Complete\n",
      "\n",
      "\n",
      "Running experiment : 3/5\n",
      "Experiment name    : Model_resnext50_32x4d_freeze_base_pretrained\n",
      "Estimated time     : 2 min\n",
      "Experiment Complete\n",
      "\n",
      "\n",
      "Running experiment : 4/5\n",
      "Experiment name    : Model_vgg19_freeze_base_pretrained\n"
     ]
    },
    {
     "name": "stderr",
     "output_type": "stream",
     "text": [
      "Downloading: \"https://download.pytorch.org/models/vgg19-dcbb9e9d.pth\" to /root/.cache/torch/hub/checkpoints/vgg19-dcbb9e9d.pth\n"
     ]
    },
    {
     "data": {
      "application/vnd.jupyter.widget-view+json": {
       "model_id": "a2a15fd3b6fe405d96871526bd2a14fd",
       "version_major": 2,
       "version_minor": 0
      },
      "text/plain": [
       "HBox(children=(FloatProgress(value=0.0, max=574673361.0), HTML(value='')))"
      ]
     },
     "metadata": {
      "tags": []
     },
     "output_type": "display_data"
    },
    {
     "name": "stdout",
     "output_type": "stream",
     "text": [
      "\n",
      "Estimated time     : 2 min\n",
      "Experiment Complete\n",
      "\n",
      "\n",
      "Running experiment : 5/5\n",
      "Experiment name    : Model_resnet34_freeze_base_pretrained\n",
      "Estimated time     : 2 min\n",
      "Experiment Complete\n",
      "\n",
      "\n",
      "Comparing Experiments\n",
      "Comparison ID:      Comparison_analyse_models\n",
      "Generated statistics post all epochs\n",
      "| Experiment Name                              |   Train Acc |   Val Acc |   Train Loss |   Val Loss |\n",
      "|----------------------------------------------+-------------+-----------+--------------+------------|\n",
      "| Model_vgg16_freeze_base_pretrained           |    0.750405 |  0.884058 |     0.781827 |   0.402962 |\n",
      "| Model_resnet18_freeze_base_pretrained        |    0.641815 |  0.695652 |     1.24638  |   0.969204 |\n",
      "| Model_resnext50_32x4d_freeze_base_pretrained |    0.589951 |  0.543478 |     1.45812  |   1.56685  |\n",
      "| Model_vgg19_freeze_base_pretrained           |    0.791734 |  0.789855 |     0.677946 |   0.615026 |\n",
      "| Model_resnet34_freeze_base_pretrained        |    0.660454 |  0.594203 |     1.18834  |   1.2382   |\n",
      "\n"
     ]
    },
    {
     "data": {
      "text/plain": [
       "<Figure size 432x288 with 0 Axes>"
      ]
     },
     "metadata": {
      "tags": []
     },
     "output_type": "display_data"
    },
    {
     "data": {
      "text/plain": [
       "<Figure size 1440x720 with 0 Axes>"
      ]
     },
     "metadata": {
      "tags": []
     },
     "output_type": "display_data"
    },
    {
     "data": {
      "text/plain": [
       "<Figure size 1440x720 with 0 Axes>"
      ]
     },
     "metadata": {
      "tags": []
     },
     "output_type": "display_data"
    },
    {
     "data": {
      "text/plain": [
       "<Figure size 1440x720 with 0 Axes>"
      ]
     },
     "metadata": {
      "tags": []
     },
     "output_type": "display_data"
    },
    {
     "data": {
      "text/plain": [
       "<Figure size 1440x720 with 0 Axes>"
      ]
     },
     "metadata": {
      "tags": []
     },
     "output_type": "display_data"
    }
   ],
   "source": [
    "analysis = gtf.Analyse_Models(analysis_name, models, percent_data, \n",
    "                              num_epochs=epochs, state=\"keep_none\"); #Analyser function called"
   ]
  },
  {
   "cell_type": "markdown",
   "metadata": {
    "colab_type": "text",
    "id": "12quFa8AdnlM"
   },
   "source": [
    "As seen, we got better results with vgg16 and vgg19, so decide to use these two models."
   ]
  },
  {
   "cell_type": "markdown",
   "metadata": {
    "colab_type": "text",
    "id": "0Hk5sxM5dyeb"
   },
   "source": [
    "<b>In this way, for any model we can check and compare between models easily.</b>"
   ]
  },
  {
   "cell_type": "markdown",
   "metadata": {
    "colab_type": "text",
    "id": "YwN0Y0iVfABo"
   },
   "source": [
    "# Setting up the library,to perform classification, from start"
   ]
  },
  {
   "cell_type": "code",
   "execution_count": null,
   "metadata": {
    "colab": {},
    "colab_type": "code",
    "id": "Ke8njIEqhU_H"
   },
   "outputs": [],
   "source": [
    "#Using pytorch backend \n",
    "\n",
    "# When installed using pip\n",
    "from monk.pytorch_prototype import prototype"
   ]
  },
  {
   "cell_type": "markdown",
   "metadata": {
    "colab_type": "text",
    "id": "YMqaSUsMePFp"
   },
   "source": [
    "## Training on vgg16 model"
   ]
  },
  {
   "cell_type": "code",
   "execution_count": null,
   "metadata": {
    "colab": {},
    "colab_type": "code",
    "id": "7O1qhwROhY_n"
   },
   "outputs": [],
   "source": [
    "gtf = prototype(verbose=1);\n",
    "gtf.Prototype(\"Project-SignLangMNIST\", \"Sign-lang-classification-vgg16\");"
   ]
  },
  {
   "cell_type": "code",
   "execution_count": null,
   "metadata": {
    "colab": {
     "base_uri": "https://localhost:8080/",
     "height": 1000
    },
    "colab_type": "code",
    "id": "6P623MD5hhFw",
    "outputId": "1e11389f-52c7-4d75-8804-1d7bd6de1579"
   },
   "outputs": [
    {
     "name": "stdout",
     "output_type": "stream",
     "text": [
      "Dataset Details\n",
      "    Train path:     /content/Sign_lang_data/Train\n",
      "    Val path:       None\n",
      "    CSV train path: /content/Sign_lang_data/train_labels.csv\n",
      "    CSV val path:   None\n",
      "    Label Type:     single\n",
      "\n",
      "Dataset Params\n",
      "    Input Size:  224\n",
      "    Batch Size:  4\n",
      "    Data Shuffle: True\n",
      "    Processors:   2\n",
      "    Train-val split:   0.7\n",
      "    Delimiter:   ,\n",
      "\n",
      "Pre-Composed Train Transforms\n",
      "[{'RandomHorizontalFlip': {'p': 0.8}}, {'Normalize': {'mean': [0.485, 0.456, 0.406], 'std': [0.229, 0.224, 0.225]}}]\n",
      "\n",
      "Pre-Composed Val Transforms\n",
      "[{'RandomHorizontalFlip': {'p': 0.8}}, {'Normalize': {'mean': [0.485, 0.456, 0.406], 'std': [0.229, 0.224, 0.225]}}]\n",
      "\n",
      "Dataset Numbers\n",
      "    Num train images: 19217\n",
      "    Num val images:   8237\n",
      "    Num classes:      24\n",
      "\n",
      "Model Params\n",
      "    Model name:           vgg16\n",
      "    Use Gpu:              True\n",
      "    Use pretrained:       True\n",
      "    Freeze base network:  True\n",
      "\n",
      "Model Details\n",
      "    Loading pretrained model\n",
      "    Model Loaded on device\n",
      "        Model name:                           vgg16\n",
      "        Num layers in model:  16\n",
      "        Num trainable layers: 1\n",
      "\n",
      "Optimizer\n",
      "    Name:          sgd\n",
      "    Learning rate: 0.01\n",
      "    Params:        {'lr': 0.01, 'momentum': 0, 'weight_decay': 0, 'momentum_dampening_rate': 0, 'clipnorm': 0.0, 'clipvalue': 0.0}\n",
      "\n",
      "\n",
      "\n",
      "Learning rate scheduler\n",
      "    Name:   reduceonplateaulr\n",
      "    Params: {'mode': 'min', 'factor': 0.1, 'patience': 1, 'verbose': True, 'threshold': 0.0001, 'threshold_mode': 'rel', 'cooldown': 0, 'min_lr': 0, 'epsilon': 1e-08}\n",
      "\n",
      "Loss\n",
      "    Name:          softmaxcrossentropy\n",
      "    Params:        {'weight': None, 'batch_axis': 0, 'axis_to_sum_over': -1, 'label_as_categories': True, 'label_smoothing': False}\n",
      "\n",
      "Training params\n",
      "    Num Epochs: 5\n",
      "\n",
      "Display params\n",
      "    Display progress:          True\n",
      "    Display progress realtime: True\n",
      "    Save Training logs:        True\n",
      "    Save Intermediate models:  True\n",
      "    Intermediate model prefix: intermediate_model_\n",
      "\n"
     ]
    }
   ],
   "source": [
    "gtf.Default(dataset_path=\"Sign_lang_data/Train\",\n",
    "            path_to_csv=\"Sign_lang_data/train_labels.csv\",\n",
    "            model_name=\"vgg16\", \n",
    "            num_epochs=5);"
   ]
  },
  {
   "cell_type": "markdown",
   "metadata": {
    "colab_type": "text",
    "id": "quwjQVAPpZHA"
   },
   "source": [
    "<h2>Training the model</h2>"
   ]
  },
  {
   "cell_type": "code",
   "execution_count": null,
   "metadata": {
    "colab": {},
    "colab_type": "code",
    "id": "ZSo-r8WUhqhd"
   },
   "outputs": [],
   "source": [
    "#Start Training\n",
    "gtf.Train();"
   ]
  },
  {
   "cell_type": "markdown",
   "metadata": {
    "colab_type": "text",
    "id": "qAm43Xs1pgSg"
   },
   "source": [
    "<h1> Validating and testing the model performance</h1>\n",
    "\n",
    "<code>- Set flag eval_infer as True</code>"
   ]
  },
  {
   "cell_type": "code",
   "execution_count": null,
   "metadata": {
    "colab": {
     "base_uri": "https://localhost:8080/",
     "height": 208
    },
    "colab_type": "code",
    "id": "IZ0VxrhSjBgU",
    "outputId": "2b15ffdf-92c3-4dcb-82ac-824a26bb359f"
   },
   "outputs": [
    {
     "name": "stdout",
     "output_type": "stream",
     "text": [
      "Pytorch Version: 1.6.0+cu101\n",
      "\n",
      "Model Details\n",
      "    Loading model - workspace/Project-SignLangMNIST/Sign-lang-classification-vgg16/output/models/final\n",
      "    Model loaded!\n",
      "\n",
      "Experiment Details\n",
      "    Project: Project-SignLangMNIST\n",
      "    Experiment: Sign-lang-classification-vgg16\n",
      "    Dir: /content/drive/My Drive/workspace/Project-SignLangMNIST/Sign-lang-classification-vgg16/\n",
      "\n"
     ]
    }
   ],
   "source": [
    "gtf = prototype(verbose=1);\n",
    "gtf.Prototype(\"Project-SignLangMNIST\", \"Sign-lang-classification-vgg16\", eval_infer=True);"
   ]
  },
  {
   "cell_type": "code",
   "execution_count": null,
   "metadata": {
    "colab": {
     "base_uri": "https://localhost:8080/",
     "height": 295
    },
    "colab_type": "code",
    "id": "6T7if5wZnxpB",
    "outputId": "ddec7fa2-6369-4402-dadd-0b991b3bc186"
   },
   "outputs": [
    {
     "name": "stdout",
     "output_type": "stream",
     "text": [
      "Dataset Details\n",
      "    Test path:     /content/Sign_lang_data/Test\n",
      "    CSV test path:  /content/Sign_lang_data/test_labels.csv\n",
      "\n",
      "Dataset Params\n",
      "    Input Size:  224\n",
      "    Processors:   2\n",
      "    Delimiter:   ,\n",
      "\n",
      "Pre-Composed Test Transforms\n",
      "[{'Normalize': {'mean': [0.485, 0.456, 0.406], 'std': [0.229, 0.224, 0.225]}}]\n",
      "\n",
      "Dataset Numbers\n",
      "    Num test images: 7171\n",
      "    Num classes:      24\n",
      "\n"
     ]
    }
   ],
   "source": [
    "gtf.Dataset_Params(dataset_path=\"Sign_lang_data/Test\",\n",
    "            path_to_csv=\"Sign_lang_data/test_labels.csv\");\n",
    "gtf.Dataset();"
   ]
  },
  {
   "cell_type": "code",
   "execution_count": null,
   "metadata": {
    "colab": {},
    "colab_type": "code",
    "id": "WETLfADGoAPZ"
   },
   "outputs": [],
   "source": [
    "accuracy, class_based_accuracy = gtf.Evaluate();"
   ]
  },
  {
   "cell_type": "markdown",
   "metadata": {
    "colab_type": "text",
    "id": "jj9VyuH0FIa5"
   },
   "source": [
    "<pre>Result\n",
    "        class based accuracies\n",
    "            0. A - 98.18731117824774 %\n",
    "            1. B - 99.30555555555556 %\n",
    "            2. C - 92.55663430420712 %\n",
    "            3. D - 72.24489795918367 %\n",
    "            4. E - 88.55421686746988 %\n",
    "            5. F - 100.0 %\n",
    "            6. G - 92.24137931034483 %\n",
    "            7. H - 84.86238532110092 %\n",
    "            8. I - 99.65277777777779 %\n",
    "            9. K - 84.59214501510573 %\n",
    "            10. L - 97.1291866028708 %\n",
    "            11. M - 41.62436548223351 %\n",
    "            12. N - 87.62886597938144 %\n",
    "            13. O - 99.59349593495935 %\n",
    "            14. P - 100.0 %\n",
    "            15. Q - 98.78048780487805 %\n",
    "            16. R - 42.36111111111111 %\n",
    "            17. S - 83.33333333333334 %\n",
    "            18. T - 99.59677419354838 %\n",
    "            19. U - 77.44360902255639 %\n",
    "            20. V - 94.50867052023122 %\n",
    "            21. W - 97.0873786407767 %\n",
    "            22. X - 100.0 %\n",
    "            23. Y - 87.95180722891565 %\n",
    "        total images:            7171\n",
    "        num correct predictions: 6344\n",
    "        Average accuracy (%):    88.4674382931251\n",
    "\n",
    "</pre>"
   ]
  },
  {
   "cell_type": "markdown",
   "metadata": {
    "colab_type": "text",
    "id": "sDoUkWjrE40l"
   },
   "source": [
    "<b> The overall accuracy with vgg-16 is 88.46 % </b>"
   ]
  },
  {
   "cell_type": "markdown",
   "metadata": {
    "colab_type": "text",
    "id": "VyO1nytNnBgG"
   },
   "source": [
    "\n",
    "<h2>Running inference on test images (for vgg16)</h2>"
   ]
  },
  {
   "cell_type": "code",
   "execution_count": null,
   "metadata": {
    "colab": {
     "base_uri": "https://localhost:8080/",
     "height": 204
    },
    "colab_type": "code",
    "id": "bAaZLg5y1kck",
    "outputId": "61e632c0-8587-45ba-f017-01dbd95aca1b"
   },
   "outputs": [
    {
     "name": "stdout",
     "output_type": "stream",
     "text": [
      "Prediction\n",
      "    Image name:         /content/Sign_lang_data/Test/Image8.jpg\n",
      "    Predicted class:      D\n",
      "    Predicted score:      0.9813608527183533\n",
      "\n"
     ]
    },
    {
     "data": {
      "image/jpeg": "[encoded data removed]",
      "text/plain": [
       "<IPython.core.display.Image object>"
      ]
     },
     "execution_count": 22,
     "metadata": {
      "image/jpeg": {
       "height": 100,
       "width": 100
      },
      "tags": []
     },
     "output_type": "execute_result"
    }
   ],
   "source": [
    "img_name = \"Sign_lang_data/Test/Image8.jpg\";\n",
    "predictions = gtf.Infer(img_name=img_name);\n",
    "\n",
    "#Display \n",
    "from IPython.display import Image\n",
    "Image(filename=img_name,width=100, height=100)"
   ]
  },
  {
   "cell_type": "code",
   "execution_count": null,
   "metadata": {
    "colab": {
     "base_uri": "https://localhost:8080/",
     "height": 204
    },
    "colab_type": "code",
    "id": "SDV5us2-3VuZ",
    "outputId": "ce1cced6-ce32-4641-d53c-5c1222c0d65b"
   },
   "outputs": [
    {
     "name": "stdout",
     "output_type": "stream",
     "text": [
      "Prediction\n",
      "    Image name:         /content/Sign_lang_data/Test/Image94.jpg\n",
      "    Predicted class:      I\n",
      "    Predicted score:      0.9999418258666992\n",
      "\n"
     ]
    },
    {
     "data": {
      "image/jpeg": "[encoded data removed]",
      "text/plain": [
       "<IPython.core.display.Image object>"
      ]
     },
     "execution_count": 23,
     "metadata": {
      "image/jpeg": {
       "height": 100,
       "width": 100
      },
      "tags": []
     },
     "output_type": "execute_result"
    }
   ],
   "source": [
    "img_name = \"Sign_lang_data/Test/Image94.jpg\";\n",
    "predictions = gtf.Infer(img_name=img_name);\n",
    "\n",
    "#Display \n",
    "from IPython.display import Image\n",
    "Image(filename=img_name,width=100, height=100)"
   ]
  },
  {
   "cell_type": "markdown",
   "metadata": {
    "colab_type": "text",
    "id": "xHQgPEZDFF5K"
   },
   "source": [
    "## Training on vgg19 model"
   ]
  },
  {
   "cell_type": "code",
   "execution_count": null,
   "metadata": {
    "colab": {
     "base_uri": "https://localhost:8080/",
     "height": 139
    },
    "colab_type": "code",
    "id": "A69GusZ9oFCN",
    "outputId": "2565b736-11c9-4094-d1d0-476feef1605b"
   },
   "outputs": [
    {
     "name": "stdout",
     "output_type": "stream",
     "text": [
      "Pytorch Version: 1.6.0+cu101\n",
      "\n",
      "Experiment Details\n",
      "    Project: Project-SignLangMNIST\n",
      "    Experiment: Sign-lang-classification-vgg19\n",
      "    Dir: /content/drive/My Drive/workspace/Project-SignLangMNIST/Sign-lang-classification-vgg19/\n",
      "\n"
     ]
    }
   ],
   "source": [
    "gtf = prototype(verbose=1);\n",
    "gtf.Prototype(\"Project-SignLangMNIST\", \"Sign-lang-classification-vgg19\");"
   ]
  },
  {
   "cell_type": "markdown",
   "metadata": {
    "colab_type": "text",
    "id": "EaJtHNxGqT8x"
   },
   "source": [
    "<h2> Load the train dataset </h2>"
   ]
  },
  {
   "cell_type": "code",
   "execution_count": null,
   "metadata": {
    "colab": {
     "base_uri": "https://localhost:8080/",
     "height": 1000,
     "referenced_widgets": [
      "4903cae2999444e898f216412f002e56",
      "ae9cbcb89d364fd0b35d5c37eb52c312",
      "47e74e788d1d457ab2305706f49bb68f",
      "ed8577d1a112450699a26e8e2368e057",
      "9f9d541e3c0647c4b27057d38ea82b91",
      "0b02674a8ea344c0b19602ff4c4f85ba",
      "ca8859815b414cc0a4a219b6e04de392",
      "048a880eda424f71b392e6c2cc854564"
     ]
    },
    "colab_type": "code",
    "id": "w1aT9Cz9ra_H",
    "outputId": "e002e2d4-8776-4ef6-d75c-8573c0c97b90"
   },
   "outputs": [
    {
     "name": "stdout",
     "output_type": "stream",
     "text": [
      "Dataset Details\n",
      "    Train path:     /content/Sign_lang_data/Train\n",
      "    Val path:       None\n",
      "    CSV train path: /content/Sign_lang_data/train_labels.csv\n",
      "    CSV val path:   None\n",
      "    Label Type:     single\n",
      "\n",
      "Dataset Params\n",
      "    Input Size:  224\n",
      "    Batch Size:  4\n",
      "    Data Shuffle: True\n",
      "    Processors:   2\n",
      "    Train-val split:   0.7\n",
      "    Delimiter:   ,\n",
      "\n",
      "Pre-Composed Train Transforms\n",
      "[{'RandomHorizontalFlip': {'p': 0.8}}, {'Normalize': {'mean': [0.485, 0.456, 0.406], 'std': [0.229, 0.224, 0.225]}}]\n",
      "\n",
      "Pre-Composed Val Transforms\n",
      "[{'RandomHorizontalFlip': {'p': 0.8}}, {'Normalize': {'mean': [0.485, 0.456, 0.406], 'std': [0.229, 0.224, 0.225]}}]\n",
      "\n",
      "Dataset Numbers\n",
      "    Num train images: 19217\n",
      "    Num val images:   8237\n",
      "    Num classes:      24\n",
      "\n",
      "Model Params\n",
      "    Model name:           vgg19\n",
      "    Use Gpu:              True\n",
      "    Use pretrained:       True\n",
      "    Freeze base network:  True\n",
      "\n",
      "Model Details\n",
      "    Loading pretrained model\n"
     ]
    },
    {
     "name": "stderr",
     "output_type": "stream",
     "text": [
      "Downloading: \"https://download.pytorch.org/models/vgg19-dcbb9e9d.pth\" to /root/.cache/torch/hub/checkpoints/vgg19-dcbb9e9d.pth\n"
     ]
    },
    {
     "data": {
      "application/vnd.jupyter.widget-view+json": {
       "model_id": "4903cae2999444e898f216412f002e56",
       "version_major": 2,
       "version_minor": 0
      },
      "text/plain": [
       "HBox(children=(FloatProgress(value=0.0, max=574673361.0), HTML(value='')))"
      ]
     },
     "metadata": {
      "tags": []
     },
     "output_type": "display_data"
    },
    {
     "name": "stdout",
     "output_type": "stream",
     "text": [
      "\n",
      "    Model Loaded on device\n",
      "        Model name:                           vgg19\n",
      "        Num layers in model:  19\n",
      "        Num trainable layers: 1\n",
      "\n",
      "Optimizer\n",
      "    Name:          sgd\n",
      "    Learning rate: 0.01\n",
      "    Params:        {'lr': 0.01, 'momentum': 0, 'weight_decay': 0, 'momentum_dampening_rate': 0, 'clipnorm': 0.0, 'clipvalue': 0.0}\n",
      "\n",
      "\n",
      "\n",
      "Learning rate scheduler\n",
      "    Name:   reduceonplateaulr\n",
      "    Params: {'mode': 'min', 'factor': 0.1, 'patience': 1, 'verbose': True, 'threshold': 0.0001, 'threshold_mode': 'rel', 'cooldown': 0, 'min_lr': 0, 'epsilon': 1e-08}\n",
      "\n",
      "Loss\n",
      "    Name:          softmaxcrossentropy\n",
      "    Params:        {'weight': None, 'batch_axis': 0, 'axis_to_sum_over': -1, 'label_as_categories': True, 'label_smoothing': False}\n",
      "\n",
      "Training params\n",
      "    Num Epochs: 5\n",
      "\n",
      "Display params\n",
      "    Display progress:          True\n",
      "    Display progress realtime: True\n",
      "    Save Training logs:        True\n",
      "    Save Intermediate models:  True\n",
      "    Intermediate model prefix: intermediate_model_\n",
      "\n"
     ]
    }
   ],
   "source": [
    "gtf.Default(dataset_path=\"Sign_lang_data/Train\",\n",
    "            path_to_csv=\"Sign_lang_data/train_labels.csv\",\n",
    "            model_name=\"vgg19\", \n",
    "            num_epochs=5);\n",
    "\n"
   ]
  },
  {
   "cell_type": "code",
   "execution_count": null,
   "metadata": {
    "colab": {},
    "colab_type": "code",
    "id": "HPfO83reriCB"
   },
   "outputs": [],
   "source": [
    "#Start Training\n",
    "gtf.Train();"
   ]
  },
  {
   "cell_type": "markdown",
   "metadata": {
    "colab_type": "text",
    "id": "88kg5sD9nBfn"
   },
   "source": [
    "\n",
    "<h2> Validating the trained classifier </h2>\n",
    "\n",
    " Loading the test dataset, and testing the model"
   ]
  },
  {
   "cell_type": "code",
   "execution_count": null,
   "metadata": {
    "colab": {
     "base_uri": "https://localhost:8080/",
     "height": 208
    },
    "colab_type": "code",
    "id": "sjPkWiTCrydx",
    "outputId": "b46a0aec-0382-46e8-9941-370e487e549d"
   },
   "outputs": [
    {
     "name": "stdout",
     "output_type": "stream",
     "text": [
      "Pytorch Version: 1.6.0+cu101\n",
      "\n",
      "Model Details\n",
      "    Loading model - workspace/Project-SignLangMNIST/Sign-lang-classification-vgg19/output/models/final\n",
      "    Model loaded!\n",
      "\n",
      "Experiment Details\n",
      "    Project: Project-SignLangMNIST\n",
      "    Experiment: Sign-lang-classification-vgg19\n",
      "    Dir: /content/drive/My Drive/workspace/Project-SignLangMNIST/Sign-lang-classification-vgg19/\n",
      "\n"
     ]
    }
   ],
   "source": [
    "gtf = prototype(verbose=1);\n",
    "gtf.Prototype(\"Project-SignLangMNIST\", \"Sign-lang-classification-vgg19\", eval_infer=True);"
   ]
  },
  {
   "cell_type": "code",
   "execution_count": null,
   "metadata": {
    "colab": {
     "base_uri": "https://localhost:8080/",
     "height": 295
    },
    "colab_type": "code",
    "id": "KUpg4dEExzE8",
    "outputId": "61fe9516-8bfa-403c-8347-3c6f9633ebaf"
   },
   "outputs": [
    {
     "name": "stdout",
     "output_type": "stream",
     "text": [
      "Dataset Details\n",
      "    Test path:     /content/Sign_lang_data/Test\n",
      "    CSV test path:  /content/Sign_lang_data/test_labels.csv\n",
      "\n",
      "Dataset Params\n",
      "    Input Size:  224\n",
      "    Processors:   2\n",
      "    Delimiter:   ,\n",
      "\n",
      "Pre-Composed Test Transforms\n",
      "[{'Normalize': {'mean': [0.485, 0.456, 0.406], 'std': [0.229, 0.224, 0.225]}}]\n",
      "\n",
      "Dataset Numbers\n",
      "    Num test images: 7171\n",
      "    Num classes:      24\n",
      "\n"
     ]
    }
   ],
   "source": [
    "gtf.Dataset_Params(dataset_path=\"Sign_lang_data/Test\",\n",
    "            path_to_csv=\"Sign_lang_data/test_labels.csv\");\n",
    "gtf.Dataset();"
   ]
  },
  {
   "cell_type": "code",
   "execution_count": null,
   "metadata": {
    "colab": {},
    "colab_type": "code",
    "id": "81J7DTBzx2fH"
   },
   "outputs": [],
   "source": [
    "accuracy, class_based_accuracy = gtf.Evaluate();"
   ]
  },
  {
   "cell_type": "markdown",
   "metadata": {
    "colab_type": "text",
    "id": "0OaN3UlJFgRd"
   },
   "source": [
    "<pre> Result\n",
    "        class based accuracies\n",
    "            0. A - 89.72809667673715 %\n",
    "            1. B - 99.07407407407408 %\n",
    "            2. C - 97.41100323624595 %\n",
    "            3. D - 84.08163265306122 %\n",
    "            4. E - 90.16064257028113 %\n",
    "            5. F - 98.38056680161942 %\n",
    "            6. G - 74.13793103448276 %\n",
    "            7. H - 95.87155963302753 %\n",
    "            8. I - 38.88888888888889 %\n",
    "            9. K - 91.54078549848943 %\n",
    "            10. L - 98.56459330143541 %\n",
    "            11. M - 92.13197969543148 %\n",
    "            12. N - 66.66666666666666 %\n",
    "            13. O - 98.78048780487805 %\n",
    "            14. P - 99.71181556195965 %\n",
    "            15. Q - 100.0 %\n",
    "            16. R - 70.13888888888889 %\n",
    "            17. S - 93.08943089430895 %\n",
    "            18. T - 99.59677419354838 %\n",
    "            19. U - 98.49624060150376 %\n",
    "            20. V - 81.5028901734104 %\n",
    "            21. W - 99.51456310679612 %\n",
    "            22. X - 98.12734082397003 %\n",
    "            23. Y - 96.3855421686747 %\n",
    "        total images:            7171\n",
    "        num correct predictions: 6439\n",
    "        Average accuracy (%):    89.79221865848558</pre>"
   ]
  },
  {
   "cell_type": "markdown",
   "metadata": {
    "colab_type": "text",
    "id": "gYrC1SZte7D1"
   },
   "source": [
    "<h2> Running Inference on test images (for vgg19 model) </h2>"
   ]
  },
  {
   "cell_type": "code",
   "execution_count": null,
   "metadata": {
    "colab": {
     "base_uri": "https://localhost:8080/",
     "height": 204
    },
    "colab_type": "code",
    "id": "TVnp2dpD5EG7",
    "outputId": "f7de68e3-24bb-4066-de2d-fc17ee4d6465"
   },
   "outputs": [
    {
     "name": "stdout",
     "output_type": "stream",
     "text": [
      "Prediction\n",
      "    Image name:         /content/Sign_lang_data/Test/Image8.jpg\n",
      "    Predicted class:      D\n",
      "    Predicted score:      0.8756626844406128\n",
      "\n"
     ]
    },
    {
     "data": {
      "image/jpeg": "[encoded data removed]",
      "text/plain": [
       "<IPython.core.display.Image object>"
      ]
     },
     "execution_count": 30,
     "metadata": {
      "image/jpeg": {
       "height": 100,
       "width": 100
      },
      "tags": []
     },
     "output_type": "execute_result"
    }
   ],
   "source": [
    "img_name = \"Sign_lang_data/Test/Image8.jpg\";\n",
    "predictions = gtf.Infer(img_name=img_name);\n",
    "\n",
    "#Display \n",
    "from IPython.display import Image\n",
    "Image(filename=img_name,width=100, height=100)"
   ]
  },
  {
   "cell_type": "code",
   "execution_count": null,
   "metadata": {
    "colab": {
     "base_uri": "https://localhost:8080/",
     "height": 204
    },
    "colab_type": "code",
    "id": "24eRg3fSA5mi",
    "outputId": "584ae966-d8c0-40a9-bf67-9d69880add24"
   },
   "outputs": [
    {
     "name": "stdout",
     "output_type": "stream",
     "text": [
      "Prediction\n",
      "    Image name:         /content/Sign_lang_data/Test/Image3.jpg\n",
      "    Predicted class:      A\n",
      "    Predicted score:      0.9739866852760315\n",
      "\n"
     ]
    },
    {
     "data": {
      "image/jpeg": "[encoded data removed]",
      "text/plain": [
       "<IPython.core.display.Image object>"
      ]
     },
     "execution_count": 31,
     "metadata": {
      "image/jpeg": {
       "height": 100,
       "width": 100
      },
      "tags": []
     },
     "output_type": "execute_result"
    }
   ],
   "source": [
    "img_name = \"Sign_lang_data/Test/Image3.jpg\";\n",
    "predictions = gtf.Infer(img_name=img_name);\n",
    "\n",
    "#Display \n",
    "from IPython.display import Image\n",
    "Image(filename=img_name,width=100, height=100)\n"
   ]
  },
  {
   "cell_type": "code",
   "execution_count": null,
   "metadata": {
    "colab": {
     "base_uri": "https://localhost:8080/",
     "height": 204
    },
    "colab_type": "code",
    "id": "-cmyt6swBD_Y",
    "outputId": "4f263d81-0b90-4fb4-8249-565ffb72fbbf"
   },
   "outputs": [
    {
     "name": "stdout",
     "output_type": "stream",
     "text": [
      "Prediction\n",
      "    Image name:         /content/drive/My Drive/workspace/Test_images/Image9.jpg\n",
      "    Predicted class:      H\n",
      "    Predicted score:      0.997378945350647\n",
      "\n"
     ]
    },
    {
     "data": {
      "image/jpeg": "[encoded data removed]",
      "text/plain": [
       "<IPython.core.display.Image object>"
      ]
     },
     "execution_count": 32,
     "metadata": {
      "image/jpeg": {
       "height": 100,
       "width": 100
      },
      "tags": []
     },
     "output_type": "execute_result"
    }
   ],
   "source": [
    "img_name = \"workspace/Test_images/Image9.jpg\";\n",
    "predictions = gtf.Infer(img_name=img_name);\n",
    "\n",
    "#Display \n",
    "from IPython.display import Image\n",
    "Image(filename=img_name,width=100, height=100)"
   ]
  },
  {
   "cell_type": "code",
   "execution_count": null,
   "metadata": {
    "colab": {},
    "colab_type": "code",
    "id": "HhOdaJPgeREU"
   },
   "outputs": [],
   "source": []
  }
 ],
 "metadata": {
  "accelerator": "GPU",
  "colab": {
   "name": "Classifier - Sign Language Detection(MNIST).ipynb",
   "provenance": [],
   "toc_visible": true
  },
  "kernelspec": {
   "display_name": "Python 3",
   "language": "python",
   "name": "python3"
  },
  "language_info": {
   "codemirror_mode": {
    "name": "ipython",
    "version": 3
   },
   "file_extension": ".py",
   "mimetype": "text/x-python",
   "name": "python",
   "nbconvert_exporter": "python",
   "pygments_lexer": "ipython3",
   "version": "3.6.9"
  },
  "widgets": {
   "application/vnd.jupyter.widget-state+json": {
    "048a880eda424f71b392e6c2cc854564": {
     "model_module": "@jupyter-widgets/base",
     "model_name": "LayoutModel",
     "state": {
      "_model_module": "@jupyter-widgets/base",
      "_model_module_version": "1.2.0",
      "_model_name": "LayoutModel",
      "_view_count": null,
      "_view_module": "@jupyter-widgets/base",
      "_view_module_version": "1.2.0",
      "_view_name": "LayoutView",
      "align_content": null,
      "align_items": null,
      "align_self": null,
      "border": null,
      "bottom": null,
      "display": null,
      "flex": null,
      "flex_flow": null,
      "grid_area": null,
      "grid_auto_columns": null,
      "grid_auto_flow": null,
      "grid_auto_rows": null,
      "grid_column": null,
      "grid_gap": null,
      "grid_row": null,
      "grid_template_areas": null,
      "grid_template_columns": null,
      "grid_template_rows": null,
      "height": null,
      "justify_content": null,
      "justify_items": null,
      "left": null,
      "margin": null,
      "max_height": null,
      "max_width": null,
      "min_height": null,
      "min_width": null,
      "object_fit": null,
      "object_position": null,
      "order": null,
      "overflow": null,
      "overflow_x": null,
      "overflow_y": null,
      "padding": null,
      "right": null,
      "top": null,
      "visibility": null,
      "width": null
     }
    },
    "0b02674a8ea344c0b19602ff4c4f85ba": {
     "model_module": "@jupyter-widgets/base",
     "model_name": "LayoutModel",
     "state": {
      "_model_module": "@jupyter-widgets/base",
      "_model_module_version": "1.2.0",
      "_model_name": "LayoutModel",
      "_view_count": null,
      "_view_module": "@jupyter-widgets/base",
      "_view_module_version": "1.2.0",
      "_view_name": "LayoutView",
      "align_content": null,
      "align_items": null,
      "align_self": null,
      "border": null,
      "bottom": null,
      "display": null,
      "flex": null,
      "flex_flow": null,
      "grid_area": null,
      "grid_auto_columns": null,
      "grid_auto_flow": null,
      "grid_auto_rows": null,
      "grid_column": null,
      "grid_gap": null,
      "grid_row": null,
      "grid_template_areas": null,
      "grid_template_columns": null,
      "grid_template_rows": null,
      "height": null,
      "justify_content": null,
      "justify_items": null,
      "left": null,
      "margin": null,
      "max_height": null,
      "max_width": null,
      "min_height": null,
      "min_width": null,
      "object_fit": null,
      "object_position": null,
      "order": null,
      "overflow": null,
      "overflow_x": null,
      "overflow_y": null,
      "padding": null,
      "right": null,
      "top": null,
      "visibility": null,
      "width": null
     }
    },
    "47e74e788d1d457ab2305706f49bb68f": {
     "model_module": "@jupyter-widgets/controls",
     "model_name": "FloatProgressModel",
     "state": {
      "_dom_classes": [],
      "_model_module": "@jupyter-widgets/controls",
      "_model_module_version": "1.5.0",
      "_model_name": "FloatProgressModel",
      "_view_count": null,
      "_view_module": "@jupyter-widgets/controls",
      "_view_module_version": "1.5.0",
      "_view_name": "ProgressView",
      "bar_style": "success",
      "description": "100%",
      "description_tooltip": null,
      "layout": "IPY_MODEL_0b02674a8ea344c0b19602ff4c4f85ba",
      "max": 574673361,
      "min": 0,
      "orientation": "horizontal",
      "style": "IPY_MODEL_9f9d541e3c0647c4b27057d38ea82b91",
      "value": 574673361
     }
    },
    "4903cae2999444e898f216412f002e56": {
     "model_module": "@jupyter-widgets/controls",
     "model_name": "HBoxModel",
     "state": {
      "_dom_classes": [],
      "_model_module": "@jupyter-widgets/controls",
      "_model_module_version": "1.5.0",
      "_model_name": "HBoxModel",
      "_view_count": null,
      "_view_module": "@jupyter-widgets/controls",
      "_view_module_version": "1.5.0",
      "_view_name": "HBoxView",
      "box_style": "",
      "children": [
       "IPY_MODEL_47e74e788d1d457ab2305706f49bb68f",
       "IPY_MODEL_ed8577d1a112450699a26e8e2368e057"
      ],
      "layout": "IPY_MODEL_ae9cbcb89d364fd0b35d5c37eb52c312"
     }
    },
    "9f9d541e3c0647c4b27057d38ea82b91": {
     "model_module": "@jupyter-widgets/controls",
     "model_name": "ProgressStyleModel",
     "state": {
      "_model_module": "@jupyter-widgets/controls",
      "_model_module_version": "1.5.0",
      "_model_name": "ProgressStyleModel",
      "_view_count": null,
      "_view_module": "@jupyter-widgets/base",
      "_view_module_version": "1.2.0",
      "_view_name": "StyleView",
      "bar_color": null,
      "description_width": "initial"
     }
    },
    "ae9cbcb89d364fd0b35d5c37eb52c312": {
     "model_module": "@jupyter-widgets/base",
     "model_name": "LayoutModel",
     "state": {
      "_model_module": "@jupyter-widgets/base",
      "_model_module_version": "1.2.0",
      "_model_name": "LayoutModel",
      "_view_count": null,
      "_view_module": "@jupyter-widgets/base",
      "_view_module_version": "1.2.0",
      "_view_name": "LayoutView",
      "align_content": null,
      "align_items": null,
      "align_self": null,
      "border": null,
      "bottom": null,
      "display": null,
      "flex": null,
      "flex_flow": null,
      "grid_area": null,
      "grid_auto_columns": null,
      "grid_auto_flow": null,
      "grid_auto_rows": null,
      "grid_column": null,
      "grid_gap": null,
      "grid_row": null,
      "grid_template_areas": null,
      "grid_template_columns": null,
      "grid_template_rows": null,
      "height": null,
      "justify_content": null,
      "justify_items": null,
      "left": null,
      "margin": null,
      "max_height": null,
      "max_width": null,
      "min_height": null,
      "min_width": null,
      "object_fit": null,
      "object_position": null,
      "order": null,
      "overflow": null,
      "overflow_x": null,
      "overflow_y": null,
      "padding": null,
      "right": null,
      "top": null,
      "visibility": null,
      "width": null
     }
    },
    "ca8859815b414cc0a4a219b6e04de392": {
     "model_module": "@jupyter-widgets/controls",
     "model_name": "DescriptionStyleModel",
     "state": {
      "_model_module": "@jupyter-widgets/controls",
      "_model_module_version": "1.5.0",
      "_model_name": "DescriptionStyleModel",
      "_view_count": null,
      "_view_module": "@jupyter-widgets/base",
      "_view_module_version": "1.2.0",
      "_view_name": "StyleView",
      "description_width": ""
     }
    },
    "ed8577d1a112450699a26e8e2368e057": {
     "model_module": "@jupyter-widgets/controls",
     "model_name": "HTMLModel",
     "state": {
      "_dom_classes": [],
      "_model_module": "@jupyter-widgets/controls",
      "_model_module_version": "1.5.0",
      "_model_name": "HTMLModel",
      "_view_count": null,
      "_view_module": "@jupyter-widgets/controls",
      "_view_module_version": "1.5.0",
      "_view_name": "HTMLView",
      "description": "",
      "description_tooltip": null,
      "layout": "IPY_MODEL_048a880eda424f71b392e6c2cc854564",
      "placeholder": "​",
      "style": "IPY_MODEL_ca8859815b414cc0a4a219b6e04de392",
      "value": " 548M/548M [01:07&lt;00:00, 8.48MB/s]"
     }
    }
   }
  }
 },
 "nbformat": 4,
 "nbformat_minor": 1
}
