{
 "cells": [
  {
   "cell_type": "markdown",
   "metadata": {},
   "source": [
    "<a href=\"https://colab.research.google.com/github/Tessellate-Imaging/monk_v1/blob/master/study_roadmaps/4_image_classification_zoo/Classifier%20-%20Blood%20Cell%20Type%20Classification_%20Understanding%20the%20impact%20of%20depth%20in%20network.ipynb\" target=\"_parent\"><img src=\"https://colab.research.google.com/assets/colab-badge.svg\" alt=\"Open In Colab\"/></a>"
   ]
  },
  {
   "cell_type": "code",
   "execution_count": null,
   "metadata": {},
   "outputs": [],
   "source": []
  },
  {
   "cell_type": "markdown",
   "metadata": {},
   "source": [
    "# Goals\n",
    "\n",
    "\n",
    "## Install Monk\n",
    "\n",
    "\n",
    "## Using pretrained model for intel image classification dataset\n",
    "\n",
    "\n",
    "## Training a classifier from scratch\n",
    "\n",
    "  - Train a blood cell type classifier using resnet variants\n",
    "\n",
    "  - Understand what all differences happen when switching between resnets variants \n",
    "\n",
    "  - Understand bigger and deeper network not always means better results\n",
    "\n",
    "  - For this experiment you will be using mxnet backend"
   ]
  },
  {
   "cell_type": "code",
   "execution_count": null,
   "metadata": {},
   "outputs": [],
   "source": []
  },
  {
   "cell_type": "markdown",
   "metadata": {},
   "source": [
    "<a id='0'></a>\n",
    "# Install Monk"
   ]
  },
  {
   "cell_type": "markdown",
   "metadata": {},
   "source": [
    "## Using pip (Recommended)\n",
    "\n",
    "  - colab (gpu) \n",
    "      - All bakcends: `pip install -U monk-colab`\n",
    "      \n",
    "\n",
    "  - kaggle (gpu) \n",
    "      - All backends: `pip install -U monk-kaggle`\n",
    "      \n",
    "\n",
    "  - cuda 10.2\t\n",
    "      - All backends: `pip install -U monk-cuda102`\n",
    "      - Gluon bakcned: `pip install -U monk-gluon-cuda102`\n",
    "\t  - Pytorch backend: `pip install -U monk-pytorch-cuda102`\n",
    "      - Keras backend: `pip install -U monk-keras-cuda102`\n",
    "      \n",
    "\n",
    "  - cuda 10.1\t\n",
    "      - All backend: `pip install -U monk-cuda101`\n",
    "\t  - Gluon bakcned: `pip install -U monk-gluon-cuda101`\n",
    "\t  - Pytorch backend: `pip install -U monk-pytorch-cuda101`\n",
    "\t  - Keras backend: `pip install -U monk-keras-cuda101`\n",
    "      \n",
    "\n",
    "  - cuda 10.0\t\n",
    "      - All backend: `pip install -U monk-cuda100`\n",
    "\t  - Gluon bakcned: `pip install -U monk-gluon-cuda100`\n",
    "\t  - Pytorch backend: `pip install -U monk-pytorch-cuda100`\n",
    "\t  - Keras backend: `pip install -U monk-keras-cuda100`\n",
    "      \n",
    "\n",
    "  - cuda 9.2\t\n",
    "      - All backend: `pip install -U monk-cuda92`\n",
    "\t  - Gluon bakcned: `pip install -U monk-gluon-cuda92`\n",
    "\t  - Pytorch backend: `pip install -U monk-pytorch-cuda92`\n",
    "\t  - Keras backend: `pip install -U monk-keras-cuda92`\n",
    "      \n",
    "\n",
    "  - cuda 9.0\t\n",
    "      - All backend: `pip install -U monk-cuda90`\n",
    "\t  - Gluon bakcned: `pip install -U monk-gluon-cuda90`\n",
    "\t  - Pytorch backend: `pip install -U monk-pytorch-cuda90`\n",
    "\t  - Keras backend: `pip install -U monk-keras-cuda90`\n",
    "      \n",
    "\n",
    "  - cpu \t\t\n",
    "      - All backend: `pip install -U monk-cpu`\n",
    "\t  - Gluon bakcned: `pip install -U monk-gluon-cpu`\n",
    "\t  - Pytorch backend: `pip install -U monk-pytorch-cpu`\n",
    "\t  - Keras backend: `pip install -U monk-keras-cpu`"
   ]
  },
  {
   "cell_type": "code",
   "execution_count": null,
   "metadata": {},
   "outputs": [],
   "source": []
  },
  {
   "cell_type": "markdown",
   "metadata": {},
   "source": [
    "## Install Monk Manually (Not recommended)\n",
    " \n",
    "### Step 1: Clone the library\n",
    " - git clone https://github.com/Tessellate-Imaging/monk_v1.git\n",
    " \n",
    " \n",
    " \n",
    " \n",
    "### Step 2: Install requirements \n",
    " - Linux\n",
    "     - Cuda 9.0\n",
    "         - `cd monk_v1/installation/Linux && pip install -r requirements_cu90.txt`\n",
    "     - Cuda 9.2\n",
    "         - `cd monk_v1/installation/Linux && pip install -r requirements_cu92.txt`\n",
    "     - Cuda 10.0\n",
    "         - `cd monk_v1/installation/Linux && pip install -r requirements_cu100.txt`\n",
    "     - Cuda 10.1\n",
    "         - `cd monk_v1/installation/Linux && pip install -r requirements_cu101.txt`\n",
    "     - Cuda 10.2\n",
    "         - `cd monk_v1/installation/Linux && pip install -r requirements_cu102.txt`\n",
    "     - CPU (Non gpu system)\n",
    "         - `cd monk_v1/installation/Linux && pip install -r requirements_cpu.txt`\n",
    " \n",
    " \n",
    "  - Windows\n",
    "     - Cuda 9.0 (Experimental support)\n",
    "         - `cd monk_v1/installation/Windows && pip install -r requirements_cu90.txt`\n",
    "     - Cuda 9.2 (Experimental support)\n",
    "         - `cd monk_v1/installation/Windows && pip install -r requirements_cu92.txt`\n",
    "     - Cuda 10.0 (Experimental support)\n",
    "         - `cd monk_v1/installation/Windows && pip install -r requirements_cu100.txt`\n",
    "     - Cuda 10.1 (Experimental support)\n",
    "         - `cd monk_v1/installation/Windows && pip install -r requirements_cu101.txt`\n",
    "     - Cuda 10.2 (Experimental support)\n",
    "         - `cd monk_v1/installation/Windows && pip install -r requirements_cu102.txt`\n",
    "     - CPU (Non gpu system)\n",
    "         - `cd monk_v1/installation/Windows && pip install -r requirements_cpu.txt`\n",
    "         \n",
    "         \n",
    "  - Mac\n",
    "     - CPU (Non gpu system)\n",
    "         - `cd monk_v1/installation/Mac && pip install -r requirements_cpu.txt`\n",
    "         \n",
    "         \n",
    "  - Misc\n",
    "      - Colab (GPU)\n",
    "          - `cd monk_v1/installation/Misc && pip install -r requirements_colab.txt`\n",
    "      - Kaggle (GPU)\n",
    "          - `cd monk_v1/installation/Misc && pip install -r requirements_kaggle.txt`\n",
    " \n",
    " \n",
    " \n",
    "### Step 3: Add to system path (Required for every terminal or kernel run)\n",
    " - `import sys`\n",
    " - `sys.path.append(\"monk_v1/\");`"
   ]
  },
  {
   "cell_type": "markdown",
   "metadata": {},
   "source": [
    "# Used trained classifier for demo"
   ]
  },
  {
   "cell_type": "code",
   "execution_count": 1,
   "metadata": {},
   "outputs": [],
   "source": [
    "#Using mxnet-gluon backend \n",
    "\n",
    "# When installed using pip\n",
    "from monk.gluon_prototype import prototype\n",
    "\n",
    "\n",
    "# When installed manually (Uncomment the following)\n",
    "#import os\n",
    "#import sys\n",
    "#sys.path.append(\"monk_v1/\");\n",
    "#sys.path.append(\"monk_v1/monk/\");\n",
    "#from monk.gluon_prototype import prototype"
   ]
  },
  {
   "cell_type": "code",
   "execution_count": 2,
   "metadata": {},
   "outputs": [],
   "source": [
    "# Download trained weights"
   ]
  },
  {
   "cell_type": "code",
   "execution_count": null,
   "metadata": {},
   "outputs": [],
   "source": [
    "! wget --load-cookies /tmp/cookies.txt \"https://docs.google.com/uc?export=download&confirm=$(wget --save-cookies /tmp/cookies.txt --keep-session-cookies --no-check-certificate 'https://docs.google.com/uc?export=download&id=1-VM79cjlQwfcRzIQ5Y-bTUDzlMbM0LAL' -O- | sed -rn 's/.*confirm=([0-9A-Za-z_]+).*/\\1\\n/p')&id=1-VM79cjlQwfcRzIQ5Y-bTUDzlMbM0LAL\" -O cls_blood_cells_trained.zip && rm -rf /tmp/cookies.txt"
   ]
  },
  {
   "cell_type": "code",
   "execution_count": 4,
   "metadata": {},
   "outputs": [],
   "source": [
    "! unzip -qq cls_blood_cells_trained.zip "
   ]
  },
  {
   "cell_type": "code",
   "execution_count": 5,
   "metadata": {},
   "outputs": [
    {
     "name": "stdout",
     "output_type": "stream",
     "text": [
      "\u001b[0m\u001b[01;34mresnet18-v1\u001b[0m/  \u001b[01;34mresnet34-v1\u001b[0m/  \u001b[01;34mresnet50v1\u001b[0m/\r\n"
     ]
    }
   ],
   "source": [
    "ls workspace/Project-Blood-Cells"
   ]
  },
  {
   "cell_type": "code",
   "execution_count": 6,
   "metadata": {},
   "outputs": [
    {
     "name": "stdout",
     "output_type": "stream",
     "text": [
      "Mxnet Version: 1.5.1\n",
      "\n",
      "Model Details\n",
      "    Loading model - workspace/Project-Blood-Cells/resnet18-v1/output/models/final-symbol.json\n",
      "    Model loaded!\n",
      "\n",
      "Experiment Details\n",
      "    Project: Project-Blood-Cells\n",
      "    Experiment: resnet18-v1\n",
      "    Dir: /home/ubuntu/Desktop/cls/workspace/Project-Blood-Cells/resnet18-v1/\n",
      "\n"
     ]
    }
   ],
   "source": [
    "# Load project in inference mode\n",
    "\n",
    "gtf = prototype(verbose=1);\n",
    "gtf.Prototype(\"Project-Blood-Cells\", \"resnet18-v1\", eval_infer=True);\n",
    "\n",
    "#Other trained models - uncomment \n",
    "#gtf.Prototype(\"Project-Blood-Cells\", \"resnet34-v1\", eval_infer=True);\n",
    "#gtf.Prototype(\"Project-Blood-Cells\", \"resnet50-v1\", eval_infer=True);"
   ]
  },
  {
   "cell_type": "code",
   "execution_count": 7,
   "metadata": {},
   "outputs": [],
   "source": [
    "# Infer"
   ]
  },
  {
   "cell_type": "code",
   "execution_count": 8,
   "metadata": {},
   "outputs": [
    {
     "name": "stdout",
     "output_type": "stream",
     "text": [
      "Prediction\n",
      "    Image name:         workspace/test/test1.jpeg\n",
      "    Predicted class:      EOSINOPHIL\n",
      "    Predicted score:      0.9841950535774231\n",
      "\n"
     ]
    },
    {
     "data": {
      "image/jpeg": "[encoded data removed]",
      "text/plain": [
       "<IPython.core.display.Image object>"
      ]
     },
     "execution_count": 8,
     "metadata": {},
     "output_type": "execute_result"
    }
   ],
   "source": [
    "img_name = \"workspace/test/test1.jpeg\"\n",
    "predictions = gtf.Infer(img_name=img_name);\n",
    "from IPython.display import Image\n",
    "Image(filename=img_name) "
   ]
  },
  {
   "cell_type": "code",
   "execution_count": 9,
   "metadata": {},
   "outputs": [
    {
     "name": "stdout",
     "output_type": "stream",
     "text": [
      "Prediction\n",
      "    Image name:         workspace/test/test3.jpeg\n",
      "    Predicted class:      LYMPHOCYTE\n",
      "    Predicted score:      0.9999856948852539\n",
      "\n"
     ]
    },
    {
     "data": {
      "image/jpeg": "[encoded data removed]",
      "text/plain": [
       "<IPython.core.display.Image object>"
      ]
     },
     "execution_count": 9,
     "metadata": {},
     "output_type": "execute_result"
    }
   ],
   "source": [
    "img_name = \"workspace/test/test3.jpeg\"\n",
    "predictions = gtf.Infer(img_name=img_name);\n",
    "from IPython.display import Image\n",
    "Image(filename=img_name) "
   ]
  },
  {
   "cell_type": "code",
   "execution_count": null,
   "metadata": {},
   "outputs": [],
   "source": []
  },
  {
   "cell_type": "markdown",
   "metadata": {},
   "source": [
    "# Training custom classifier from scratch"
   ]
  },
  {
   "cell_type": "code",
   "execution_count": null,
   "metadata": {},
   "outputs": [],
   "source": []
  },
  {
   "cell_type": "markdown",
   "metadata": {},
   "source": [
    "# What is resnet\n",
    "\n",
    "## Readings on resnet\n",
    "\n",
    "  1) Points from https://towardsdatascience.com/an-overview-of-resnet-and-its-variants-5281e2f56035\n",
    "    - The core idea of ResNet is introducing a so-called “identity shortcut connection” that skips one or more layers\n",
    "    - The deeper model should not produce a training error higher than its shallower counterparts.\n",
    "    - solves the problem of vanishing gradiens as network depth increased - https://medium.com/@anishsingh20/the-vanishing-gradient-problem-48ae7f501257\n",
    "    \n",
    "    \n",
    " \n",
    "  2) Points from https://medium.com/@14prakash/understanding-and-implementing-architectures-of-resnet-and-resnext-for-state-of-the-art-image-cf51669e1624\n",
    "    - Won 1st place in the ILSVRC 2015 classification competition with top-5 error rate of 3.57% (An ensemble model)\n",
    "    - Efficiently trained networks with 100 layers and 1000 layers also.\n",
    "    - Replacing VGG-16 layers in Faster R-CNN with ResNet-101. They observed a relative improvements of 28%\n",
    "    \n",
    "\n",
    "  3) Read more here\n",
    "    - https://arxiv.org/abs/1512.03385\n",
    "    - https://d2l.ai/chapter_convolutional-modern/resnet.html\n",
    "    - https://cv-tricks.com/keras/understand-implement-resnets/\n",
    "    - https://mc.ai/resnet-architecture-explained/\n",
    "\n",
    "\n"
   ]
  },
  {
   "cell_type": "code",
   "execution_count": null,
   "metadata": {},
   "outputs": [],
   "source": []
  },
  {
   "cell_type": "markdown",
   "metadata": {},
   "source": [
    "# Upcoming Contents\n",
    "\n",
    "\n",
    "## [1. Train experiment with resnet-18 architecture and validate](#1)\n",
    "\n",
    "\n",
    "## [2. Train experiment with resnet-32 architecture and validate](#2)\n",
    "\n",
    "\n",
    "## [3. Train experiment with resnet-50 architecture and validate](#3)\n",
    "\n",
    "\n",
    "## [4. Train experiment with resnet-101 architecture and validate](#4)\n",
    "\n",
    "\n",
    "## [5. Train experiment with resnet-152 architecture and validate](#5)\n",
    "\n",
    "\n",
    "## [6. Compare all the 4 experiments](#11)"
   ]
  },
  {
   "cell_type": "code",
   "execution_count": null,
   "metadata": {},
   "outputs": [],
   "source": []
  },
  {
   "cell_type": "markdown",
   "metadata": {},
   "source": [
    "## Dataset - Blood Cell Type Classification\n",
    "    - https://www.kaggle.com/paultimothymooney/blood-cells"
   ]
  },
  {
   "cell_type": "code",
   "execution_count": null,
   "metadata": {},
   "outputs": [],
   "source": [
    "! wget --load-cookies /tmp/cookies.txt \"https://docs.google.com/uc?export=download&confirm=$(wget --save-cookies /tmp/cookies.txt --keep-session-cookies --no-check-certificate 'https://docs.google.com/uc?export=download&id=1KhXKL58mnXL1G1uRDsCmCXMk7ubwXjps' -O- | sed -rn 's/.*confirm=([0-9A-Za-z_]+).*/\\1\\n/p')&id=1KhXKL58mnXL1G1uRDsCmCXMk7ubwXjps\" -O blood-cells.zip && rm -rf /tmp/cookies.txt"
   ]
  },
  {
   "cell_type": "code",
   "execution_count": null,
   "metadata": {},
   "outputs": [],
   "source": [
    "! unzip -qq blood-cells.zip"
   ]
  },
  {
   "cell_type": "code",
   "execution_count": null,
   "metadata": {},
   "outputs": [],
   "source": []
  },
  {
   "cell_type": "markdown",
   "metadata": {},
   "source": [
    "# Imports"
   ]
  },
  {
   "cell_type": "code",
   "execution_count": null,
   "metadata": {},
   "outputs": [],
   "source": [
    "#Using mxnet-gluon backend \n",
    "\n",
    "# When installed using pip\n",
    "from monk.gluon_prototype import prototype\n",
    "\n",
    "\n",
    "# When installed manually (Uncomment the following)\n",
    "#import os\n",
    "#import sys\n",
    "#sys.path.append(\"monk_v1/\");\n",
    "#sys.path.append(\"monk_v1/monk/\");\n",
    "#from monk.gluon_prototype import prototype"
   ]
  },
  {
   "cell_type": "code",
   "execution_count": null,
   "metadata": {},
   "outputs": [],
   "source": []
  },
  {
   "cell_type": "markdown",
   "metadata": {},
   "source": [
    "<a id='1'></a>\n",
    "# Train experiment with resnet-18 architecture and validate"
   ]
  },
  {
   "cell_type": "code",
   "execution_count": null,
   "metadata": {},
   "outputs": [],
   "source": [
    "# Load experiment\n",
    "\n",
    "gtf = prototype(verbose=1);\n",
    "gtf.Prototype(\"Compare-resnet-v1-depth\", \"resnet18-v1\");\n",
    "\n",
    "\n",
    "# Insert data and set params in default mode\n",
    "gtf.Default(dataset_path=\"blood-cells/train\", \n",
    "            model_name=\"resnet18_v1\", \n",
    "            freeze_base_network=False,\n",
    "            num_epochs=5);\n"
   ]
  },
  {
   "cell_type": "code",
   "execution_count": null,
   "metadata": {},
   "outputs": [],
   "source": [
    "#Start Training\n",
    "gtf.Train();\n",
    "\n",
    "#Read the training summary generated once you run the cell and training is completed\n"
   ]
  },
  {
   "cell_type": "code",
   "execution_count": null,
   "metadata": {},
   "outputs": [],
   "source": [
    "# Load for validation\n",
    "\n",
    "gtf = prototype(verbose=1);\n",
    "gtf.Prototype(\"Compare-resnet-v1-depth\", \"resnet18-v1\", eval_infer=True);\n",
    "\n",
    "\n",
    "# Set dataset\n",
    "gtf.Dataset_Params(dataset_path=\"blood-cells/val\");\n",
    "gtf.Dataset();\n",
    "\n",
    "\n",
    "# Validate\n",
    "accuracy, class_based_accuracy = gtf.Evaluate();"
   ]
  },
  {
   "cell_type": "code",
   "execution_count": null,
   "metadata": {},
   "outputs": [],
   "source": []
  },
  {
   "cell_type": "markdown",
   "metadata": {},
   "source": [
    "<a id='2'></a>\n",
    "# Train experiment with resnet-34 architecture and validate"
   ]
  },
  {
   "cell_type": "code",
   "execution_count": null,
   "metadata": {},
   "outputs": [],
   "source": [
    "# Load experiment\n",
    "\n",
    "gtf = prototype(verbose=1);\n",
    "gtf.Prototype(\"Compare-resnet-v1-depth\", \"resnet34-v1\");\n",
    "\n",
    "\n",
    "# Insert data and set params in default mode\n",
    "gtf.Default(dataset_path=\"blood-cells/train\", \n",
    "            model_name=\"resnet34_v1\", \n",
    "            freeze_base_network=False,\n",
    "            num_epochs=5);"
   ]
  },
  {
   "cell_type": "code",
   "execution_count": null,
   "metadata": {},
   "outputs": [],
   "source": [
    "#Start Training\n",
    "gtf.Train();\n",
    "\n",
    "#Read the training summary generated once you run the cell and training is completed"
   ]
  },
  {
   "cell_type": "code",
   "execution_count": null,
   "metadata": {},
   "outputs": [],
   "source": [
    "# Load for validation\n",
    "\n",
    "gtf = prototype(verbose=1);\n",
    "gtf.Prototype(\"Compare-resnet-v1-depth\", \"resnet34-v1\", eval_infer=True);\n",
    "\n",
    "\n",
    "# Set dataset\n",
    "gtf.Dataset_Params(dataset_path=\"blood-cells/val\");\n",
    "gtf.Dataset();\n",
    "\n",
    "\n",
    "# Validate\n",
    "accuracy, class_based_accuracy = gtf.Evaluate();"
   ]
  },
  {
   "cell_type": "code",
   "execution_count": null,
   "metadata": {},
   "outputs": [],
   "source": []
  },
  {
   "cell_type": "markdown",
   "metadata": {},
   "source": [
    "<a id='3'></a>\n",
    "# Train experiment with resnet-50 architecture and validate"
   ]
  },
  {
   "cell_type": "code",
   "execution_count": null,
   "metadata": {},
   "outputs": [],
   "source": [
    "# Load experiment\n",
    "\n",
    "gtf = prototype(verbose=1);\n",
    "gtf.Prototype(\"Compare-resnet-v1-depth\", \"resnet50-v1\");\n",
    "\n",
    "\n",
    "# Insert data and set params in default mode\n",
    "gtf.Default(dataset_path=\"blood-cells/train\", \n",
    "            model_name=\"resnet50_v1\", \n",
    "            freeze_base_network=False,\n",
    "            num_epochs=5);"
   ]
  },
  {
   "cell_type": "code",
   "execution_count": null,
   "metadata": {},
   "outputs": [],
   "source": [
    "#Start Training\n",
    "gtf.Train();\n",
    "\n",
    "#Read the training summary generated once you run the cell and training is completed"
   ]
  },
  {
   "cell_type": "code",
   "execution_count": null,
   "metadata": {},
   "outputs": [],
   "source": [
    "# Load for validation\n",
    "\n",
    "gtf = prototype(verbose=1);\n",
    "gtf.Prototype(\"Compare-resnet-v1-depth\", \"resnet50-v1\", eval_infer=True);\n",
    "\n",
    "\n",
    "# Set dataset\n",
    "gtf.Dataset_Params(dataset_path=\"blood-cells/val\");\n",
    "gtf.Dataset();\n",
    "\n",
    "\n",
    "# Validate\n",
    "accuracy, class_based_accuracy = gtf.Evaluate();"
   ]
  },
  {
   "cell_type": "code",
   "execution_count": null,
   "metadata": {},
   "outputs": [],
   "source": []
  },
  {
   "cell_type": "markdown",
   "metadata": {},
   "source": [
    "<a id='4'></a>\n",
    "# Train experiment with resnet-101 architecture and validate"
   ]
  },
  {
   "cell_type": "code",
   "execution_count": null,
   "metadata": {},
   "outputs": [],
   "source": [
    "# Load experiment\n",
    "\n",
    "gtf = prototype(verbose=1);\n",
    "gtf.Prototype(\"Compare-resnet-v1-depth\", \"resnet101-v1\");\n",
    "\n",
    "\n",
    "# Insert data and set params in default mode\n",
    "gtf.Default(dataset_path=\"blood-cells/train\", \n",
    "            model_name=\"resnet101_v1\", \n",
    "            freeze_base_network=False,\n",
    "            num_epochs=5);"
   ]
  },
  {
   "cell_type": "code",
   "execution_count": null,
   "metadata": {},
   "outputs": [],
   "source": [
    "#Start Training\n",
    "gtf.Train();\n",
    "\n",
    "#Read the training summary generated once you run the cell and training is completed"
   ]
  },
  {
   "cell_type": "code",
   "execution_count": null,
   "metadata": {},
   "outputs": [],
   "source": [
    "# Load for validation\n",
    "\n",
    "gtf = prototype(verbose=1);\n",
    "gtf.Prototype(\"Compare-resnet-v1-depth\", \"resnet101-v1\", eval_infer=True);\n",
    "\n",
    "\n",
    "# Set dataset\n",
    "gtf.Dataset_Params(dataset_path=\"blood-cells/val\");\n",
    "gtf.Dataset();\n",
    "\n",
    "\n",
    "# Validate\n",
    "accuracy, class_based_accuracy = gtf.Evaluate();"
   ]
  },
  {
   "cell_type": "code",
   "execution_count": null,
   "metadata": {},
   "outputs": [],
   "source": []
  },
  {
   "cell_type": "markdown",
   "metadata": {},
   "source": [
    "<a id='5'></a>\n",
    "# Train experiment with resnet-152 architecture and validate"
   ]
  },
  {
   "cell_type": "code",
   "execution_count": null,
   "metadata": {},
   "outputs": [],
   "source": [
    "# Load experiment\n",
    "\n",
    "gtf = prototype(verbose=1);\n",
    "gtf.Prototype(\"Compare-resnet-v1-depth\", \"resnet152-v1\");\n",
    "\n",
    "\n",
    "# Insert data and set params in default mode\n",
    "gtf.Default(dataset_path=\"blood-cells/train\", \n",
    "            model_name=\"resnet152_v1\", \n",
    "            freeze_base_network=False,\n",
    "            num_epochs=5);"
   ]
  },
  {
   "cell_type": "code",
   "execution_count": null,
   "metadata": {},
   "outputs": [],
   "source": [
    "#Start Training\n",
    "gtf.Train();\n",
    "\n",
    "#Read the training summary generated once you run the cell and training is completed"
   ]
  },
  {
   "cell_type": "code",
   "execution_count": null,
   "metadata": {},
   "outputs": [],
   "source": [
    "# Load for validation\n",
    "\n",
    "gtf = prototype(verbose=1);\n",
    "gtf.Prototype(\"Compare-resnet-v1-depth\", \"resnet152-v1\", eval_infer=True);\n",
    "\n",
    "\n",
    "# Set dataset\n",
    "gtf.Dataset_Params(dataset_path=\"blood-cells/val\");\n",
    "gtf.Dataset();\n",
    "\n",
    "\n",
    "# Validate\n",
    "accuracy, class_based_accuracy = gtf.Evaluate();"
   ]
  },
  {
   "cell_type": "code",
   "execution_count": null,
   "metadata": {},
   "outputs": [],
   "source": []
  },
  {
   "cell_type": "markdown",
   "metadata": {},
   "source": [
    "<a id='11'></a>\n",
    "# Comparing all the experiments"
   ]
  },
  {
   "cell_type": "code",
   "execution_count": null,
   "metadata": {},
   "outputs": [],
   "source": [
    "# Invoke the comparison class\n",
    "from monk.compare_prototype import compare"
   ]
  },
  {
   "cell_type": "markdown",
   "metadata": {},
   "source": [
    "### Creating and managing comparison experiments\n",
    "        - Provide project name"
   ]
  },
  {
   "cell_type": "code",
   "execution_count": null,
   "metadata": {},
   "outputs": [],
   "source": [
    "# Create a project \n",
    "gtf = compare(verbose=1);\n",
    "gtf.Comparison(\"Compare-effect-of-network-depth\");"
   ]
  },
  {
   "cell_type": "markdown",
   "metadata": {},
   "source": [
    "### This creates files and directories as per the following structure\n",
    "    \n",
    "    workspace\n",
    "        |\n",
    "        |--------comparison\n",
    "                        |\n",
    "                        |\n",
    "                        |-----Compare-effect-of-network-depth\n",
    "                                    |\n",
    "                                    |------stats_best_val_acc.png\n",
    "                                    |------stats_max_gpu_usage.png\n",
    "                                    |------stats_training_time.png\n",
    "                                    |------train_accuracy.png\n",
    "                                    |------train_loss.png\n",
    "                                    |------val_accuracy.png\n",
    "                                    |------val_loss.png\n",
    "                                    \n",
    "                        |\n",
    "                        |-----comparison.csv (Contains necessary details of all experiments)"
   ]
  },
  {
   "cell_type": "markdown",
   "metadata": {},
   "source": [
    "### Add the experiments\n",
    "        - First argument - Project name\n",
    "        - Second argument - Experiment name"
   ]
  },
  {
   "cell_type": "code",
   "execution_count": null,
   "metadata": {},
   "outputs": [],
   "source": [
    "gtf.Add_Experiment(\"Compare-resnet-v1-depth\", \"resnet18-v1\");\n",
    "gtf.Add_Experiment(\"Compare-resnet-v1-depth\", \"resnet34-v1\");\n",
    "gtf.Add_Experiment(\"Compare-resnet-v1-depth\", \"resnet50-v1\");\n",
    "gtf.Add_Experiment(\"Compare-resnet-v1-depth\", \"resnet101-v1\");\n",
    "gtf.Add_Experiment(\"Compare-resnet-v1-depth\", \"resnet152-v1\");"
   ]
  },
  {
   "cell_type": "markdown",
   "metadata": {},
   "source": [
    "## Run Analysis"
   ]
  },
  {
   "cell_type": "code",
   "execution_count": null,
   "metadata": {},
   "outputs": [],
   "source": [
    "gtf.Generate_Statistics();"
   ]
  },
  {
   "cell_type": "markdown",
   "metadata": {},
   "source": [
    "## Visualize and study comparison metrics"
   ]
  },
  {
   "cell_type": "markdown",
   "metadata": {},
   "source": [
    "### Training Accuracy Curves"
   ]
  },
  {
   "cell_type": "code",
   "execution_count": null,
   "metadata": {},
   "outputs": [],
   "source": [
    "from IPython.display import Image\n",
    "Image(filename=\"workspace/comparison/Compare-effect-of-network-depth/train_accuracy.png\") "
   ]
  },
  {
   "cell_type": "markdown",
   "metadata": {},
   "source": [
    "### Training Loss Curves"
   ]
  },
  {
   "cell_type": "code",
   "execution_count": null,
   "metadata": {},
   "outputs": [],
   "source": [
    "from IPython.display import Image\n",
    "Image(filename=\"workspace/comparison/Compare-effect-of-network-depth/train_loss.png\") "
   ]
  },
  {
   "cell_type": "markdown",
   "metadata": {},
   "source": [
    "### Validation Accuracy Curves"
   ]
  },
  {
   "cell_type": "code",
   "execution_count": null,
   "metadata": {},
   "outputs": [],
   "source": [
    "from IPython.display import Image\n",
    "Image(filename=\"workspace/comparison/Compare-effect-of-network-depth/val_accuracy.png\") "
   ]
  },
  {
   "cell_type": "markdown",
   "metadata": {},
   "source": [
    "### Validation loss curves"
   ]
  },
  {
   "cell_type": "code",
   "execution_count": null,
   "metadata": {},
   "outputs": [],
   "source": [
    "from IPython.display import Image\n",
    "Image(filename=\"workspace/comparison/Compare-effect-of-network-depth/val_loss.png\") "
   ]
  },
  {
   "cell_type": "markdown",
   "metadata": {},
   "source": [
    "### Training Times and max gpu usages"
   ]
  },
  {
   "cell_type": "code",
   "execution_count": null,
   "metadata": {},
   "outputs": [],
   "source": [
    "from IPython.display import Image\n",
    "Image(filename=\"workspace/comparison/Compare-effect-of-network-depth/stats_training_time.png\") "
   ]
  },
  {
   "cell_type": "code",
   "execution_count": null,
   "metadata": {},
   "outputs": [],
   "source": [
    "from IPython.display import Image\n",
    "Image(filename=\"workspace/comparison/Compare-effect-of-network-depth/stats_max_gpu_usage.png\") "
   ]
  },
  {
   "cell_type": "code",
   "execution_count": null,
   "metadata": {},
   "outputs": [],
   "source": []
  },
  {
   "cell_type": "markdown",
   "metadata": {},
   "source": [
    "# Comparisons \n",
    "#### You may get differet results\n",
    "\n",
    "    Network      | Val Acc | Training time (sec)  |  Gpu Usage (mb)\n",
    "    \n",
    "    \n",
    "    resnet-18    |  88.1   |        220           |       1250\n",
    "    \n",
    "    \n",
    "    resnet-34    |  87.4   |        310           |       1600\n",
    "    \n",
    "    \n",
    "    \n",
    "    resnet-50    |  88.4   |        580           |       2250\n",
    "    \n",
    "    \n",
    "    \n",
    "    resnet-101   |  86.2   |        840           |       2600\n",
    "    \n",
    "    \n",
    "    \n",
    "    resnet-152   |  85.8   |        1120          |       3700\n",
    "    \n",
    "    \n",
    "    "
   ]
  },
  {
   "cell_type": "code",
   "execution_count": null,
   "metadata": {},
   "outputs": [],
   "source": []
  }
 ],
 "metadata": {
  "kernelspec": {
   "display_name": "Python 3",
   "language": "python",
   "name": "python3"
  },
  "language_info": {
   "codemirror_mode": {
    "name": "ipython",
    "version": 3
   },
   "file_extension": ".py",
   "mimetype": "text/x-python",
   "name": "python",
   "nbconvert_exporter": "python",
   "pygments_lexer": "ipython3",
   "version": "3.6.9"
  }
 },
 "nbformat": 4,
 "nbformat_minor": 2
}
